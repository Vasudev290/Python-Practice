{
 "cells": [
  {
   "cell_type": "code",
   "execution_count": 2,
   "id": "976557d2-c888-4a2c-986d-0d56392c876b",
   "metadata": {},
   "outputs": [
    {
     "name": "stdout",
     "output_type": "stream",
     "text": [
      "not marriage\n"
     ]
    }
   ],
   "source": [
    "#if statement\n",
    "sal = 30000\n",
    "if sal > 150000:\n",
    "    print(\"Marriage\")\n",
    "else:\n",
    "    print(\"not marriage\")"
   ]
  },
  {
   "cell_type": "code",
   "execution_count": 3,
   "id": "030b3358-cba9-49fe-ac0c-2f186608c171",
   "metadata": {},
   "outputs": [],
   "source": [
    "\n",
    "#syntex\n",
    "v=True\n",
    "if v :\n",
    "    pass\n",
    "else:\n",
    "    pass"
   ]
  },
  {
   "cell_type": "code",
   "execution_count": 4,
   "id": "5578c27d-6f8a-4fe9-80ee-78945c0e3cdc",
   "metadata": {},
   "outputs": [
    {
     "name": "stdin",
     "output_type": "stream",
     "text": [
      "Enter Value : 5\n"
     ]
    },
    {
     "name": "stdout",
     "output_type": "stream",
     "text": [
      "Odd number\n"
     ]
    }
   ],
   "source": [
    "#read number keyboard and print num even or odd\n",
    "num = int(input(\"Enter Value :\"))\n",
    "if num % 2 == 0:\n",
    "    print(\"Even number\")\n",
    "else:\n",
    "    print(\"Odd number\")"
   ]
  },
  {
   "cell_type": "code",
   "execution_count": 6,
   "id": "9dd3b09d-8065-43b2-8767-16caaf3e4a74",
   "metadata": {},
   "outputs": [
    {
     "name": "stdin",
     "output_type": "stream",
     "text": [
      "Enter the number 3\n"
     ]
    },
    {
     "name": "stdout",
     "output_type": "stream",
     "text": [
      "Wednesday\n"
     ]
    }
   ],
   "source": [
    "#elif if statement\n",
    "num= int(input(\"Enter the number\"))\n",
    "\n",
    "if num == 0:\n",
    "    print(\"Sunday\")\n",
    "elif num == 1:\n",
    "    print(\"Monday\")\n",
    "elif num == 2:\n",
    "    print(\"Tuesday\")\n",
    "elif num == 3:\n",
    "    print(\"Wednesday\")\n",
    "elif num == 4:\n",
    "    print(\"Thuesday\")\n",
    "elif num == 5:\n",
    "    print(\"Friday\")\n",
    "elif num == 6:\n",
    "    print(\"Saturday\")\n",
    "else:\n",
    "    print(\"Tommorow is saturday\")\n",
    "\n",
    "\n",
    "\n",
    "    "
   ]
  },
  {
   "cell_type": "code",
   "execution_count": 8,
   "id": "94674786-0d46-4a7e-8dde-bbb3119accdd",
   "metadata": {},
   "outputs": [
    {
     "name": "stdin",
     "output_type": "stream",
     "text": [
      "Enter the month : 11\n"
     ]
    },
    {
     "name": "stdout",
     "output_type": "stream",
     "text": [
      "Dec\n"
     ]
    }
   ],
   "source": [
    "#Different with months\n",
    "num = int(input(\"Enter the month :\"))\n",
    "if num == 0:\n",
    "    print(\"Jan\")\n",
    "elif num == 1:\n",
    "    print(\"Feb\")\n",
    "elif num == 2:\n",
    "    print(\"Mar\")\n",
    "elif num == 3:\n",
    "    print(\"Apr\")\n",
    "elif num == 4:\n",
    "    print(\"May\")\n",
    "elif num == 5:\n",
    "    print(\"Jun\")\n",
    "elif num == 6:\n",
    "    print(\"Jul\")\n",
    "elif num == 7:\n",
    "    print(\"Aug\")\n",
    "elif num == 8:\n",
    "    print(\"Sep\")\n",
    "elif num == 9:\n",
    "    print(\"Oct\")\n",
    "elif num == 10:\n",
    "    print(\"Nov\")\n",
    "elif num == 11:\n",
    "    print(\"Dec\")\n",
    "else:\n",
    "    print(\"This yaer is almost over broo!\")\n",
    "\n"
   ]
  },
  {
   "cell_type": "code",
   "execution_count": 10,
   "id": "c443c0b8-33cf-42fb-8380-90aa2d1c02d4",
   "metadata": {},
   "outputs": [
    {
     "name": "stdin",
     "output_type": "stream",
     "text": [
      "Enter the number : 909\n"
     ]
    },
    {
     "name": "stdout",
     "output_type": "stream",
     "text": [
      "Yeah! It's 3 digits number\n"
     ]
    }
   ],
   "source": [
    "#Given numbers is 3 digits or not\n",
    "\n",
    "num =int(input(\"Enter the number :\"))\n",
    "if num>100 and num <999:\n",
    "    print(\"Yeah! It's 3 digits number\")\n",
    "else:\n",
    "    print(\"No, It's not three digits number\")"
   ]
  },
  {
   "cell_type": "code",
   "execution_count": null,
   "id": "b2416a4c-1d91-4467-b61f-b53b2082dce5",
   "metadata": {},
   "outputs": [],
   "source": []
  }
 ],
 "metadata": {
  "kernelspec": {
   "display_name": "Python 3 (ipykernel)",
   "language": "python",
   "name": "python3"
  },
  "language_info": {
   "codemirror_mode": {
    "name": "ipython",
    "version": 3
   },
   "file_extension": ".py",
   "mimetype": "text/x-python",
   "name": "python",
   "nbconvert_exporter": "python",
   "pygments_lexer": "ipython3",
   "version": "3.12.7"
  }
 },
 "nbformat": 4,
 "nbformat_minor": 5
}
