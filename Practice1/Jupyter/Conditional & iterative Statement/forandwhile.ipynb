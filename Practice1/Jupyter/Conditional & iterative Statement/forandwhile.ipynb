{
 "cells": [
  {
   "cell_type": "code",
   "execution_count": 7,
   "id": "7079f72c-399f-4c32-add6-ab02abd9c950",
   "metadata": {},
   "outputs": [],
   "source": [
    "#whie\n",
    "#Check \n",
    "#initization i=1; \n",
    "#conditional i<=5; \n",
    "#incr&decr i=i+1"
   ]
  },
  {
   "cell_type": "code",
   "execution_count": 8,
   "id": "2a9d481c-38e6-4460-ae0b-f2879e81e02f",
   "metadata": {},
   "outputs": [
    {
     "name": "stdout",
     "output_type": "stream",
     "text": [
      "1 2 3 4 5 "
     ]
    }
   ],
   "source": [
    "#While loop\n",
    "#print 1 to 10\n",
    "i=1\n",
    "while i<=5:\n",
    "    print(i,end=\" \")\n",
    "    i=i+1"
   ]
  },
  {
   "cell_type": "code",
   "execution_count": 11,
   "id": "55875499-b73c-48c8-8888-db725b1a9971",
   "metadata": {},
   "outputs": [
    {
     "name": "stdout",
     "output_type": "stream",
     "text": [
      "1 2 3 4 5 6 7 8 9 10 11 12 13 14 15 16 17 18 19 20 "
     ]
    }
   ],
   "source": [
    "#print 1 to 20\n",
    "i=1\n",
    "while i<=20:\n",
    "    print(i,end=\" \")\n",
    "    i=i+1"
   ]
  },
  {
   "cell_type": "code",
   "execution_count": 15,
   "id": "491e2e3f-a064-44cd-9014-3c57a255c791",
   "metadata": {},
   "outputs": [
    {
     "name": "stdout",
     "output_type": "stream",
     "text": [
      "0 2 4 6 8 10 12 14 16 18 20 "
     ]
    }
   ],
   "source": [
    "#print first 10 even numbers\n",
    "i=0\n",
    "while i<=20:\n",
    "    print(i,end=\" \")\n",
    "    i=i+2"
   ]
  },
  {
   "cell_type": "code",
   "execution_count": 20,
   "id": "97cdc2c1-0695-4571-99c6-03bfa8ff4569",
   "metadata": {},
   "outputs": [
    {
     "name": "stdout",
     "output_type": "stream",
     "text": [
      "100 99 98 97 96 95 94 93 92 91 90 89 88 87 86 85 84 83 82 81 80 79 78 77 76 75 74 73 72 71 70 69 68 67 66 65 64 63 62 61 60 59 58 57 56 55 54 53 52 51 50 49 48 47 46 45 44 43 42 41 40 39 38 37 36 35 34 33 32 31 30 29 28 27 26 25 24 23 22 21 20 19 18 17 16 15 14 13 12 11 10 9 8 7 6 5 4 3 2 1 "
     ]
    }
   ],
   "source": [
    "#print 100 to 1\n",
    "i=100\n",
    "while i>=1:\n",
    "    print(i,end=\" \")\n",
    "    i=i-1"
   ]
  },
  {
   "cell_type": "code",
   "execution_count": null,
   "id": "2c72ed9a-b4fe-47c8-b93c-d1ebd0c0db2c",
   "metadata": {},
   "outputs": [],
   "source": [
    "#For loop\n",
    "#Sequnces - list,tuple,set,dict,string, range\n",
    "#if we want to execute some action for every element present in sequnencs"
   ]
  },
  {
   "cell_type": "code",
   "execution_count": 21,
   "id": "9c6ebdad-1151-4da3-9906-ab35f093843c",
   "metadata": {},
   "outputs": [
    {
     "name": "stdout",
     "output_type": "stream",
     "text": [
      "arjun vijay bittu surya anil vasu "
     ]
    }
   ],
   "source": [
    "names=['arjun','vijay','bittu','surya','anil','vasu']\n",
    "for n in names:\n",
    "    print(n, end=\" \")"
   ]
  },
  {
   "cell_type": "code",
   "execution_count": 22,
   "id": "c024ecb8-25da-4457-92e5-947fd8326c9c",
   "metadata": {},
   "outputs": [
    {
     "name": "stdout",
     "output_type": "stream",
     "text": [
      "101 102 103 104 105 206 "
     ]
    }
   ],
   "source": [
    "ids=[101,102,103,104,105,206]\n",
    "for i in ids:\n",
    "    print(i,end=\" \")"
   ]
  },
  {
   "cell_type": "code",
   "execution_count": null,
   "id": "c0886f33-e7a7-4642-827e-c00c24c38563",
   "metadata": {},
   "outputs": [],
   "source": []
  }
 ],
 "metadata": {
  "kernelspec": {
   "display_name": "Python 3 (ipykernel)",
   "language": "python",
   "name": "python3"
  },
  "language_info": {
   "codemirror_mode": {
    "name": "ipython",
    "version": 3
   },
   "file_extension": ".py",
   "mimetype": "text/x-python",
   "name": "python",
   "nbconvert_exporter": "python",
   "pygments_lexer": "ipython3",
   "version": "3.12.7"
  }
 },
 "nbformat": 4,
 "nbformat_minor": 5
}
