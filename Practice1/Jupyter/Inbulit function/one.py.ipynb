{
 "cells": [
  {
   "cell_type": "code",
   "execution_count": 1,
   "id": "6962c687-0894-4fbb-a3c3-96891cec0000",
   "metadata": {},
   "outputs": [
    {
     "name": "stdin",
     "output_type": "stream",
     "text": [
      "Enter the Number : 34\n"
     ]
    },
    {
     "name": "stdout",
     "output_type": "stream",
     "text": [
      "34\n"
     ]
    }
   ],
   "source": [
    "#Input function \n",
    "num = input('Enter the Number :')\n",
    "print(num)"
   ]
  },
  {
   "cell_type": "code",
   "execution_count": 2,
   "id": "b8ff1d4e-ad30-42a7-bc3f-66184fe962a3",
   "metadata": {},
   "outputs": [
    {
     "name": "stdin",
     "output_type": "stream",
     "text": [
      "Enter the Number : 25\n"
     ]
    },
    {
     "name": "stdout",
     "output_type": "stream",
     "text": [
      "25\n",
      "<class 'str'>\n"
     ]
    }
   ],
   "source": [
    "#Input function type num\n",
    "num = input('Enter the Number :')\n",
    "print(num)\n",
    "print(type(num))"
   ]
  },
  {
   "cell_type": "code",
   "execution_count": null,
   "id": "50d2a5b5-7cec-4a52-a131-597c85d53359",
   "metadata": {},
   "outputs": [],
   "source": [
    "#Input function type num\n",
    "num = input('Enter the Number :')\n",
    "print(num)\n",
    "print(type(num))\n"
   ]
  },
  {
   "cell_type": "code",
   "execution_count": null,
   "id": "a59568c5-255b-4b19-ba06-b7ef85c4e21a",
   "metadata": {},
   "outputs": [],
   "source": [
    "#Read 2 numbers and print min and max value\n",
    "num1= input('Enter 1 value:')\n",
    "num2= input('Enter 2 value:')\n",
    "if num1 > num2 :\n",
    "    print('Max value is :', num1)\n",
    "else:\n",
    "    print('Min value is :', num2')"
   ]
  },
  {
   "cell_type": "code",
   "execution_count": null,
   "id": "7371a4b5-9047-4169-b0a5-7cdd15729c5d",
   "metadata": {},
   "outputs": [],
   "source": [
    "print(\"Sum :\",int(input('Enter First Value :'))+int(input('Enter second value :')))"
   ]
  },
  {
   "cell_type": "code",
   "execution_count": null,
   "id": "16c45d5b-ffec-43fa-8435-6ee7976a31ca",
   "metadata": {},
   "outputs": [],
   "source": []
  },
  {
   "cell_type": "code",
   "execution_count": null,
   "id": "c10560cd-0cc1-4cf8-a8ba-84b5fca8f6e7",
   "metadata": {},
   "outputs": [],
   "source": []
  }
 ],
 "metadata": {
  "kernelspec": {
   "display_name": "Python 3 (ipykernel)",
   "language": "python",
   "name": "python3"
  },
  "language_info": {
   "codemirror_mode": {
    "name": "ipython",
    "version": 3
   },
   "file_extension": ".py",
   "mimetype": "text/x-python",
   "name": "python",
   "nbconvert_exporter": "python",
   "pygments_lexer": "ipython3",
   "version": "3.12.7"
  }
 },
 "nbformat": 4,
 "nbformat_minor": 5
}
