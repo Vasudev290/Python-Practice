{
 "cells": [
  {
   "cell_type": "code",
   "execution_count": 13,
   "id": "ac61bad2-0aa8-4f4a-8dea-9115f3d5c6fc",
   "metadata": {},
   "outputs": [
    {
     "name": "stdin",
     "output_type": "stream",
     "text": [
      "Enter the value : 5\n"
     ]
    },
    {
     "name": "stdout",
     "output_type": "stream",
     "text": [
      "* \n",
      "* * \n",
      "* * * \n",
      "* * * * \n",
      "* * * * * \n"
     ]
    }
   ],
   "source": [
    "#1.Right Triangle \"*\"\n",
    "num=int(input(\"Enter the value :\"))\n",
    "for i in range(1,num+1):   #Rows\n",
    "    for j in range(1,i+1): #Columns\n",
    "        print(\"*\",end=\" \")\n",
    "    print()"
   ]
  },
  {
   "cell_type": "code",
   "execution_count": 16,
   "id": "b5b98b63-a046-4a26-a3e3-b838733bdeb7",
   "metadata": {},
   "outputs": [
    {
     "name": "stdin",
     "output_type": "stream",
     "text": [
      "Enter the number of rows : 3\n"
     ]
    },
    {
     "name": "stdout",
     "output_type": "stream",
     "text": [
      "* \n",
      "* * * \n",
      "* * * * * \n"
     ]
    }
   ],
   "source": [
    "#2. Right Trigale with odd number of column \"*\"\n",
    "num=int(input(\"Enter the number of rows :\"))\n",
    "k=1\n",
    "for i in range(1,num+1):\n",
    "    for j in range(1,k+1):\n",
    "        print(\"*\",end=\" \")\n",
    "    k=k+2\n",
    "    print()"
   ]
  },
  {
   "cell_type": "code",
   "execution_count": 2,
   "id": "0e86453a-4016-46e3-b211-6ce59b4727a0",
   "metadata": {},
   "outputs": [
    {
     "name": "stdin",
     "output_type": "stream",
     "text": [
      "Enter the row value : 4\n"
     ]
    },
    {
     "name": "stdout",
     "output_type": "stream",
     "text": [
      "   * \n",
      "  * * \n",
      " * * * \n",
      "* * * * \n"
     ]
    }
   ],
   "source": [
    "#3. Pyramid shape \n",
    "num=int(input(\"Enter the row value :\"))\n",
    "for i in range(0,num):\n",
    "    for j in range(0,num-i-1):\n",
    "        print(end=\" \")\n",
    "    for j in range(0,i+1):\n",
    "        print(\"*\",end=\" \")\n",
    "    print()"
   ]
  },
  {
   "cell_type": "code",
   "execution_count": 4,
   "id": "332888de-527e-447c-92e3-d4a8d1e8cb79",
   "metadata": {},
   "outputs": [
    {
     "name": "stdin",
     "output_type": "stream",
     "text": [
      "Enter the rows value : 7\n"
     ]
    },
    {
     "name": "stdout",
     "output_type": "stream",
     "text": [
      "* * * * * * * \n",
      " * * * * * * \n",
      "  * * * * * \n",
      "   * * * * \n",
      "    * * * \n",
      "     * * \n",
      "      * \n"
     ]
    }
   ],
   "source": [
    "#4. Reverse Pyramid shape\n",
    "num= int(input(\"Enter the rows value :\"))\n",
    "for i in range(num,0,-1):\n",
    "    for j in range(0,num-i):\n",
    "        print(end=\" \")\n",
    "    for j in range(0,i):\n",
    "        print(\"*\",end=\" \")\n",
    "    print()\n",
    "\n",
    "              "
   ]
  },
  {
   "cell_type": "code",
   "execution_count": 6,
   "id": "9b21088a-31b9-423c-92b7-44cb9ff96bc6",
   "metadata": {},
   "outputs": [],
   "source": [
    "#5. Diamond shape\n",
    "def pyramid(rows):\n",
    "    for i in range(rows):\n",
    "        print(\" \"*(rows-i-1)+\"*\"*(i+1))\n",
    "    for j in range(rows-1,0,-1):\n",
    "        print(''*(rows-j)+'*'*(j))"
   ]
  },
  {
   "cell_type": "code",
   "execution_count": null,
   "id": "0453fd75-3dd0-47d5-925b-5e79742ea238",
   "metadata": {},
   "outputs": [],
   "source": []
  }
 ],
 "metadata": {
  "kernelspec": {
   "display_name": "Python 3 (ipykernel)",
   "language": "python",
   "name": "python3"
  },
  "language_info": {
   "codemirror_mode": {
    "name": "ipython",
    "version": 3
   },
   "file_extension": ".py",
   "mimetype": "text/x-python",
   "name": "python",
   "nbconvert_exporter": "python",
   "pygments_lexer": "ipython3",
   "version": "3.12.7"
  }
 },
 "nbformat": 4,
 "nbformat_minor": 5
}
