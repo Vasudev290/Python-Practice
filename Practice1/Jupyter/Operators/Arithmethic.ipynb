{
 "cells": [
  {
   "cell_type": "code",
   "execution_count": 5,
   "id": "dfd90b64-883a-4539-9acd-643217f90267",
   "metadata": {},
   "outputs": [
    {
     "name": "stdout",
     "output_type": "stream",
     "text": [
      "120\n",
      "80\n",
      "2000\n",
      "5.0\n",
      "0\n",
      "5\n",
      "10000000000000000000000000000000000000000\n"
     ]
    }
   ],
   "source": [
    "#Arithmethic operator\n",
    "\n",
    "a=100\n",
    "b=20\n",
    "print(a+b) #Add\n",
    "print(a-b) #Sub \n",
    "print(a*b) #Multi\n",
    "print(a/b) #Div\n",
    "print(a%b) #module\n",
    "print(a//b) #floor div\n",
    "print(a**b) #expandedtion"
   ]
  },
  {
   "cell_type": "code",
   "execution_count": 11,
   "id": "9c08033b-63f0-4f1a-8f95-e0648643d395",
   "metadata": {},
   "outputs": [
    {
     "name": "stdout",
     "output_type": "stream",
     "text": [
      "8\n",
      "VasuVasuVasuVasu\n"
     ]
    }
   ],
   "source": [
    "#Mulitply *\n",
    "print(2*4) #mulitply\n",
    "print(\"Vasu\"*4) #repeation"
   ]
  },
  {
   "cell_type": "code",
   "execution_count": 8,
   "id": "ca0197e4-d31d-4cc6-9230-7aa6040923ee",
   "metadata": {},
   "outputs": [
    {
     "name": "stdout",
     "output_type": "stream",
     "text": [
      "5.0\n",
      "5\n"
     ]
    }
   ],
   "source": [
    "#What is division - always perform floot point arthimetic\n",
    "#what is floor division - always integral arithmetic\n",
    "print(10/2)\n",
    "print(10//2)"
   ]
  },
  {
   "cell_type": "code",
   "execution_count": 7,
   "id": "7a69dbc0-e552-4be4-b0b5-02de5ad9e7d5",
   "metadata": {},
   "outputs": [
    {
     "name": "stdout",
     "output_type": "stream",
     "text": [
      "6\n",
      "8\n"
     ]
    }
   ],
   "source": [
    "a=2*3\n",
    "print(a)\n",
    "a1=2**3\n",
    "print(a1)"
   ]
  },
  {
   "cell_type": "code",
   "execution_count": null,
   "id": "c187bd3f-9391-49f4-a584-f0dd06c1b7c1",
   "metadata": {},
   "outputs": [],
   "source": []
  }
 ],
 "metadata": {
  "kernelspec": {
   "display_name": "Python 3 (ipykernel)",
   "language": "python",
   "name": "python3"
  },
  "language_info": {
   "codemirror_mode": {
    "name": "ipython",
    "version": 3
   },
   "file_extension": ".py",
   "mimetype": "text/x-python",
   "name": "python",
   "nbconvert_exporter": "python",
   "pygments_lexer": "ipython3",
   "version": "3.12.7"
  }
 },
 "nbformat": 4,
 "nbformat_minor": 5
}
