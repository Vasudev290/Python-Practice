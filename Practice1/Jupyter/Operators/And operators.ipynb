{
 "cells": [
  {
   "cell_type": "code",
   "execution_count": 3,
   "id": "be4e3fe7-3c17-4400-bbd4-d79b328588ff",
   "metadata": {},
   "outputs": [
    {
     "name": "stdout",
     "output_type": "stream",
     "text": [
      "0\n",
      "1\n",
      "Vasu\n"
     ]
    }
   ],
   "source": [
    "#Operators\n",
    "#AND\n",
    "print(100 and 0)\n",
    "print(1 and 1)\n",
    "print('Arjun' and 'Vasu')"
   ]
  },
  {
   "cell_type": "code",
   "execution_count": 5,
   "id": "b2438c05-5691-4aa0-bc93-9c92c03ab845",
   "metadata": {},
   "outputs": [
    {
     "name": "stdout",
     "output_type": "stream",
     "text": [
      "0\n",
      "100\n"
     ]
    }
   ],
   "source": [
    "print(0 and 100)\n",
    "print('0' and '100')"
   ]
  },
  {
   "cell_type": "code",
   "execution_count": 8,
   "id": "ddc78a9f-4bdb-4f4e-82e1-c3f0eb9190c6",
   "metadata": {},
   "outputs": [
    {
     "name": "stdout",
     "output_type": "stream",
     "text": [
      "True\n",
      "True\n",
      "False\n",
      "True\n"
     ]
    }
   ],
   "source": [
    "print(True and True)\n",
    "print('True' and 'True')\n",
    "print(False and True)\n",
    "print('False' and 'True')"
   ]
  },
  {
   "cell_type": "code",
   "execution_count": 10,
   "id": "e6c7d799-7379-4788-a36b-dbd185c8df01",
   "metadata": {},
   "outputs": [
    {
     "name": "stdout",
     "output_type": "stream",
     "text": [
      "False\n"
     ]
    }
   ],
   "source": [
    "#Membership operators\n",
    "#IN \n",
    "enames=['rahul', 'Arjun', 'vinay']\n",
    "print('rahul' not in enames)\n",
    "#Not in"
   ]
  },
  {
   "cell_type": "code",
   "execution_count": null,
   "id": "370303b5-ba73-4622-be3a-162d518457c6",
   "metadata": {},
   "outputs": [],
   "source": []
  }
 ],
 "metadata": {
  "kernelspec": {
   "display_name": "Python 3 (ipykernel)",
   "language": "python",
   "name": "python3"
  },
  "language_info": {
   "codemirror_mode": {
    "name": "ipython",
    "version": 3
   },
   "file_extension": ".py",
   "mimetype": "text/x-python",
   "name": "python",
   "nbconvert_exporter": "python",
   "pygments_lexer": "ipython3",
   "version": "3.12.7"
  }
 },
 "nbformat": 4,
 "nbformat_minor": 5
}
