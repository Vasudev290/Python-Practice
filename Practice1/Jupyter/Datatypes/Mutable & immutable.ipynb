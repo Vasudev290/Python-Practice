{
 "cells": [
  {
   "cell_type": "code",
   "execution_count": null,
   "id": "af3deb27-b649-4ef9-99e1-26bb3987412b",
   "metadata": {},
   "outputs": [],
   "source": [
    "#mutable object\n",
    "#List,Set,Dict,Bytearray"
   ]
  },
  {
   "cell_type": "code",
   "execution_count": 4,
   "id": "5454f849-522a-4185-9c7e-df74a7f1c9eb",
   "metadata": {},
   "outputs": [
    {
     "name": "stdout",
     "output_type": "stream",
     "text": [
      "bytearray(b'VN7\\x00/\\xf5')\n"
     ]
    }
   ],
   "source": [
    "#How to create-bytearrey\n",
    "'''Group of values in between 0 to 255'''\n",
    "list=[86,78,55,0,47,245]\n",
    "ba= bytearray(list)\n",
    "print(ba)"
   ]
  },
  {
   "cell_type": "code",
   "execution_count": 9,
   "id": "19a97934-958f-4fae-809e-b2dc11176ed6",
   "metadata": {},
   "outputs": [
    {
     "name": "stdout",
     "output_type": "stream",
     "text": [
      "86\t78\t55\t0\t47\t245\t"
     ]
    }
   ],
   "source": [
    "list=[86,78,55,0,47,245]\n",
    "ba= bytearray(list)\n",
    "for value in ba:\n",
    "    print(value, end=\"\\t\")\n",
    "#print(ba)"
   ]
  },
  {
   "cell_type": "code",
   "execution_count": 12,
   "id": "827e5e60-5cd0-4dec-aad1-8d6d37358931",
   "metadata": {},
   "outputs": [
    {
     "name": "stdout",
     "output_type": "stream",
     "text": [
      "31\t78\t55\t0\t47\t245\t"
     ]
    }
   ],
   "source": [
    "list=[86,78,55,0,47,245]\n",
    "ba= bytearray(list)\n",
    "ba[0] = 31\n",
    "for a in ba:\n",
    "    print(a, end=\"\\t\")\n",
    "#print(ba)"
   ]
  },
  {
   "cell_type": "code",
   "execution_count": 14,
   "id": "41887648-a080-4a33-beac-63eee4306069",
   "metadata": {},
   "outputs": [
    {
     "ename": "TypeError",
     "evalue": "'bytes' object does not support item assignment",
     "output_type": "error",
     "traceback": [
      "\u001b[1;31m---------------------------------------------------------------------------\u001b[0m",
      "\u001b[1;31mTypeError\u001b[0m                                 Traceback (most recent call last)",
      "Cell \u001b[1;32mIn[14], line 4\u001b[0m\n\u001b[0;32m      2\u001b[0m \u001b[38;5;28mlist\u001b[39m\u001b[38;5;241m=\u001b[39m[\u001b[38;5;241m86\u001b[39m,\u001b[38;5;241m78\u001b[39m,\u001b[38;5;241m55\u001b[39m,\u001b[38;5;241m0\u001b[39m,\u001b[38;5;241m47\u001b[39m,\u001b[38;5;241m245\u001b[39m]\n\u001b[0;32m      3\u001b[0m b\u001b[38;5;241m=\u001b[39m \u001b[38;5;28mbytes\u001b[39m(\u001b[38;5;28mlist\u001b[39m)\n\u001b[1;32m----> 4\u001b[0m \u001b[43mb\u001b[49m\u001b[43m[\u001b[49m\u001b[38;5;241;43m0\u001b[39;49m\u001b[43m]\u001b[49m \u001b[38;5;241m=\u001b[39m \u001b[38;5;241m31\u001b[39m\n\u001b[0;32m      5\u001b[0m \u001b[38;5;28;01mfor\u001b[39;00m a \u001b[38;5;129;01min\u001b[39;00m b:\n\u001b[0;32m      6\u001b[0m     \u001b[38;5;28mprint\u001b[39m(a, end\u001b[38;5;241m=\u001b[39m\u001b[38;5;124m\"\u001b[39m\u001b[38;5;130;01m\\t\u001b[39;00m\u001b[38;5;124m\"\u001b[39m)\n",
      "\u001b[1;31mTypeError\u001b[0m: 'bytes' object does not support item assignment"
     ]
    }
   ],
   "source": [
    "#Immutable ;bytes\n",
    "list=[86,78,55,0,47,245]\n",
    "b= bytes(list)\n",
    "b[0] = 31\n",
    "for a in b:\n",
    "    print(a, end=\"\\t\")\n",
    "#print(ba)"
   ]
  },
  {
   "cell_type": "code",
   "execution_count": null,
   "id": "ff4585bf-7cfa-48c3-af11-ccbb83c87a21",
   "metadata": {},
   "outputs": [],
   "source": []
  }
 ],
 "metadata": {
  "kernelspec": {
   "display_name": "Python 3 (ipykernel)",
   "language": "python",
   "name": "python3"
  },
  "language_info": {
   "codemirror_mode": {
    "name": "ipython",
    "version": 3
   },
   "file_extension": ".py",
   "mimetype": "text/x-python",
   "name": "python",
   "nbconvert_exporter": "python",
   "pygments_lexer": "ipython3",
   "version": "3.12.7"
  }
 },
 "nbformat": 4,
 "nbformat_minor": 5
}
