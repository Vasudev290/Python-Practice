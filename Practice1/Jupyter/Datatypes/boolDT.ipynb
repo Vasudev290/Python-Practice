{
 "cells": [
  {
   "cell_type": "code",
   "execution_count": 2,
   "id": "002d6d98-483f-4133-be79-7835280c20cc",
   "metadata": {},
   "outputs": [
    {
     "name": "stdout",
     "output_type": "stream",
     "text": [
      "True\n",
      "False\n",
      "True\n",
      "False\n"
     ]
    }
   ],
   "source": [
    "#How to represent bool values in datatypes\n",
    "print(bool(True))\n",
    "print(bool(False))\n",
    "print(bool(100))\n",
    "print(bool(0))"
   ]
  },
  {
   "cell_type": "code",
   "execution_count": 3,
   "id": "9ca74fbb-013d-4450-ae87-7970767d5fca",
   "metadata": {},
   "outputs": [
    {
     "name": "stdout",
     "output_type": "stream",
     "text": [
      "True\n",
      "False\n",
      "True\n",
      "True\n",
      "True\n",
      "False\n"
     ]
    }
   ],
   "source": [
    "print(bool(100)) #True\n",
    "print(bool(0)) #False\n",
    "print(bool('True')) #True\n",
    "print(bool('False'))#True\n",
    "print(bool(454.90))#True\n",
    "print(bool(00.00))#False"
   ]
  },
  {
   "cell_type": "code",
   "execution_count": null,
   "id": "85cf9ab5-f115-4438-8777-3a567825ed9f",
   "metadata": {},
   "outputs": [],
   "source": []
  }
 ],
 "metadata": {
  "kernelspec": {
   "display_name": "Python 3 (ipykernel)",
   "language": "python",
   "name": "python3"
  },
  "language_info": {
   "codemirror_mode": {
    "name": "ipython",
    "version": 3
   },
   "file_extension": ".py",
   "mimetype": "text/x-python",
   "name": "python",
   "nbconvert_exporter": "python",
   "pygments_lexer": "ipython3",
   "version": "3.12.7"
  }
 },
 "nbformat": 4,
 "nbformat_minor": 5
}
