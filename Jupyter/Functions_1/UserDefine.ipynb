{
 "cells": [
  {
   "cell_type": "code",
   "execution_count": 1,
   "id": "479fecef-f3ae-44b6-af3e-d6a34a1827b5",
   "metadata": {},
   "outputs": [
    {
     "name": "stdout",
     "output_type": "stream",
     "text": [
      "Addition\n"
     ]
    }
   ],
   "source": [
    "#Functions\n",
    "#Group of statement for speacfic task or code reuseablity\n",
    "\n",
    "\n",
    "#Syntex\n",
    "def add():\n",
    "    print('Addition')\n",
    "add()"
   ]
  },
  {
   "cell_type": "code",
   "execution_count": 2,
   "id": "471d9812-1297-4578-815d-6e2a7d053446",
   "metadata": {},
   "outputs": [
    {
     "name": "stdout",
     "output_type": "stream",
     "text": [
      "Login Successfull\n",
      "Logout Successfully\n",
      "Enter your emil progress\n"
     ]
    }
   ],
   "source": [
    "#Sample program\n",
    "def login():\n",
    "    print('Login Successfull')\n",
    "\n",
    "def logout():\n",
    "    print('Logout Successfully')\n",
    "\n",
    "def forget_password():\n",
    "    print('Enter your emil progress')\n",
    "\n",
    "login()\n",
    "logout()\n",
    "forget_password()"
   ]
  },
  {
   "cell_type": "code",
   "execution_count": null,
   "id": "c423b098-60b7-443d-b2c0-ee05bbca08dd",
   "metadata": {},
   "outputs": [],
   "source": []
  }
 ],
 "metadata": {
  "kernelspec": {
   "display_name": "Python 3 (ipykernel)",
   "language": "python",
   "name": "python3"
  },
  "language_info": {
   "codemirror_mode": {
    "name": "ipython",
    "version": 3
   },
   "file_extension": ".py",
   "mimetype": "text/x-python",
   "name": "python",
   "nbconvert_exporter": "python",
   "pygments_lexer": "ipython3",
   "version": "3.12.7"
  }
 },
 "nbformat": 4,
 "nbformat_minor": 5
}
