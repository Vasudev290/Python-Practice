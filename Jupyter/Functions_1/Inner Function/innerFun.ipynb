{
 "cells": [
  {
   "cell_type": "code",
   "execution_count": 7,
   "id": "a474744f-0526-4f91-8f59-5cf2ee45506a",
   "metadata": {},
   "outputs": [
    {
     "name": "stdout",
     "output_type": "stream",
     "text": [
      "outside function\n",
      "Inside Function\n",
      "Inside Function\n"
     ]
    }
   ],
   "source": [
    "def outer():\n",
    "    print(\"outside function\")\n",
    "    def inner():\n",
    "        print(\"Inside Function\")\n",
    "    inner()\n",
    "    inner()\n",
    "        \n",
    "\n",
    "outer()\n"
   ]
  },
  {
   "cell_type": "code",
   "execution_count": 8,
   "id": "11db459f-4f1b-4497-a5f3-95b5d8572f46",
   "metadata": {},
   "outputs": [
    {
     "name": "stdout",
     "output_type": "stream",
     "text": [
      "outside function\n"
     ]
    },
    {
     "ename": "NameError",
     "evalue": "name 'inner' is not defined",
     "output_type": "error",
     "traceback": [
      "\u001b[1;31m---------------------------------------------------------------------------\u001b[0m",
      "\u001b[1;31mNameError\u001b[0m                                 Traceback (most recent call last)",
      "Cell \u001b[1;32mIn[8], line 9\u001b[0m\n\u001b[0;32m      4\u001b[0m         \u001b[38;5;28mprint\u001b[39m(\u001b[38;5;124m\"\u001b[39m\u001b[38;5;124mInside Function\u001b[39m\u001b[38;5;124m\"\u001b[39m)\n\u001b[0;32m      8\u001b[0m outer()\n\u001b[1;32m----> 9\u001b[0m \u001b[43minner\u001b[49m()\n",
      "\u001b[1;31mNameError\u001b[0m: name 'inner' is not defined"
     ]
    }
   ],
   "source": [
    "def outer():\n",
    "    print(\"outside function\")\n",
    "    def inner():\n",
    "        print(\"Inside Function\")\n",
    "    \n",
    "        \n",
    "\n",
    "outer()\n",
    "inner()"
   ]
  },
  {
   "cell_type": "code",
   "execution_count": 11,
   "id": "de5e3f24-0617-4718-ab29-08c700cc9d7e",
   "metadata": {},
   "outputs": [
    {
     "name": "stdout",
     "output_type": "stream",
     "text": [
      "<function add at 0x0000021B25A34900>\n",
      "Addition\n",
      "Addition\n"
     ]
    }
   ],
   "source": [
    "def add():\n",
    "    print(\"Addition\")\n",
    "\n",
    "x=add\n",
    "print(x)\n",
    "\n",
    "x()\n",
    "x()"
   ]
  },
  {
   "cell_type": "code",
   "execution_count": 16,
   "id": "706031df-f97b-4883-888e-2c191e59cff1",
   "metadata": {},
   "outputs": [
    {
     "name": "stdout",
     "output_type": "stream",
     "text": [
      "Inside inner function\n"
     ]
    }
   ],
   "source": [
    "def outer():\n",
    "    a = 100\n",
    "    def inner():\n",
    "        print(\"Inside inner function\")\n",
    "    return inner\n",
    "\n",
    "inn = outer()\n",
    "inn()"
   ]
  },
  {
   "cell_type": "code",
   "execution_count": null,
   "id": "0f2a8d2f-bce5-444b-8457-e39913816160",
   "metadata": {},
   "outputs": [],
   "source": []
  }
 ],
 "metadata": {
  "kernelspec": {
   "display_name": "Python 3 (ipykernel)",
   "language": "python",
   "name": "python3"
  },
  "language_info": {
   "codemirror_mode": {
    "name": "ipython",
    "version": 3
   },
   "file_extension": ".py",
   "mimetype": "text/x-python",
   "name": "python",
   "nbconvert_exporter": "python",
   "pygments_lexer": "ipython3",
   "version": "3.12.7"
  }
 },
 "nbformat": 4,
 "nbformat_minor": 5
}
