{
 "cells": [
  {
   "cell_type": "code",
   "execution_count": 1,
   "id": "9e723ca5-9f1a-4978-8cb6-d4dd7997a89a",
   "metadata": {},
   "outputs": [
    {
     "name": "stdout",
     "output_type": "stream",
     "text": [
      "30\n",
      "300\n"
     ]
    }
   ],
   "source": [
    "#lambda function\n",
    "\n",
    "#noraml function \n",
    "\"\"\" def add(a,b):\n",
    "    return a+b \"\"\"\n",
    "\n",
    "#Convert this function to lambda\n",
    "#obj_name= lambda argument : experssion (no def key word,no function name,no return statement)\n",
    "add=lambda a,b:a+b\n",
    "\n",
    "print(add(10,20)) #30\n",
    "print(add(100,200)) #300"
   ]
  },
  {
   "cell_type": "code",
   "execution_count": 5,
   "id": "d372571b-c2ce-40be-a2dd-c8052b418e8b",
   "metadata": {},
   "outputs": [
    {
     "name": "stdout",
     "output_type": "stream",
     "text": [
      "30\n",
      "4\n",
      "8\n"
     ]
    }
   ],
   "source": [
    "add= lambda a,b:a+b\n",
    "print(add(10,20)) #30\n",
    "\n",
    "minus = lambda a,b : a-b  \n",
    "print(minus(5, 1))   #4\n",
    "\n",
    "multiple = lambda a,b : a*b\n",
    "print(multiple(2,4))  #8"
   ]
  },
  {
   "cell_type": "code",
   "execution_count": 7,
   "id": "67f18cb8-aa76-499b-9616-1c919e71bfad",
   "metadata": {},
   "outputs": [
    {
     "name": "stdout",
     "output_type": "stream",
     "text": [
      "23\n",
      "22\n"
     ]
    }
   ],
   "source": [
    "#Normal Function\n",
    "def cal_age(year):\n",
    "    return 2024 - year\n",
    "print(cal_age(2001))\n",
    "\n",
    "#lambda function\n",
    "cal_age = lambda year : 2024 - year\n",
    "print(cal_age(2002))"
   ]
  },
  {
   "cell_type": "code",
   "execution_count": 9,
   "id": "dcaef114-2d71-4dfe-8c59-1f4aa0019a4f",
   "metadata": {},
   "outputs": [],
   "source": [
    "#Inbulit - functions\n",
    "\n",
    "# *filter()  => filter() -filter(function,Sequnece)\n",
    "# *Map() => map() - map(function,Sequnece)\n",
    "\n"
   ]
  },
  {
   "cell_type": "code",
   "execution_count": 13,
   "id": "3824da9b-369d-48a3-b8a1-d3dffa586a9c",
   "metadata": {},
   "outputs": [
    {
     "name": "stdout",
     "output_type": "stream",
     "text": [
      "[1, 2, 3, 4, 5, 6, 7, 8, 9, 10]\n",
      "[2, 4, 6, 8, 10]\n"
     ]
    }
   ],
   "source": [
    "#Normal Function\n",
    "numbers=[1,2,3,4,5,6,7,8,9,10]\n",
    "def check(numbers):\n",
    "    if numbers %2 ==0:\n",
    "        return True\n",
    "    else:\n",
    "        return False\n",
    "even_Numbers = list(filter(check,numbers))\n",
    "\n",
    "print(numbers)\n",
    "print(even_Numbers)"
   ]
  },
  {
   "cell_type": "code",
   "execution_count": 14,
   "id": "56e16d73-4d3a-4018-94e1-91e4d8e150a2",
   "metadata": {},
   "outputs": [
    {
     "name": "stdout",
     "output_type": "stream",
     "text": [
      "[1, 2, 3, 4, 5, 6, 7, 8, 9, 10]\n",
      "[2, 4, 6, 8, 10]\n"
     ]
    }
   ],
   "source": [
    "#Normal Function\n",
    "numbers=[1,2,3,4,5,6,7,8,9,10]\n",
    "def check(numbers):\n",
    "    return numbers%2 == 0\n",
    "even_Numbers = list(filter(check,numbers))\n",
    "\n",
    "print(numbers)\n",
    "print(even_Numbers)"
   ]
  },
  {
   "cell_type": "code",
   "execution_count": 15,
   "id": "8674a8d8-b112-4bef-a4d6-56011a176642",
   "metadata": {},
   "outputs": [
    {
     "name": "stdout",
     "output_type": "stream",
     "text": [
      "[1, 2, 3, 4, 5, 6, 7, 8, 9, 10]\n",
      "[2, 4, 6, 8, 10]\n"
     ]
    }
   ],
   "source": [
    "#With lambda function\n",
    "numbers=[1,2,3,4,5,6,7,8,9,10]\n",
    "filter_Obj = filter(lambda numbers: numbers%2 == 0, numbers)\n",
    "newEven_Numbers = list(filter_Obj)\n",
    "\n",
    "print(numbers)\n",
    "print(newEven_Numbers)\n"
   ]
  },
  {
   "cell_type": "code",
   "execution_count": null,
   "id": "457410a2-38dd-4c65-ba54-7d1b44199928",
   "metadata": {},
   "outputs": [],
   "source": []
  }
 ],
 "metadata": {
  "kernelspec": {
   "display_name": "Python 3 (ipykernel)",
   "language": "python",
   "name": "python3"
  },
  "language_info": {
   "codemirror_mode": {
    "name": "ipython",
    "version": 3
   },
   "file_extension": ".py",
   "mimetype": "text/x-python",
   "name": "python",
   "nbconvert_exporter": "python",
   "pygments_lexer": "ipython3",
   "version": "3.12.7"
  }
 },
 "nbformat": 4,
 "nbformat_minor": 5
}
