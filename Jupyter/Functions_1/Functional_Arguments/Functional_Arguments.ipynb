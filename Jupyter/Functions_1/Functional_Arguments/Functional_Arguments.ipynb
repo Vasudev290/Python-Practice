{
 "cells": [
  {
   "cell_type": "code",
   "execution_count": 7,
   "id": "063cfe75-f097-4ba5-bc1f-5e57865ab6fa",
   "metadata": {},
   "outputs": [
    {
     "name": "stdout",
     "output_type": "stream",
     "text": [
      "50\n",
      "-50\n"
     ]
    }
   ],
   "source": [
    "#Function Arguments\n",
    "\n",
    "#Postional Arguments\n",
    "def cal(a,b):\n",
    "    print(a-b)\n",
    "\n",
    "cal(100, 50)\n",
    "cal(50, 100)\n",
    "#cal()   TypeError"
   ]
  },
  {
   "cell_type": "code",
   "execution_count": 5,
   "id": "21b8392e-b6cc-4f82-9447-b064e7a6e02c",
   "metadata": {},
   "outputs": [
    {
     "name": "stdout",
     "output_type": "stream",
     "text": [
      "50\n",
      "50\n"
     ]
    }
   ],
   "source": [
    "#Keyword Arguments\n",
    "def cal(a, b):\n",
    "    print(a-b)\n",
    "\n",
    "cal(a=100, b=50)\n",
    "cal(b=50, a=100)"
   ]
  },
  {
   "cell_type": "code",
   "execution_count": 15,
   "id": "81c5829c-2fa0-4534-bced-6908926a34a5",
   "metadata": {},
   "outputs": [
    {
     "name": "stdout",
     "output_type": "stream",
     "text": [
      "60\n",
      "70\n"
     ]
    }
   ],
   "source": [
    "#Default Arguments\n",
    "def cal(a, b, c=30):\n",
    "    print(a+b+c)\n",
    "\n",
    "cal(10, 20)\n",
    "cal(10, 20, 40)"
   ]
  },
  {
   "cell_type": "code",
   "execution_count": 14,
   "id": "45066205-9c29-4a14-9e8a-afd1ad054fae",
   "metadata": {},
   "outputs": [
    {
     "name": "stdout",
     "output_type": "stream",
     "text": [
      "(10,)\n",
      "(10, 20)\n",
      "(10, 20, 30)\n",
      "(10, 20, 30, 40)\n",
      "(10, 20, 30, 40, 50)\n"
     ]
    }
   ],
   "source": [
    "#Variable length Arguments\n",
    "def add(*a):\n",
    "    print(a)\n",
    "\n",
    "add(10)\n",
    "add(10, 20)\n",
    "add(10, 20, 30)\n",
    "add(10, 20, 30, 40)\n",
    "add(10, 20, 30, 40, 50)"
   ]
  },
  {
   "cell_type": "code",
   "execution_count": 17,
   "id": "b384e9b9-a6c3-4ba8-846e-f6ed2c919af9",
   "metadata": {},
   "outputs": [
    {
     "name": "stdout",
     "output_type": "stream",
     "text": [
      "Hii! Vasu Login successfully!😍😍😍\n"
     ]
    }
   ],
   "source": [
    "#Normal if else code\n",
    "def login(user, password):\n",
    "    if(user == \"Vasu\" and password == \"Vasu@123\"):\n",
    "        print(\"Hii!\", user, \"Login successfully!😍😍😍\")\n",
    "    else:\n",
    "        print(\"Login Failed😣\")\n",
    "\n",
    "login(\"Vasu\", \"Vasu@123\")"
   ]
  },
  {
   "cell_type": "code",
   "execution_count": null,
   "id": "9608e923-df3d-4c7d-a2fc-9981ffc4bf9f",
   "metadata": {},
   "outputs": [],
   "source": []
  }
 ],
 "metadata": {
  "kernelspec": {
   "display_name": "Python 3 (ipykernel)",
   "language": "python",
   "name": "python3"
  },
  "language_info": {
   "codemirror_mode": {
    "name": "ipython",
    "version": 3
   },
   "file_extension": ".py",
   "mimetype": "text/x-python",
   "name": "python",
   "nbconvert_exporter": "python",
   "pygments_lexer": "ipython3",
   "version": "3.12.7"
  }
 },
 "nbformat": 4,
 "nbformat_minor": 5
}
