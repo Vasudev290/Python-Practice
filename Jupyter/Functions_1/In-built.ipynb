{
 "cells": [
  {
   "cell_type": "code",
   "execution_count": null,
   "id": "b945f081-0aa7-4077-bff8-6d0cfde814b6",
   "metadata": {},
   "outputs": [],
   "source": [
    "#https://i.sstatic.net/O0eOZ.png\n",
    "#All in-bulit Function "
   ]
  }
 ],
 "metadata": {
  "kernelspec": {
   "display_name": "Python 3 (ipykernel)",
   "language": "python",
   "name": "python3"
  },
  "language_info": {
   "codemirror_mode": {
    "name": "ipython",
    "version": 3
   },
   "file_extension": ".py",
   "mimetype": "text/x-python",
   "name": "python",
   "nbconvert_exporter": "python",
   "pygments_lexer": "ipython3",
   "version": "3.12.7"
  }
 },
 "nbformat": 4,
 "nbformat_minor": 5
}
