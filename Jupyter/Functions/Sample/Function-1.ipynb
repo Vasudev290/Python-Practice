{
 "cells": [
  {
   "cell_type": "code",
   "execution_count": null,
   "id": "3e6cf720-0ec2-4c5f-a313-a4a5ec51b75c",
   "metadata": {},
   "outputs": [],
   "source": [
    "#Function\n",
    "#Argument like:\n",
    "#*Positional Argument\n",
    "#*Default Argument\n",
    "#*Keyboard Argument\n",
    "#*Variable Argument\n",
    "\n",
    "#Function Road Map;\n",
    "#Functional -> inbulit functio-> Argument types-> inner Function & receur file -> Lambda function *Filter *map -> Decorator"
   ]
  },
  {
   "cell_type": "code",
   "execution_count": 1,
   "id": "5ff87c0e-aa7b-4494-854f-1df77555e1e2",
   "metadata": {},
   "outputs": [
    {
     "name": "stdout",
     "output_type": "stream",
     "text": [
      "Addition\n",
      "Addition\n",
      "Addition\n",
      "Addition\n"
     ]
    }
   ],
   "source": [
    "def add():\n",
    "    print(\"Addition\")\n",
    "add()\n",
    "add()\n",
    "add()\n",
    "add()"
   ]
  },
  {
   "cell_type": "code",
   "execution_count": 4,
   "id": "a1914fea-5957-4781-bf01-5e048d372028",
   "metadata": {},
   "outputs": [
    {
     "ename": "TypeError",
     "evalue": "add() takes 0 positional arguments but 2 were given",
     "output_type": "error",
     "traceback": [
      "\u001b[1;31m---------------------------------------------------------------------------\u001b[0m",
      "\u001b[1;31mTypeError\u001b[0m                                 Traceback (most recent call last)",
      "Cell \u001b[1;32mIn[4], line 3\u001b[0m\n\u001b[0;32m      1\u001b[0m \u001b[38;5;28;01mdef\u001b[39;00m \u001b[38;5;21madd\u001b[39m():\n\u001b[0;32m      2\u001b[0m     \u001b[38;5;28mprint\u001b[39m(\u001b[38;5;124m\"\u001b[39m\u001b[38;5;124mAddition\u001b[39m\u001b[38;5;124m\"\u001b[39m)\n\u001b[1;32m----> 3\u001b[0m \u001b[43madd\u001b[49m\u001b[43m(\u001b[49m\u001b[38;5;241;43m10\u001b[39;49m\u001b[43m,\u001b[49m\u001b[38;5;241;43m20\u001b[39;49m\u001b[43m)\u001b[49m\n\u001b[0;32m      4\u001b[0m add(\u001b[38;5;241m100\u001b[39m,\u001b[38;5;241m200\u001b[39m)\n",
      "\u001b[1;31mTypeError\u001b[0m: add() takes 0 positional arguments but 2 were given"
     ]
    }
   ],
   "source": [
    "def add():\n",
    "    print(\"Addition\")\n",
    "add(10,20)\n",
    "add(100,200)"
   ]
  },
  {
   "cell_type": "code",
   "execution_count": 6,
   "id": "e463bd4b-c21f-45e7-ae73-eb803d8b898d",
   "metadata": {},
   "outputs": [
    {
     "name": "stdout",
     "output_type": "stream",
     "text": [
      "1 9\n",
      "10 90\n"
     ]
    }
   ],
   "source": [
    "#Function with return statement\n",
    "def add(a,b):\n",
    "    return a+b\n",
    "add(10,20)\n",
    "print(1,9)\n",
    "print(10,90)"
   ]
  },
  {
   "cell_type": "code",
   "execution_count": 10,
   "id": "29821da7-9dd1-43c6-ae2f-55196ba6cef0",
   "metadata": {},
   "outputs": [
    {
     "name": "stdout",
     "output_type": "stream",
     "text": [
      "30\n",
      "300\n",
      "3000\n"
     ]
    }
   ],
   "source": [
    "def add(a,b):\n",
    "    return a+b\n",
    "r1=add(10,20)\n",
    "r2=add(100,200)\n",
    "r3=add(1000,2000)\n",
    "print(r1)\n",
    "print(r2)\n",
    "print(r3)"
   ]
  },
  {
   "cell_type": "code",
   "execution_count": 11,
   "id": "ad9d085e-a803-404e-9c9b-9c9d78a585ee",
   "metadata": {},
   "outputs": [
    {
     "ename": "TypeError",
     "evalue": "unsupported operand type(s) for +: 'int' and 'str'",
     "output_type": "error",
     "traceback": [
      "\u001b[1;31m---------------------------------------------------------------------------\u001b[0m",
      "\u001b[1;31mTypeError\u001b[0m                                 Traceback (most recent call last)",
      "Cell \u001b[1;32mIn[11], line 5\u001b[0m\n\u001b[0;32m      3\u001b[0m r1\u001b[38;5;241m=\u001b[39madd(\u001b[38;5;241m10\u001b[39m,\u001b[38;5;241m20\u001b[39m)\n\u001b[0;32m      4\u001b[0m r2\u001b[38;5;241m=\u001b[39madd(\u001b[38;5;241m100\u001b[39m,\u001b[38;5;241m200\u001b[39m)\n\u001b[1;32m----> 5\u001b[0m r3\u001b[38;5;241m=\u001b[39m\u001b[43madd\u001b[49m\u001b[43m(\u001b[49m\u001b[38;5;241;43m1000\u001b[39;49m\u001b[43m,\u001b[49m\u001b[38;5;124;43m\"\u001b[39;49m\u001b[38;5;124;43mTen\u001b[39;49m\u001b[38;5;124;43m\"\u001b[39;49m\u001b[43m)\u001b[49m\n\u001b[0;32m      6\u001b[0m \u001b[38;5;28mprint\u001b[39m(r1)\n\u001b[0;32m      7\u001b[0m \u001b[38;5;28mprint\u001b[39m(r2)\n",
      "Cell \u001b[1;32mIn[11], line 2\u001b[0m, in \u001b[0;36madd\u001b[1;34m(a, b)\u001b[0m\n\u001b[0;32m      1\u001b[0m \u001b[38;5;28;01mdef\u001b[39;00m \u001b[38;5;21madd\u001b[39m(a,b):\n\u001b[1;32m----> 2\u001b[0m     \u001b[38;5;28;01mreturn\u001b[39;00m \u001b[43ma\u001b[49m\u001b[38;5;241;43m+\u001b[39;49m\u001b[43mb\u001b[49m\n",
      "\u001b[1;31mTypeError\u001b[0m: unsupported operand type(s) for +: 'int' and 'str'"
     ]
    }
   ],
   "source": [
    "def add(a,b):\n",
    "    return a+b\n",
    "r1=add(10,20)\n",
    "r2=add(100,200)\n",
    "r3=add(1000,\"Ten\")\n",
    "print(r1)\n",
    "print(r2)\n",
    "print(r3)"
   ]
  },
  {
   "cell_type": "code",
   "execution_count": null,
   "id": "c4d51be7-3d1c-486f-ae5f-26e94cb3819e",
   "metadata": {},
   "outputs": [],
   "source": []
  }
 ],
 "metadata": {
  "kernelspec": {
   "display_name": "Python 3 (ipykernel)",
   "language": "python",
   "name": "python3"
  },
  "language_info": {
   "codemirror_mode": {
    "name": "ipython",
    "version": 3
   },
   "file_extension": ".py",
   "mimetype": "text/x-python",
   "name": "python",
   "nbconvert_exporter": "python",
   "pygments_lexer": "ipython3",
   "version": "3.12.7"
  }
 },
 "nbformat": 4,
 "nbformat_minor": 5
}
