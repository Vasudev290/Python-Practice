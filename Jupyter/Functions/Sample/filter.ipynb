{
 "cells": [
  {
   "cell_type": "code",
   "execution_count": 6,
   "id": "4cd92f6a-4c34-4c51-860c-02285e436359",
   "metadata": {},
   "outputs": [
    {
     "name": "stdout",
     "output_type": "stream",
     "text": [
      "[1000, 20, 30, 40, 30, 330, 49, 400, 600, 76]\n"
     ]
    }
   ],
   "source": [
    "product_price=[1000,20,30,40,30,330,49,400,600,76,34556]\n",
    "filter_obj=filter(lambda product_price:product_price<=1000, product_price)\n",
    "print(list(filter_obj))\n"
   ]
  },
  {
   "cell_type": "code",
   "execution_count": null,
   "id": "e80b43ba-5ef1-4c0d-b397-f851f674da4d",
   "metadata": {},
   "outputs": [],
   "source": []
  },
  {
   "cell_type": "code",
   "execution_count": null,
   "id": "71c44bc1-8b56-4c77-9ac0-66760c2f739e",
   "metadata": {},
   "outputs": [],
   "source": []
  }
 ],
 "metadata": {
  "kernelspec": {
   "display_name": "Python 3 (ipykernel)",
   "language": "python",
   "name": "python3"
  },
  "language_info": {
   "codemirror_mode": {
    "name": "ipython",
    "version": 3
   },
   "file_extension": ".py",
   "mimetype": "text/x-python",
   "name": "python",
   "nbconvert_exporter": "python",
   "pygments_lexer": "ipython3",
   "version": "3.12.5"
  }
 },
 "nbformat": 4,
 "nbformat_minor": 5
}
