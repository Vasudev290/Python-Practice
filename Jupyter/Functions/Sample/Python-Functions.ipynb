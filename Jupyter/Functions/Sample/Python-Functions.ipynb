{
 "cells": [
  {
   "cell_type": "code",
   "execution_count": null,
   "id": "a7add26e-bceb-48ba-8ed2-e63c1b417fe5",
   "metadata": {},
   "outputs": [],
   "source": [
    "#Function\n",
    "#A named section of a code that performs a specific task.\n",
    "#How to create function in python .?\n",
    "#using def() keyword def add(): print('Addition') add()\n",
    "#Code Reuseable"
   ]
  },
  {
   "cell_type": "code",
   "execution_count": 1,
   "id": "07c862a5-344e-4e60-bd1f-148690b9a59b",
   "metadata": {},
   "outputs": [
    {
     "name": "stdout",
     "output_type": "stream",
     "text": [
      "Addition\n",
      "Addition\n",
      "Addition\n"
     ]
    }
   ],
   "source": [
    "def add():\n",
    "    print(\"Addition\")\n",
    "add()\n",
    "add()\n",
    "add()"
   ]
  },
  {
   "cell_type": "code",
   "execution_count": 3,
   "id": "d87692c6-22f0-4507-b2da-09e87adb42f4",
   "metadata": {},
   "outputs": [
    {
     "name": "stdout",
     "output_type": "stream",
     "text": [
      "30\n",
      "300\n",
      "3000\n"
     ]
    }
   ],
   "source": [
    "def add(a,b):\n",
    "    print(a+b)\n",
    "add(10,20)\n",
    "add(100,200)\n",
    "add(1000,2000)"
   ]
  },
  {
   "cell_type": "code",
   "execution_count": 2,
   "id": "c317e18b-8fbe-4ca9-a6f8-62b9c66ff812",
   "metadata": {},
   "outputs": [
    {
     "name": "stdout",
     "output_type": "stream",
     "text": [
      "100\n",
      "100\n",
      "100\n"
     ]
    }
   ],
   "source": [
    "# A is global variable, we access in all function of the module\n",
    "a=100\n",
    "def funcone():\n",
    "    print(a)\n",
    "def functwo():\n",
    "    print(a)\n",
    "def functhree():\n",
    "    print(a)\n",
    "\n",
    "funcone()\n",
    "functwo()\n",
    "functhree()"
   ]
  },
  {
   "cell_type": "code",
   "execution_count": 3,
   "id": "2d8a8ca6-27e5-42e0-804e-4c3f0484fe57",
   "metadata": {},
   "outputs": [],
   "source": [
    "def account():\n",
    "    main_bal=999\n",
    "\n",
    "account()\n"
   ]
  },
  {
   "cell_type": "code",
   "execution_count": 4,
   "id": "18029947",
   "metadata": {},
   "outputs": [
    {
     "name": "stdout",
     "output_type": "stream",
     "text": [
      "100\n"
     ]
    }
   ],
   "source": [
    "#How to convert local variable as global\n",
    "def fun1():\n",
    "    global a\n",
    "    a=100\n",
    "\n",
    "def fun2():\n",
    "    print(a)\n",
    "\n",
    "fun1()\n",
    "fun2()"
   ]
  }
 ],
 "metadata": {
  "kernelspec": {
   "display_name": "Python 3 (ipykernel)",
   "language": "python",
   "name": "python3"
  },
  "language_info": {
   "codemirror_mode": {
    "name": "ipython",
    "version": 3
   },
   "file_extension": ".py",
   "mimetype": "text/x-python",
   "name": "python",
   "nbconvert_exporter": "python",
   "pygments_lexer": "ipython3",
   "version": "3.12.7"
  }
 },
 "nbformat": 4,
 "nbformat_minor": 5
}
