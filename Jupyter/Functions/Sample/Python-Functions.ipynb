{
 "cells": [
  {
   "cell_type": "code",
   "execution_count": null,
   "id": "a7add26e-bceb-48ba-8ed2-e63c1b417fe5",
   "metadata": {},
   "outputs": [],
   "source": [
    "#Function\n",
    "#A named section of a code that performs a specific task.\n",
    "#How to create function in python .?\n",
    "#using def() keyword def add(): print('Addition') add()\n",
    "#Code Reuseable"
   ]
  },
  {
   "cell_type": "code",
   "execution_count": 1,
   "id": "07c862a5-344e-4e60-bd1f-148690b9a59b",
   "metadata": {},
   "outputs": [
    {
     "name": "stdout",
     "output_type": "stream",
     "text": [
      "Addition\n",
      "Addition\n",
      "Addition\n"
     ]
    }
   ],
   "source": [
    "def add():\n",
    "    print(\"Addition\")\n",
    "add()\n",
    "add()\n",
    "add()"
   ]
  },
  {
   "cell_type": "code",
   "execution_count": 3,
   "id": "d87692c6-22f0-4507-b2da-09e87adb42f4",
   "metadata": {},
   "outputs": [
    {
     "name": "stdout",
     "output_type": "stream",
     "text": [
      "30\n",
      "300\n",
      "3000\n"
     ]
    }
   ],
   "source": [
    "def add(a,b):\n",
    "    print(a+b)\n",
    "add(10,20)\n",
    "add(100,200)\n",
    "add(1000,2000)"
   ]
  },
  {
   "cell_type": "code",
   "execution_count": null,
   "id": "c317e18b-8fbe-4ca9-a6f8-62b9c66ff812",
   "metadata": {},
   "outputs": [],
   "source": []
  }
 ],
 "metadata": {
  "kernelspec": {
   "display_name": "Python 3 (ipykernel)",
   "language": "python",
   "name": "python3"
  },
  "language_info": {
   "codemirror_mode": {
    "name": "ipython",
    "version": 3
   },
   "file_extension": ".py",
   "mimetype": "text/x-python",
   "name": "python",
   "nbconvert_exporter": "python",
   "pygments_lexer": "ipython3",
   "version": "3.12.5"
  }
 },
 "nbformat": 4,
 "nbformat_minor": 5
}
