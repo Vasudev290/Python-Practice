{
 "cells": [
  {
   "cell_type": "code",
   "execution_count": null,
   "id": "772d9543-87d0-492c-a40f-e93430232e57",
   "metadata": {},
   "outputs": [],
   "source": [
    "#Lambda\n",
    "#syntex of lambda\n",
    "#lambda argument : expression\n",
    "#add = add a,b : a+b"
   ]
  },
  {
   "cell_type": "code",
   "execution_count": 6,
   "id": "6f8abec2-468a-4cad-8460-9035e34ee2cc",
   "metadata": {},
   "outputs": [
    {
     "data": {
      "text/plain": [
       "3"
      ]
     },
     "execution_count": 6,
     "metadata": {},
     "output_type": "execute_result"
    }
   ],
   "source": [
    "#Normal\n",
    "def add(a,b):\n",
    "    return a+b\n",
    "add(10,20)\n",
    "add(1,2)"
   ]
  },
  {
   "cell_type": "code",
   "execution_count": 5,
   "id": "e5b9f9f6-0643-4c28-8229-5f51831aa6c8",
   "metadata": {},
   "outputs": [
    {
     "name": "stdout",
     "output_type": "stream",
     "text": [
      "30\n"
     ]
    }
   ],
   "source": [
    "#lambda\n",
    "add = lambda a,b:a+b\n",
    "print(add(10,20))"
   ]
  },
  {
   "cell_type": "code",
   "execution_count": 7,
   "id": "35f26ee3-cbff-4619-86c2-e948db60c267",
   "metadata": {},
   "outputs": [
    {
     "name": "stdout",
     "output_type": "stream",
     "text": [
      "23\n"
     ]
    }
   ],
   "source": [
    "#Normal \n",
    "def cal_age(year):\n",
    "    return 2024 - year\n",
    "print(cal_age(2001))"
   ]
  },
  {
   "cell_type": "code",
   "execution_count": 10,
   "id": "88bd1ae9-2f3c-413e-9488-730e4dfa0e85",
   "metadata": {},
   "outputs": [
    {
     "name": "stdout",
     "output_type": "stream",
     "text": [
      "23\n"
     ]
    }
   ],
   "source": [
    "age= lambda year:2024-year\n",
    "print(age(2001))"
   ]
  },
  {
   "cell_type": "code",
   "execution_count": null,
   "id": "88aa1469-a8dc-4db0-91f8-6eb7e093d239",
   "metadata": {},
   "outputs": [],
   "source": []
  }
 ],
 "metadata": {
  "kernelspec": {
   "display_name": "Python 3 (ipykernel)",
   "language": "python",
   "name": "python3"
  },
  "language_info": {
   "codemirror_mode": {
    "name": "ipython",
    "version": 3
   },
   "file_extension": ".py",
   "mimetype": "text/x-python",
   "name": "python",
   "nbconvert_exporter": "python",
   "pygments_lexer": "ipython3",
   "version": "3.12.7"
  }
 },
 "nbformat": 4,
 "nbformat_minor": 5
}
