{
 "cells": [
  {
   "cell_type": "code",
   "execution_count": null,
   "id": "c5ef847e-00e6-442a-81f1-3dd801497464",
   "metadata": {},
   "outputs": [],
   "source": []
  },
  {
   "cell_type": "code",
   "execution_count": 8,
   "id": "60d53755-9e2d-499d-b8c9-314f89f5e2f9",
   "metadata": {},
   "outputs": [
    {
     "name": "stdout",
     "output_type": "stream",
     "text": [
      "True\n",
      "<class 'dict'>\n",
      "True\n",
      "False\n"
     ]
    }
   ],
   "source": [
    "ename= \"Rahul\"\n",
    "enames= [\"Arjun\", \"Sruvan\", \"sofia\", \"Prashanth\", \"Mahi\"]\n",
    "t= (10,20,30,40,40,50)\n",
    "s= {10,20,30,40,40,50}\n",
    "emp= {'id':320, 'name':'Vaishu'}\n",
    "print(ename is not enames)\n",
    "print(type(emp))\n",
    "print('id' in emp)\n",
    "print('Rahul' in emp)"
   ]
  },
  {
   "cell_type": "code",
   "execution_count": null,
   "id": "82279c66-2a64-4327-9ed8-5f93a4255b73",
   "metadata": {},
   "outputs": [],
   "source": []
  }
 ],
 "metadata": {
  "kernelspec": {
   "display_name": "Python 3 (ipykernel)",
   "language": "python",
   "name": "python3"
  },
  "language_info": {
   "codemirror_mode": {
    "name": "ipython",
    "version": 3
   },
   "file_extension": ".py",
   "mimetype": "text/x-python",
   "name": "python",
   "nbconvert_exporter": "python",
   "pygments_lexer": "ipython3",
   "version": "3.12.5"
  }
 },
 "nbformat": 4,
 "nbformat_minor": 5
}
