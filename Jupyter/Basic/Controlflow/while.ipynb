{
 "cells": [
  {
   "cell_type": "code",
   "execution_count": 15,
   "id": "6fc34e3c-80af-4b5c-bf74-7f1b14103620",
   "metadata": {},
   "outputs": [
    {
     "name": "stdout",
     "output_type": "stream",
     "text": [
      "1\t2\t3\t4\t5\t"
     ]
    }
   ],
   "source": [
    "#print 1 to 5\n",
    "i=1\n",
    "while i<=5:\n",
    "    print(i,end=\"\\t\")\n",
    "    i=i+1"
   ]
  },
  {
   "cell_type": "code",
   "execution_count": 17,
   "id": "8c3a14f1-dbd5-46be-a73e-47c7294f70a2",
   "metadata": {},
   "outputs": [
    {
     "name": "stdout",
     "output_type": "stream",
     "text": [
      "Good\tAfternoon\n",
      "Good\tAfternoon\n",
      "Good\tAfternoon\n",
      "Good\tAfternoon\n",
      "Good\tAfternoon\n",
      "Good\tAfternoon\n",
      "Good\tAfternoon\n",
      "Good\tAfternoon\n",
      "Good\tAfternoon\n",
      "Good\tAfternoon\n"
     ]
    }
   ],
   "source": [
    "#print Good After noon 20times;\n",
    "i=1\n",
    "while i<=10:\n",
    "    print(\"Good\\tAfternoon\")\n",
    "    i=i+1"
   ]
  },
  {
   "cell_type": "code",
   "execution_count": 3,
   "id": "c9ef8023-b72c-436b-b4ae-af9c4bfa8490",
   "metadata": {},
   "outputs": [
    {
     "name": "stdout",
     "output_type": "stream",
     "text": [
      "1\t2\t3\t4\t5\t"
     ]
    }
   ],
   "source": [
    "i=1\n",
    "while i<=5*1:\n",
    "    print(i, end=\"\\t\")\n",
    "    i=i+1"
   ]
  },
  {
   "cell_type": "code",
   "execution_count": 18,
   "id": "a3e5db30-caef-4c08-b203-84657e6530e4",
   "metadata": {},
   "outputs": [
    {
     "name": "stdout",
     "output_type": "stream",
     "text": [
      "10\t11\t12\t13\t14\t15\t16\t17\t18\t19\t20\t21\t22\t23\t24\t25\t26\t27\t28\t29\t30\t31\t32\t33\t34\t35\t36\t37\t38\t39\t40\t41\t42\t43\t44\t45\t46\t47\t48\t49\t50\t"
     ]
    }
   ],
   "source": [
    "#print 10 -50\n",
    "i=10\n",
    "while i<=50:\n",
    "    print(i, end=\"\\t\")\n",
    "    i=i+1"
   ]
  },
  {
   "cell_type": "code",
   "execution_count": 19,
   "id": "57bd1b6c-1d6a-40da-a1ce-66ef15ea05e1",
   "metadata": {},
   "outputs": [
    {
     "name": "stdout",
     "output_type": "stream",
     "text": [
      "0\t2\t4\t6\t8\t10\t12\t14\t16\t18\t20\t"
     ]
    }
   ],
   "source": [
    "#print even numbers\n",
    "i=0\n",
    "while i<=20:\n",
    "    print(i, end=\"\\t\")\n",
    "    i=i+2"
   ]
  },
  {
   "cell_type": "code",
   "execution_count": 20,
   "id": "2048dbe0-3b45-40e8-9504-31cfa2ea81d3",
   "metadata": {},
   "outputs": [
    {
     "name": "stdout",
     "output_type": "stream",
     "text": [
      "100\t99\t98\t97\t96\t95\t94\t93\t92\t91\t90\t89\t88\t87\t86\t85\t84\t83\t82\t81\t80\t79\t78\t77\t76\t75\t74\t73\t72\t71\t70\t69\t68\t67\t66\t65\t64\t63\t62\t61\t60\t59\t58\t57\t56\t55\t54\t53\t52\t51\t50\t49\t48\t47\t46\t45\t44\t43\t42\t41\t40\t39\t38\t37\t36\t35\t34\t33\t32\t31\t30\t29\t28\t27\t26\t25\t24\t23\t22\t21\t20\t19\t18\t17\t16\t15\t14\t13\t12\t11\t10\t9\t8\t7\t6\t5\t4\t3\t2\t1\t"
     ]
    }
   ],
   "source": [
    "#print 100 -1\n",
    "i=100\n",
    "while i>=1:\n",
    "    print(i, end=\"\\t\")\n",
    "    i=i-1"
   ]
  },
  {
   "cell_type": "code",
   "execution_count": 9,
   "id": "a087fe2f-8c16-40e5-a780-0fee6f6260fc",
   "metadata": {},
   "outputs": [
    {
     "name": "stdout",
     "output_type": "stream",
     "text": [
      "5* 1 = 5\n",
      "5* 2 = 10\n",
      "5* 3 = 15\n",
      "5* 4 = 20\n",
      "5* 5 = 25\n",
      "5* 6 = 30\n",
      "5* 7 = 35\n",
      "5* 8 = 40\n",
      "5* 9 = 45\n",
      "5* 10 = 50\n"
     ]
    }
   ],
   "source": [
    "#print 5th table\n",
    "i=1\n",
    "while i<=10:\n",
    "    print(\"5*\",i,\"=\", i*5)\n",
    "    i=i+1"
   ]
  },
  {
   "cell_type": "code",
   "execution_count": null,
   "id": "506962a0-5bcd-41d2-bdfe-fd9328685f1d",
   "metadata": {},
   "outputs": [],
   "source": [
    "#print 1 to 10 but don't print no:5\n",
    "i=1\n",
    "while i<=10:\n",
    "    if i==5:\n",
    "        pass\n",
    "    else:\n",
    "        print(i)\n",
    "    i=i+1            "
   ]
  },
  {
   "cell_type": "code",
   "execution_count": null,
   "id": "e8ca657d-b135-46ba-8335-044f0fb46030",
   "metadata": {},
   "outputs": [],
   "source": [
    "for i in range(0,5):\n",
    "    for j in range(i+1):\n",
    "        print(*, end=\" \")\n",
    "    print()"
   ]
  },
  {
   "cell_type": "code",
   "execution_count": null,
   "id": "aa774845-9093-4a5f-8859-598d05d210c4",
   "metadata": {},
   "outputs": [],
   "source": []
  },
  {
   "cell_type": "code",
   "execution_count": null,
   "id": "58c888b9-2d11-422a-b7f7-4123afc61459",
   "metadata": {},
   "outputs": [],
   "source": []
  },
  {
   "cell_type": "code",
   "execution_count": null,
   "id": "678860c8-8f92-4815-8598-f43db379a1a9",
   "metadata": {},
   "outputs": [],
   "source": []
  },
  {
   "cell_type": "code",
   "execution_count": null,
   "id": "8dcdf10a-6a5e-487a-a749-cd4c2635a512",
   "metadata": {},
   "outputs": [],
   "source": []
  }
 ],
 "metadata": {
  "kernelspec": {
   "display_name": "Python 3 (ipykernel)",
   "language": "python",
   "name": "python3"
  },
  "language_info": {
   "codemirror_mode": {
    "name": "ipython",
    "version": 3
   },
   "file_extension": ".py",
   "mimetype": "text/x-python",
   "name": "python",
   "nbconvert_exporter": "python",
   "pygments_lexer": "ipython3",
   "version": "3.12.5"
  }
 },
 "nbformat": 4,
 "nbformat_minor": 5
}
