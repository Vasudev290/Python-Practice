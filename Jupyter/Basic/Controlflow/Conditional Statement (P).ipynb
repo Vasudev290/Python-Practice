{
 "cells": [
  {
   "cell_type": "code",
   "execution_count": 2,
   "id": "c7ca7796-ac12-4842-b48a-80b4af954a7b",
   "metadata": {},
   "outputs": [],
   "source": [
    "#Conditional Statement\n",
    "#If\n",
    "#If-Else\n",
    "#Elif"
   ]
  },
  {
   "cell_type": "code",
   "execution_count": null,
   "id": "d173b9d6-7d83-451b-a87e-e92093736938",
   "metadata": {},
   "outputs": [],
   "source": [
    "#If Statement\n",
    "if 1>2 and 4<10:\n",
    "    print(\"Condition not met\")"
   ]
  },
  {
   "cell_type": "code",
   "execution_count": 34,
   "id": "365dea4c-468f-435c-a643-a29f9a36148a",
   "metadata": {},
   "outputs": [
    {
     "name": "stdout",
     "output_type": "stream",
     "text": [
      "Not Eligible\n"
     ]
    }
   ],
   "source": [
    "Sal=1000\n",
    "if Sal<999:\n",
    "    print(\"Eligible for marriage\")\n",
    "else:\n",
    "    print(\"Not Eligible\")\n",
    "    "
   ]
  },
  {
   "cell_type": "code",
   "execution_count": 13,
   "id": "f27669a9-9c8c-4d63-8ae4-3da27c7ad489",
   "metadata": {},
   "outputs": [
    {
     "name": "stdin",
     "output_type": "stream",
     "text": [
      "Enter Number: 67\n"
     ]
    },
    {
     "name": "stdout",
     "output_type": "stream",
     "text": [
      "odd Number\n"
     ]
    }
   ],
   "source": [
    "#Read number keyboard and print num even or odd\n",
    "#If-else statement\n",
    "num = int(input(\"Enter Number:\"))\n",
    "\n",
    "if num % 2 ==0:\n",
    "    print(\"Number is even number\")\n",
    "else:\n",
    "    print(\"odd Number\")"
   ]
  },
  {
   "cell_type": "code",
   "execution_count": 19,
   "id": "24375b1e-d373-4c93-80af-3507d8370999",
   "metadata": {},
   "outputs": [
    {
     "name": "stdin",
     "output_type": "stream",
     "text": [
      "Enter Number 3\n"
     ]
    },
    {
     "name": "stdout",
     "output_type": "stream",
     "text": [
      "Wednesday\n"
     ]
    }
   ],
   "source": [
    "# Elif statement\n",
    "#0- Sunday\n",
    "#1- Monday\n",
    "#2- Tuesday\n",
    "#3- Wednesday\n",
    "#4- Thuesday\n",
    "#5- Friday\n",
    "#6- Saturday\n",
    "num = int(input(\"Enter Number\"))\n",
    "\n",
    "if num ==0:\n",
    "    print(\"Sunday\")\n",
    "elif num ==1:\n",
    "    print(\"Monday\")\n",
    "elif num ==2:\n",
    "    print(\"Tuesday\")\n",
    "elif num ==3:\n",
    "    print(\"Wednesday\")\n",
    "elif num ==4:\n",
    "    print(\"Thursday\")\n",
    "elif num ==5:\n",
    "    print(\"Friday\")\n",
    "elif num ==6:\n",
    "    print(\"Saturday\")\n",
    "else:\n",
    "    print(\"Tomorrow is Sunday\")\n",
    "    "
   ]
  },
  {
   "cell_type": "code",
   "execution_count": 35,
   "id": "50f94dee-9952-4cac-98ac-0410ce99ebf7",
   "metadata": {},
   "outputs": [
    {
     "name": "stdin",
     "output_type": "stream",
     "text": [
      "Enter the month number: 345\n"
     ]
    },
    {
     "name": "stdout",
     "output_type": "stream",
     "text": [
      "Happy New Year\n"
     ]
    }
   ],
   "source": [
    "# Elif statement\n",
    "#0- Jan\n",
    "#1- Feb\n",
    "#2- Mar\n",
    "#3- Apr\n",
    "#4- May\n",
    "#5- Jun\n",
    "#6- jul\n",
    "#7- Aug\n",
    "#8- Sep\n",
    "#9- Oct\n",
    "#10- Nov\n",
    "#11- Dec\n",
    "\n",
    "month= int(input(\"Enter the month number:\"))\n",
    "if month ==0:\n",
    "    print(\"Jan\")\n",
    "elif month ==1:\n",
    "    print(\"Fab\")\n",
    "elif month ==2:\n",
    "    print(\"Mar\")\n",
    "elif month ==3:\n",
    "    print(\"Apr\")\n",
    "elif month ==4:\n",
    "    print(\"May\")\n",
    "elif month ==5:\n",
    "    print(\"Jun\")\n",
    "elif month ==6:\n",
    "    print(\"Jul\")\n",
    "elif month ==7:\n",
    "    print(\"Aug\")\n",
    "elif month ==8:\n",
    "    print(\"Sep\")\n",
    "elif month ==9:\n",
    "    print(\"Oct\")\n",
    "elif month ==10:\n",
    "    print(\"Nov\")\n",
    "elif month ==11:\n",
    "    print(\"Dec\")\n",
    "else:\n",
    "    print(\"Happy New Year\")\n"
   ]
  },
  {
   "cell_type": "code",
   "execution_count": 26,
   "id": "35f9e449-2fe8-4646-859c-951910e9cf76",
   "metadata": {},
   "outputs": [
    {
     "name": "stdin",
     "output_type": "stream",
     "text": [
      "Enter Number 567\n"
     ]
    },
    {
     "name": "stdout",
     "output_type": "stream",
     "text": [
      "Yes..! Given Number is 3digits Number\n"
     ]
    }
   ],
   "source": [
    "#If-else Statement\n",
    "#Print Given Number is 3digits or not\n",
    "num = int(input(\"Enter Number\"))\n",
    "if num >= 100 and num <=999:\n",
    "    print(\"Yes..! Given Number is 3digits Number\")\n",
    "else:\n",
    "    print(\"No Given Number is Not a 3 Digits Number\")"
   ]
  },
  {
   "cell_type": "code",
   "execution_count": 31,
   "id": "81bfac28-5230-4b62-a3ee-f7e61c17de42",
   "metadata": {},
   "outputs": [
    {
     "name": "stdin",
     "output_type": "stream",
     "text": [
      "Enter Month 45\n"
     ]
    },
    {
     "name": "stdout",
     "output_type": "stream",
     "text": [
      "Yeah It's 2 digits number\n"
     ]
    }
   ],
   "source": [
    "#Print Given Number is 2digits or not\n",
    "num = int(input(\"Enter Month\"))\n",
    "if num >=10 and num <= 99:\n",
    "    print(\"Yeah It's 2 digits number\")\n",
    "else:\n",
    "    print(\"Sry Bro It's Not a 2 digits Number\")"
   ]
  }
 ],
 "metadata": {
  "kernelspec": {
   "display_name": "Python 3 (ipykernel)",
   "language": "python",
   "name": "python3"
  },
  "language_info": {
   "codemirror_mode": {
    "name": "ipython",
    "version": 3
   },
   "file_extension": ".py",
   "mimetype": "text/x-python",
   "name": "python",
   "nbconvert_exporter": "python",
   "pygments_lexer": "ipython3",
   "version": "3.12.5"
  }
 },
 "nbformat": 4,
 "nbformat_minor": 5
}
