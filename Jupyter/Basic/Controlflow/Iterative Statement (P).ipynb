{
 "cells": [
  {
   "cell_type": "code",
   "execution_count": 7,
   "id": "5349df78-be2e-4583-8b2e-e9ada73448ee",
   "metadata": {},
   "outputs": [
    {
     "name": "stdout",
     "output_type": "stream",
     "text": [
      "1\t2\t3\t4\t5\t"
     ]
    }
   ],
   "source": [
    "#While Loop\n",
    "#Print 1 to 5\n",
    "i=1\n",
    "while i<=5:\n",
    "    print(i, end=\"\\t\")\n",
    "    i=i+1"
   ]
  },
  {
   "cell_type": "code",
   "execution_count": 10,
   "id": "a5f30900-f03e-48bc-acbc-922e5b28f2f0",
   "metadata": {},
   "outputs": [
    {
     "name": "stdout",
     "output_type": "stream",
     "text": [
      "1 2 3 4 5 6 7 8 9 10 11 12 13 14 15 16 17 18 19 20 "
     ]
    }
   ],
   "source": [
    "#Print 1 to 20\n",
    "i=1\n",
    "while i<=20:\n",
    "    print(i, end=\" \")\n",
    "    i=i+1"
   ]
  },
  {
   "cell_type": "code",
   "execution_count": 13,
   "id": "5a2ff707-7f30-41a5-9f8b-54ea1cc391b2",
   "metadata": {},
   "outputs": [
    {
     "name": "stdout",
     "output_type": "stream",
     "text": [
      "0 2 4 6 8 10 12 14 16 18 20 "
     ]
    }
   ],
   "source": [
    "#Print Even Number\n",
    "i=0\n",
    "while i<=20:\n",
    "    print(i, end=\" \")\n",
    "    i=i+2"
   ]
  },
  {
   "cell_type": "code",
   "execution_count": 16,
   "id": "58d09103-f810-422b-a95d-7dd060c37e32",
   "metadata": {},
   "outputs": [
    {
     "name": "stdout",
     "output_type": "stream",
     "text": [
      "100\t99\t98\t97\t96\t95\t94\t93\t92\t91\t90\t89\t88\t87\t86\t85\t84\t83\t82\t81\t80\t79\t78\t77\t76\t75\t74\t73\t72\t71\t70\t69\t68\t67\t66\t65\t64\t63\t62\t61\t60\t59\t58\t57\t56\t55\t54\t53\t52\t51\t50\t"
     ]
    }
   ],
   "source": [
    "#Print 100 to 50\n",
    "i=100\n",
    "while i>=50:\n",
    "    print(i, end=\"\\t\")\n",
    "    i=i-1"
   ]
  },
  {
   "cell_type": "code",
   "execution_count": 26,
   "id": "f73b2950-0aa4-4c10-b7b2-20890f5ae661",
   "metadata": {},
   "outputs": [
    {
     "name": "stdout",
     "output_type": "stream",
     "text": [
      "['Rama', 'Sita', 'Hanuman', 'Laxman', 'Bharath']\n",
      "<class 'list'>\n",
      "Rama Sita Hanuman Laxman Bharath "
     ]
    }
   ],
   "source": [
    "#Forloop\n",
    "enames= [\"Rama\",\"Sita\", \"Hanuman\",\"Laxman\", \"Bharath\"]\n",
    "print(enames)\n",
    "print(type(enames))\n",
    "for ename in enames:\n",
    "    print(ename, end=\" \")"
   ]
  },
  {
   "cell_type": "code",
   "execution_count": 32,
   "id": "903658cf-cffa-4b47-be1d-f62fc8f45bb1",
   "metadata": {},
   "outputs": [
    {
     "name": "stdout",
     "output_type": "stream",
     "text": [
      "10 20 30 40 50 60 70 80 90 100 "
     ]
    }
   ],
   "source": [
    "#Forloop\n",
    "Ids=[10,20,30,40,50,60,70,80, 90,100]\n",
    "for id in Ids:\n",
    "    print(id, end=\" \")"
   ]
  },
  {
   "cell_type": "code",
   "execution_count": 34,
   "id": "030fbf48-9687-421d-adbf-e79862b1669e",
   "metadata": {},
   "outputs": [
    {
     "name": "stdout",
     "output_type": "stream",
     "text": [
      "10 20 30 40 50 60 70 80 90 100 "
     ]
    }
   ],
   "source": [
    "#While loop\n",
    "#Print 10 to 100\n",
    "i=10\n",
    "while i<=100:\n",
    "    print(i, end=\" \")\n",
    "    i=i+10"
   ]
  },
  {
   "cell_type": "code",
   "execution_count": null,
   "id": "158baf2c-e5ca-4e92-b822-db82b50d403a",
   "metadata": {},
   "outputs": [],
   "source": []
  }
 ],
 "metadata": {
  "kernelspec": {
   "display_name": "Python 3 (ipykernel)",
   "language": "python",
   "name": "python3"
  },
  "language_info": {
   "codemirror_mode": {
    "name": "ipython",
    "version": 3
   },
   "file_extension": ".py",
   "mimetype": "text/x-python",
   "name": "python",
   "nbconvert_exporter": "python",
   "pygments_lexer": "ipython3",
   "version": "3.12.5"
  }
 },
 "nbformat": 4,
 "nbformat_minor": 5
}
