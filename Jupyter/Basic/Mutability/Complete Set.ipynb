{
 "cells": [
  {
   "cell_type": "code",
   "execution_count": null,
   "id": "4bc556aa-7739-4ef8-bf61-a1d3723d5078",
   "metadata": {},
   "outputs": [],
   "source": [
    "#Set\n",
    "#Group of elements as one entity, duplicate are not allowed, hetrogenious delay allowed\n",
    "#Indexing concept is not appliable\n",
    "#We can't use while loop\n",
    "#Order genarate; insection order is not presented"
   ]
  },
  {
   "cell_type": "code",
   "execution_count": 1,
   "id": "44597c3f-bf36-45c0-8895-6e18befc6c09",
   "metadata": {},
   "outputs": [
    {
     "name": "stdout",
     "output_type": "stream",
     "text": [
      "{}\n",
      "<class 'dict'>\n"
     ]
    }
   ],
   "source": [
    "s= {}\n",
    "print(s)\n",
    "print(type(s))"
   ]
  },
  {
   "cell_type": "code",
   "execution_count": 2,
   "id": "33a24daf-e00d-43fe-8c69-81ac23df36bc",
   "metadata": {},
   "outputs": [
    {
     "name": "stdout",
     "output_type": "stream",
     "text": [
      "{True, 'Vasu', 20, 10, 30}\n"
     ]
    }
   ],
   "source": [
    "#insection order is not presented\n",
    "s1= {10,10,10,20,30,20,30,True, \"Vasu\"}\n",
    "print(s1)"
   ]
  },
  {
   "cell_type": "code",
   "execution_count": 3,
   "id": "88ff9a21-8073-4e99-817e-2c57febd812b",
   "metadata": {},
   "outputs": [
    {
     "name": "stdout",
     "output_type": "stream",
     "text": [
      "True\n",
      "Vasu\n",
      "20\n",
      "10\n",
      "30\n"
     ]
    }
   ],
   "source": [
    "#Forloop\n",
    "s1= {10,10,10,20,30,20,30,True, \"Vasu\"}\n",
    "for s in s1:\n",
    "    print(s)"
   ]
  },
  {
   "cell_type": "code",
   "execution_count": 4,
   "id": "d4173de1-1cad-4c49-83b5-8079c0aea9c0",
   "metadata": {},
   "outputs": [
    {
     "name": "stdout",
     "output_type": "stream",
     "text": [
      "{100, 70, 40, 10, 80, 50, 20, 90, 60, 30}\n"
     ]
    }
   ],
   "source": [
    "#Update()\n",
    "s1= {10,20,30,40,50}\n",
    "s2= {60,70,80,90,100}\n",
    "s1.update(s2)\n",
    "print(s1)"
   ]
  },
  {
   "cell_type": "code",
   "execution_count": null,
   "id": "4db895af-117b-4f43-a134-a79833623770",
   "metadata": {},
   "outputs": [],
   "source": []
  }
 ],
 "metadata": {
  "kernelspec": {
   "display_name": "Python 3 (ipykernel)",
   "language": "python",
   "name": "python3"
  },
  "language_info": {
   "codemirror_mode": {
    "name": "ipython",
    "version": 3
   },
   "file_extension": ".py",
   "mimetype": "text/x-python",
   "name": "python",
   "nbconvert_exporter": "python",
   "pygments_lexer": "ipython3",
   "version": "3.12.5"
  }
 },
 "nbformat": 4,
 "nbformat_minor": 5
}
