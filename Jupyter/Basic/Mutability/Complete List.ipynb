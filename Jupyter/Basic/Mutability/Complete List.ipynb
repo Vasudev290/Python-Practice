{
 "cells": [
  {
   "cell_type": "code",
   "execution_count": 3,
   "id": "b36c65e2-295f-4198-bb66-9770a5287142",
   "metadata": {},
   "outputs": [
    {
     "name": "stdout",
     "output_type": "stream",
     "text": [
      "[10, 10.8, 'Vasu', True, None, [], {}]\n"
     ]
    }
   ],
   "source": [
    "#List\n",
    "#A group of elements as one entity, where allowed duplicate and hetrogenious.\n",
    "l1=[10,10.8,\"Vasu\", True, None, [], {}]\n",
    "print(l1)"
   ]
  },
  {
   "cell_type": "code",
   "execution_count": 5,
   "id": "d0fa60be-7dec-4129-849e-e8c88fbcff81",
   "metadata": {},
   "outputs": [
    {
     "name": "stdout",
     "output_type": "stream",
     "text": [
      "Enter List Value 234\n"
     ]
    },
    {
     "name": "stdout",
     "output_type": "stream",
     "text": [
      "[]\n",
      "[10, 20, 30, 40, 50, 60, 70, 80, 90, 100]\n",
      "234\n",
      "[0, 1, 2, 3, 4, 5, 6, 7, 8, 9]\n",
      "['Vasu', 'Dev']\n"
     ]
    }
   ],
   "source": [
    "#CRUD\n",
    "#create\n",
    "l1= []\n",
    "l2= [10,20,30,40,50,60,70,80,90,100]\n",
    "l3= eval(input(\"Enter List Value\"))\n",
    "l4= list(range(10))\n",
    "l5= 'Vasu Dev'.split()\n",
    "\n",
    "print(l1)\n",
    "print(l2)\n",
    "print(l3)\n",
    "print(l4)\n",
    "print(l5)"
   ]
  },
  {
   "cell_type": "code",
   "execution_count": 7,
   "id": "8b3849f6-ef25-48fc-8319-8fd4712fb089",
   "metadata": {},
   "outputs": [
    {
     "name": "stdout",
     "output_type": "stream",
     "text": [
      "[110, 120, 130, 140, 150, 160]\n",
      "['Vasu', 'Vichu', 'Vikram', 'Venkatesh', 'Vinay', 'Vikranth']\n"
     ]
    }
   ],
   "source": [
    "#Read\n",
    "ids= [110,120,130,140,150,160]\n",
    "enames= [\"Vasu\", \"Vichu\", \"Vikram\", \"Venkatesh\", \"Vinay\", \"Vikranth\"]\n",
    "#indexing is applicable\n",
    "print(ids)\n",
    "print(enames)"
   ]
  },
  {
   "cell_type": "code",
   "execution_count": 1,
   "id": "12479542-6a6a-4fb4-b774-da533ad7869f",
   "metadata": {},
   "outputs": [
    {
     "name": "stdout",
     "output_type": "stream",
     "text": [
      "['Vasu', 'Vichu', 'Vikram', 'Venkatesh', 'Vinay', 'Vikranth', 'Vishnu']\n",
      "['Vasu', 'Vichu', 'Vikram', 'Venkatesh', 'Vinay', 'Vikranth', 'Vishnu']\n",
      "[110, 120, 130, 140, 150, 160, 170]\n",
      "110\n",
      "120\n",
      "130\n",
      "140\n",
      "150\n",
      "160\n",
      "['Vasu', 'Vichu', 'Vikram', 'Venkatesh', 'Vinay', 'Vikranth', 'Vishnu']\n",
      "Vasu\n",
      "Vichu\n",
      "Vikram\n",
      "Venkatesh\n",
      "Vinay\n",
      "Vikranth\n"
     ]
    }
   ],
   "source": [
    "#Read List Elements\n",
    "ids= [110,120,130,140,150,160, 170]\n",
    "enames= [\"Vasu\", \"Vichu\", \"Vikram\", \"Venkatesh\", \"Vinay\", \"Vikranth\",\"Vishnu\"]\n",
    "\n",
    "#Slice Method [:]\n",
    "new_names=enames[:]\n",
    "print(enames)\n",
    "print(new_names)\n",
    "\n",
    "print(ids)\n",
    "print(ids[0])\n",
    "print(ids[1])\n",
    "print(ids[2])\n",
    "print(ids[3])\n",
    "print(ids[4])\n",
    "print(ids[5])\n",
    "\n",
    "print(enames)\n",
    "print(enames[0])\n",
    "print(enames[1])\n",
    "print(enames[2])\n",
    "print(enames[3])\n",
    "print(enames[4])\n",
    "print(enames[5])"
   ]
  },
  {
   "cell_type": "code",
   "execution_count": 17,
   "id": "1445ff76-5347-41ac-a576-4d22b51d37ec",
   "metadata": {},
   "outputs": [
    {
     "name": "stdout",
     "output_type": "stream",
     "text": [
      "Vasu Vichu Vikram Venkatesh Vinay Vikranth "
     ]
    }
   ],
   "source": [
    "#iterating list object - forloop\n",
    "#Forloop\n",
    "enames= [\"Vasu\", \"Vichu\", \"Vikram\", \"Venkatesh\", \"Vinay\", \"Vikranth\"]\n",
    "for name in enames:\n",
    "    print(name, end=\" \")"
   ]
  },
  {
   "cell_type": "code",
   "execution_count": 25,
   "id": "910009ee-2b60-4a26-97e5-bc737d35761c",
   "metadata": {},
   "outputs": [
    {
     "name": "stdout",
     "output_type": "stream",
     "text": [
      "Vasu Vichu Vikram Venkatesh Vinay Vikranth "
     ]
    }
   ],
   "source": [
    "#iterating list object - while loop\n",
    "#Whileloop\n",
    "enames= [\"Vasu\", \"Vichu\", \"Vikram\", \"Venkatesh\", \"Vinay\", \"Vikranth\"]\n",
    "i=0\n",
    "while i<=5:\n",
    "    print(enames[i], end=\" \")\n",
    "    i=i+1"
   ]
  },
  {
   "cell_type": "code",
   "execution_count": 27,
   "id": "ccf09c37-f356-40a5-9e42-68b59ac0537a",
   "metadata": {},
   "outputs": [
    {
     "name": "stdout",
     "output_type": "stream",
     "text": [
      "110 120 130 140 150 160 170 "
     ]
    }
   ],
   "source": [
    "#iterating list object - forloop\n",
    "#Forloop\n",
    "ids= [110,120,130,140,150,160, 170]\n",
    "for id in ids:\n",
    "    print(id, end=\" \")"
   ]
  },
  {
   "cell_type": "code",
   "execution_count": 29,
   "id": "44183daa-d3e0-4fe6-b816-50b88a6928b9",
   "metadata": {},
   "outputs": [
    {
     "name": "stdout",
     "output_type": "stream",
     "text": [
      "110 120 130 140 150 160 170 "
     ]
    }
   ],
   "source": [
    "#iterating list object - whileloop\n",
    "#while loop\n",
    "ids= [110,120,130,140,150,160, 170]\n",
    "i=0\n",
    "while i<=6:\n",
    "    print(ids[i], end=\" \")\n",
    "    i=i+1"
   ]
  },
  {
   "cell_type": "code",
   "execution_count": null,
   "id": "382fac41-9e02-4189-a5c3-64f765127f0f",
   "metadata": {},
   "outputs": [],
   "source": []
  }
 ],
 "metadata": {
  "kernelspec": {
   "display_name": "Python 3 (ipykernel)",
   "language": "python",
   "name": "python3"
  },
  "language_info": {
   "codemirror_mode": {
    "name": "ipython",
    "version": 3
   },
   "file_extension": ".py",
   "mimetype": "text/x-python",
   "name": "python",
   "nbconvert_exporter": "python",
   "pygments_lexer": "ipython3",
   "version": "3.12.5"
  }
 },
 "nbformat": 4,
 "nbformat_minor": 5
}
