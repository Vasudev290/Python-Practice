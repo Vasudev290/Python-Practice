{
 "cells": [
  {
   "cell_type": "code",
   "execution_count": null,
   "id": "dbacac7d-8eec-40ac-88dc-e212dad9a188",
   "metadata": {},
   "outputs": [],
   "source": [
    "#List \n",
    "#Group of elements as one entity\n",
    "#Allowed diplicate & hetrogenecis elements\n",
    "#Element are string based on indexing\n",
    "#-ve indexing also possible\n",
    "#iterable object *for loop *While loop"
   ]
  },
  {
   "cell_type": "code",
   "execution_count": null,
   "id": "6287688d-cd20-435e-acaf-30522bf579c6",
   "metadata": {},
   "outputs": [],
   "source": [
    "#CRUD\n",
    "l1= [10,20,30,40,50,60,70]\n",
    "print(l1)\n",
    "print(type(l1))\n",
    "l2= [10,\"Vasu\", 4500.00, True, [1,2,3,4,5], {10,20,30,40,50}]\n",
    "print(l2)\n",
    "print(l2[2])\n",
    "print(type(l2))"
   ]
  },
  {
   "cell_type": "code",
   "execution_count": null,
   "id": "9017b749-2301-40c9-be75-43bb823ded86",
   "metadata": {},
   "outputs": [],
   "source": [
    "#Forloop\n",
    "enames= [\"Vasu\", \"vaishnavi\", \"vamana\", \"venkat\", \"vara\"]\n",
    "for x in enames:\n",
    "    print(x)"
   ]
  },
  {
   "cell_type": "code",
   "execution_count": null,
   "id": "15ee8853-741c-4da2-85db-aeaff7dca03f",
   "metadata": {},
   "outputs": [],
   "source": [
    "#While\n",
    "enames= [\"Vasu\", \"vaishnavi\", \"vamana\", \"venkat\", \"vara\", \"varaha\"]\n",
    "\n",
    "i=0\n",
    "while i<=5:\n",
    "    print(enames[i])\n",
    "    i=i+1"
   ]
  },
  {
   "cell_type": "code",
   "execution_count": null,
   "id": "80942e5c-0846-4f12-9fd3-211f41f7dca1",
   "metadata": {},
   "outputs": [],
   "source": [
    "#Forloop\n",
    "marks= [35, 45, 58, 95, 75, 95, 100]\n",
    "for mark in marks:\n",
    "    print(mark)"
   ]
  },
  {
   "cell_type": "code",
   "execution_count": null,
   "id": "75bddc3b-dfb2-4754-9a9f-633875159780",
   "metadata": {},
   "outputs": [],
   "source": [
    "#Forloop\n",
    "marks= [35, 45, 58, 95, 75, 95, 100]\n",
    "total_marks=0\n",
    "\n",
    "for x in marks:\n",
    "    #total_marks=total_marks + marks[i]\n",
    "    print(x)"
   ]
  },
  {
   "cell_type": "code",
   "execution_count": 1,
   "id": "6647e838-3ae2-4c90-82a8-51b963182de3",
   "metadata": {},
   "outputs": [
    {
     "name": "stdout",
     "output_type": "stream",
     "text": [
      "35\n",
      "45\n",
      "58\n",
      "95\n",
      "75\n",
      "95\n",
      "100\n"
     ]
    }
   ],
   "source": [
    "#While loop\n",
    "marks= [35, 45, 58, 95, 75, 95, 100]\n",
    "i=0\n",
    "while i<=6:\n",
    "    print(marks[i])\n",
    "    i=i+1"
   ]
  },
  {
   "cell_type": "code",
   "execution_count": null,
   "id": "28d78180-bdd7-4ef9-89a1-0637d049a5f1",
   "metadata": {},
   "outputs": [],
   "source": [
    "#While loop\n",
    "marks= [35, 45, 58, 95, 75, 95, 100]\n",
    "total_marks=0\n",
    "\n",
    "i=0\n",
    "while i<=6:\n",
    "    print(marks)\n",
    "    i+i+1\n"
   ]
  },
  {
   "cell_type": "code",
   "execution_count": null,
   "id": "b4fbae9b-6b8a-4c9f-9b8b-ca91a8b8f455",
   "metadata": {},
   "outputs": [],
   "source": []
  }
 ],
 "metadata": {
  "kernelspec": {
   "display_name": "Python 3 (ipykernel)",
   "language": "python",
   "name": "python3"
  },
  "language_info": {
   "codemirror_mode": {
    "name": "ipython",
    "version": 3
   },
   "file_extension": ".py",
   "mimetype": "text/x-python",
   "name": "python",
   "nbconvert_exporter": "python",
   "pygments_lexer": "ipython3",
   "version": "3.12.5"
  }
 },
 "nbformat": 4,
 "nbformat_minor": 5
}
