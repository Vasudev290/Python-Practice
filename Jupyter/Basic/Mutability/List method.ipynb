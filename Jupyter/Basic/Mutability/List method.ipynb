{
 "cells": [
  {
   "cell_type": "code",
   "execution_count": 7,
   "id": "237daefe-d11e-4bf9-8405-9df8b63efeec",
   "metadata": {},
   "outputs": [],
   "source": [
    "#Read Operation\n",
    "#index()\n",
    "#count()\n",
    "#len()\n",
    "enames= [\"Vasu\", \"Vichu\", \"Vikram\", \"Venkatesh\", \"Vinay\", \"Vikranth\", \"Vijay\", \"Vinni\", \"Vishnu\", \"Vishnu\"]\n"
   ]
  },
  {
   "cell_type": "code",
   "execution_count": 8,
   "id": "7fa428ee-38fe-443f-b1e8-6ffdaf0ce666",
   "metadata": {},
   "outputs": [
    {
     "name": "stdout",
     "output_type": "stream",
     "text": [
      "10\n"
     ]
    }
   ],
   "source": [
    "#len() - return number of elements present in the object\n",
    "enames= [\"Vasu\", \"Vichu\", \"Vikram\", \"Venkatesh\", \"Vinay\", \"Vikranth\", \"Vijay\", \"Vinni\", \"Vishnu\", \"Vishnu\"]\n",
    "print (len(enames))"
   ]
  },
  {
   "cell_type": "code",
   "execution_count": 11,
   "id": "a8a33f83-627a-43c2-81ed-073fcdd28249",
   "metadata": {},
   "outputs": [
    {
     "name": "stdout",
     "output_type": "stream",
     "text": [
      "3\n"
     ]
    }
   ],
   "source": [
    "#count()- return the number of occurence of specified item\n",
    "enames= [\"Vasu\", \"Vichu\", \"Vikram\", \"Venkatesh\", \"Vinay\", \"Vikranth\", \"Vijay\", \"Vinni\", \"Vishnu\", \"Vishnu\",\"Vishnu\"]\n",
    "print(enames.count(\"Vishnu\"))"
   ]
  },
  {
   "cell_type": "code",
   "execution_count": 12,
   "id": "f8464d9a-dec8-4277-a064-e327f365ca6c",
   "metadata": {},
   "outputs": [
    {
     "name": "stdout",
     "output_type": "stream",
     "text": [
      "2\n"
     ]
    }
   ],
   "source": [
    "#Index()- return the index value of first occurance of specified item\n",
    "enames= [\"Vasu\", \"Vichu\", \"Vikram\", \"Venkatesh\", \"Vinay\", \"Vikranth\", \"Vijay\", \"Vinni\", \"Vishnu\", \"Vishnu\",\"Vishnu\"]\n",
    "print(enames.index(\"Vikram\"))"
   ]
  },
  {
   "cell_type": "code",
   "execution_count": null,
   "id": "b2f34691-88eb-4648-bab4-4b909283a003",
   "metadata": {},
   "outputs": [],
   "source": []
  }
 ],
 "metadata": {
  "kernelspec": {
   "display_name": "Python 3 (ipykernel)",
   "language": "python",
   "name": "python3"
  },
  "language_info": {
   "codemirror_mode": {
    "name": "ipython",
    "version": 3
   },
   "file_extension": ".py",
   "mimetype": "text/x-python",
   "name": "python",
   "nbconvert_exporter": "python",
   "pygments_lexer": "ipython3",
   "version": "3.12.5"
  }
 },
 "nbformat": 4,
 "nbformat_minor": 5
}
