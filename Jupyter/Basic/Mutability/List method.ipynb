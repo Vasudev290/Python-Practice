{
 "cells": [
  {
   "cell_type": "code",
   "execution_count": 7,
   "id": "237daefe-d11e-4bf9-8405-9df8b63efeec",
   "metadata": {},
   "outputs": [],
   "source": [
    "#Read Operation\n",
    "#index()\n",
    "#count()\n",
    "#len()\n",
    "enames= [\"Vasu\", \"Vichu\", \"Vikram\", \"Venkatesh\", \"Vinay\", \"Vikranth\", \"Vijay\", \"Vinni\", \"Vishnu\", \"Vishnu\"]\n"
   ]
  },
  {
   "cell_type": "code",
   "execution_count": 8,
   "id": "7fa428ee-38fe-443f-b1e8-6ffdaf0ce666",
   "metadata": {},
   "outputs": [
    {
     "name": "stdout",
     "output_type": "stream",
     "text": [
      "10\n"
     ]
    }
   ],
   "source": [
    "#len() - return number of elements present in the object\n",
    "enames= [\"Vasu\", \"Vichu\", \"Vikram\", \"Venkatesh\", \"Vinay\", \"Vikranth\", \"Vijay\", \"Vinni\", \"Vishnu\", \"Vishnu\"]\n",
    "print (len(enames))"
   ]
  },
  {
   "cell_type": "code",
   "execution_count": 11,
   "id": "a8a33f83-627a-43c2-81ed-073fcdd28249",
   "metadata": {},
   "outputs": [
    {
     "name": "stdout",
     "output_type": "stream",
     "text": [
      "3\n"
     ]
    }
   ],
   "source": [
    "#count()- return the number of occurence of specified item\n",
    "enames= [\"Vasu\", \"Vichu\", \"Vikram\", \"Venkatesh\", \"Vinay\", \"Vikranth\", \"Vijay\", \"Vinni\", \"Vishnu\", \"Vishnu\",\"Vishnu\"]\n",
    "print(enames.count(\"Vishnu\"))"
   ]
  },
  {
   "cell_type": "code",
   "execution_count": 12,
   "id": "f8464d9a-dec8-4277-a064-e327f365ca6c",
   "metadata": {},
   "outputs": [
    {
     "name": "stdout",
     "output_type": "stream",
     "text": [
      "2\n"
     ]
    }
   ],
   "source": [
    "#Index()- return the index value of first occurance of specified item\n",
    "enames= [\"Vasu\", \"Vichu\", \"Vikram\", \"Venkatesh\", \"Vinay\", \"Vikranth\", \"Vijay\", \"Vinni\", \"Vishnu\", \"Vishnu\",\"Vishnu\"]\n",
    "print(enames.index(\"Vikram\"))"
   ]
  },
  {
   "cell_type": "code",
   "execution_count": 1,
   "id": "b2f34691-88eb-4648-bab4-4b909283a003",
   "metadata": {},
   "outputs": [
    {
     "name": "stdout",
     "output_type": "stream",
     "text": [
      "[110, 120, 130, 140, 150, 160, 170, 180]\n"
     ]
    }
   ],
   "source": [
    "#Update [append(), insert(), extend()]\n",
    "#append() - List function /method to add element to end of the list\n",
    "ids= [110,120,130,140,150,160, 170]\n",
    "ids.append(180)\n",
    "print(ids)"
   ]
  },
  {
   "cell_type": "code",
   "execution_count": 4,
   "id": "748898c2-24d8-4484-8b50-ddfcc73ede54",
   "metadata": {},
   "outputs": [
    {
     "name": "stdout",
     "output_type": "stream",
     "text": [
      "[110, 120, 125, 130, 140, 150, 160, 170]\n"
     ]
    }
   ],
   "source": [
    "#insert() -insert element at specified index\n",
    "ids= [110,120,130,140,150,160, 170]\n",
    "ids.insert(2,125)\n",
    "print(ids)"
   ]
  },
  {
   "cell_type": "code",
   "execution_count": 7,
   "id": "336c1f29-50ca-47d3-a339-fca1d41fa9b1",
   "metadata": {},
   "outputs": [
    {
     "name": "stdout",
     "output_type": "stream",
     "text": [
      "[110, 120, 130, 140, 150, 160, 170, 121, 122, 123, 124, 125, 126]\n"
     ]
    }
   ],
   "source": [
    "#Extend()- add all items in the present sequence to our list only\n",
    "ids= [110,120,130,140,150,160, 170]\n",
    "new_ids=[121, 122, 123, 124, 125, 126]\n",
    "ids.extend(new_ids)\n",
    "print(ids)"
   ]
  },
  {
   "cell_type": "code",
   "execution_count": 8,
   "id": "82383ac4-d73b-4f7b-8c1e-cf3fe4c88fc9",
   "metadata": {},
   "outputs": [
    {
     "data": {
      "text/plain": [
       "'list.append(element)\\n   list.insert(index, element)\\n   list.extend(sequence)'"
      ]
     },
     "execution_count": 8,
     "metadata": {},
     "output_type": "execute_result"
    }
   ],
   "source": [
    "'''list.append(element)\n",
    "   list.insert(index, element)\n",
    "   list.extend(sequence)'''"
   ]
  },
  {
   "cell_type": "code",
   "execution_count": 13,
   "id": "52d71c56-4000-4788-b88c-980ac5dd7718",
   "metadata": {},
   "outputs": [
    {
     "name": "stdout",
     "output_type": "stream",
     "text": [
      "['Vasu', 'Vichu', 'Vikram', 'Venkatesh', 'Vinay', 'Vikranth', 'Vijay', 'Vinni', 'Vishnu']\n"
     ]
    }
   ],
   "source": [
    "#Delete\n",
    "#Pop()- It removes the last elements from the list and return removed values\n",
    "enames= [\"Vasu\", \"Vichu\", \"Vikram\", \"Venkatesh\", \"Vinay\", \"Vikranth\", \"Vijay\", \"Vinni\", \"Vishnu\", \"Vishnu\"]\n",
    "enames.pop()\n",
    "print(enames)"
   ]
  },
  {
   "cell_type": "code",
   "execution_count": 14,
   "id": "15985dd4-2c3b-4347-8be0-2a6b4e8a0b41",
   "metadata": {},
   "outputs": [
    {
     "name": "stdout",
     "output_type": "stream",
     "text": [
      "['Vasu', 'Vichu', 'Vikram', 'Venkatesh', 'Vikranth', 'Vijay', 'Vinni', 'Vishnu', 'Vishnu']\n"
     ]
    }
   ],
   "source": [
    "#remove()- Remove the speceified elements from the list\n",
    "enames= [\"Vasu\", \"Vichu\", \"Vikram\", \"Venkatesh\", \"Vinay\", \"Vikranth\", \"Vijay\", \"Vinni\", \"Vishnu\", \"Vishnu\"]\n",
    "enames.remove(\"Vinay\")\n",
    "print(enames)"
   ]
  },
  {
   "cell_type": "code",
   "execution_count": 15,
   "id": "12af17a5-f25c-47ec-a213-d2bb6be7a39b",
   "metadata": {},
   "outputs": [
    {
     "name": "stdout",
     "output_type": "stream",
     "text": [
      "[1, 2, 3, 4, 5, 6, 7, 8, 9, 10]\n"
     ]
    }
   ],
   "source": [
    "#Concatinate list object + \n",
    "#Repitition *\n",
    "\n",
    "l1= [1,2,3,4,5]\n",
    "l2= [6,7,8,9,10]\n",
    "l3= l1+l2\n",
    "print(l3)"
   ]
  },
  {
   "cell_type": "code",
   "execution_count": 16,
   "id": "0bc9b773-ae27-45c6-a6da-555caf72613c",
   "metadata": {},
   "outputs": [
    {
     "name": "stdout",
     "output_type": "stream",
     "text": [
      "[1, 2, 3, 4, 5, 1, 2, 3, 4, 5]\n"
     ]
    }
   ],
   "source": [
    "#Repitition *\n",
    "l1= [1,2,3,4,5]\n",
    "print(l1 * 2)"
   ]
  },
  {
   "cell_type": "code",
   "execution_count": null,
   "id": "9864f06b-3aed-47b0-bcb0-90972a4e30ae",
   "metadata": {},
   "outputs": [],
   "source": []
  }
 ],
 "metadata": {
  "kernelspec": {
   "display_name": "Python 3 (ipykernel)",
   "language": "python",
   "name": "python3"
  },
  "language_info": {
   "codemirror_mode": {
    "name": "ipython",
    "version": 3
   },
   "file_extension": ".py",
   "mimetype": "text/x-python",
   "name": "python",
   "nbconvert_exporter": "python",
   "pygments_lexer": "ipython3",
   "version": "3.12.5"
  }
 },
 "nbformat": 4,
 "nbformat_minor": 5
}
