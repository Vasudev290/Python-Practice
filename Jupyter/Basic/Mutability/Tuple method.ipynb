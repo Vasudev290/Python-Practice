{
 "cells": [
  {
   "cell_type": "code",
   "execution_count": 3,
   "id": "b0be66b4-336d-4b85-b213-7625a879bcf2",
   "metadata": {},
   "outputs": [
    {
     "name": "stdout",
     "output_type": "stream",
     "text": [
      "5\n"
     ]
    }
   ],
   "source": [
    "#Index()- return the index value of first occurance of specified item\n",
    "enames=('Vasu','Karna','Arjun','Krishna','Bhishma','Bhimma','Abhi','Ashwathdhama','Dhorocharya', 'Nakula')\n",
    "#index   0       1        2        3         4         5      6         7             8               9\n",
    "print(enames.index(\"Bhimma\"))"
   ]
  },
  {
   "cell_type": "code",
   "execution_count": 7,
   "id": "5b665073-e861-45f8-8d13-dbf8d663d6e3",
   "metadata": {},
   "outputs": [
    {
     "name": "stdout",
     "output_type": "stream",
     "text": [
      "1\n"
     ]
    }
   ],
   "source": [
    "#count()-- return the number of occurence of specified item\n",
    "enames=('Vasu','Karna','Arjun','Krishna','Bhishma','Bhimma','Abhi','Ashwathdhama','Dhorocharya', 'Nakula')\n",
    "#index   0       1        2        3         4         5      6         7             8               9\n",
    "print(enames.count(\"Arjun\"))"
   ]
  },
  {
   "cell_type": "code",
   "execution_count": 9,
   "id": "b46d0333-cccc-4b4d-911c-1e9e73c1f4a7",
   "metadata": {},
   "outputs": [
    {
     "ename": "AttributeError",
     "evalue": "'tuple' object has no attribute 'sort'",
     "output_type": "error",
     "traceback": [
      "\u001b[1;31m---------------------------------------------------------------------------\u001b[0m",
      "\u001b[1;31mAttributeError\u001b[0m                            Traceback (most recent call last)",
      "Cell \u001b[1;32mIn[9], line 3\u001b[0m\n\u001b[0;32m      1\u001b[0m \u001b[38;5;66;03m#Sort()\u001b[39;00m\n\u001b[0;32m      2\u001b[0m enames\u001b[38;5;241m=\u001b[39m(\u001b[38;5;124m'\u001b[39m\u001b[38;5;124mVasu\u001b[39m\u001b[38;5;124m'\u001b[39m,\u001b[38;5;124m'\u001b[39m\u001b[38;5;124mKarna\u001b[39m\u001b[38;5;124m'\u001b[39m,\u001b[38;5;124m'\u001b[39m\u001b[38;5;124mArjun\u001b[39m\u001b[38;5;124m'\u001b[39m,\u001b[38;5;124m'\u001b[39m\u001b[38;5;124mKrishna\u001b[39m\u001b[38;5;124m'\u001b[39m,\u001b[38;5;124m'\u001b[39m\u001b[38;5;124mBhishma\u001b[39m\u001b[38;5;124m'\u001b[39m,\u001b[38;5;124m'\u001b[39m\u001b[38;5;124mBhimma\u001b[39m\u001b[38;5;124m'\u001b[39m,\u001b[38;5;124m'\u001b[39m\u001b[38;5;124mAbhi\u001b[39m\u001b[38;5;124m'\u001b[39m,\u001b[38;5;124m'\u001b[39m\u001b[38;5;124mAshwathdhama\u001b[39m\u001b[38;5;124m'\u001b[39m,\u001b[38;5;124m'\u001b[39m\u001b[38;5;124mDhorocharya\u001b[39m\u001b[38;5;124m'\u001b[39m, \u001b[38;5;124m'\u001b[39m\u001b[38;5;124mNakula\u001b[39m\u001b[38;5;124m'\u001b[39m)\n\u001b[1;32m----> 3\u001b[0m \u001b[43menames\u001b[49m\u001b[38;5;241;43m.\u001b[39;49m\u001b[43msort\u001b[49m()\n",
      "\u001b[1;31mAttributeError\u001b[0m: 'tuple' object has no attribute 'sort'"
     ]
    }
   ],
   "source": [
    "#Sort()\n",
    "enames=('Vasu','Karna','Arjun','Krishna','Bhishma','Bhimma','Abhi','Ashwathdhama','Dhorocharya', 'Nakula')\n",
    "enames.sort() #error"
   ]
  },
  {
   "cell_type": "code",
   "execution_count": 12,
   "id": "7b21fcb7-526f-439c-b21f-02f449a4b516",
   "metadata": {},
   "outputs": [
    {
     "name": "stdout",
     "output_type": "stream",
     "text": [
      "('Abhi', 'Arjun', 'Ashwathdhama', 'Bhimma', 'Bhishma', 'Dhorocharya', 'Karna', 'Krishna', 'Nakula', 'Vasu')\n"
     ]
    }
   ],
   "source": [
    "enames=('Vasu','Karna','Arjun','Krishna','Bhishma','Bhimma','Abhi','Ashwathdhama','Dhorocharya', 'Nakula')\n",
    "print(tuple((sorted(enames))))"
   ]
  },
  {
   "cell_type": "code",
   "execution_count": 13,
   "id": "5e2c2d25-f411-427d-a2f6-dbbad7a0bc50",
   "metadata": {},
   "outputs": [
    {
     "name": "stdout",
     "output_type": "stream",
     "text": [
      "[76, 110, 120, 126, 130, 132, 140, 150, 160, 170, 257, 1007]\n"
     ]
    }
   ],
   "source": [
    "#Sorted()\n",
    "ids= (1007,126,257,76,110,120,130,132,140,150,160, 170)\n",
    "result= sorted(ids)\n",
    "print(result)"
   ]
  },
  {
   "cell_type": "code",
   "execution_count": 17,
   "id": "94ea1fd4-5958-4eeb-93a9-13e3094d4ecc",
   "metadata": {},
   "outputs": [
    {
     "name": "stdout",
     "output_type": "stream",
     "text": [
      "1\n"
     ]
    }
   ],
   "source": [
    "#Min() - Return minimun value in sequnence(List, tuple, set)\n",
    "ids= (1007,126,257,76,110,1,120,130,132,140,150,160, 170)\n",
    "print(min(ids))"
   ]
  },
  {
   "cell_type": "code",
   "execution_count": 16,
   "id": "58122ac6-86d3-4c13-a06a-6b3a3f7745ef",
   "metadata": {},
   "outputs": [
    {
     "name": "stdout",
     "output_type": "stream",
     "text": [
      "3245678\n"
     ]
    }
   ],
   "source": [
    "#Max() - Return Maximun value in sequnence\n",
    "ids= (1007,126,257,76,110,120,130,3245678,132,140,150,160, 170)\n",
    "print(max(ids))"
   ]
  },
  {
   "cell_type": "code",
   "execution_count": 18,
   "id": "04afe827-142a-466d-b9e6-ccd36093d2cf",
   "metadata": {},
   "outputs": [
    {
     "name": "stdout",
     "output_type": "stream",
     "text": [
      "1007\n",
      "126\n",
      "257\n",
      "76\n",
      "110\n",
      "120\n",
      "130\n",
      "3245678\n",
      "132\n",
      "140\n",
      "150\n",
      "160\n",
      "170\n"
     ]
    }
   ],
   "source": [
    "#Whileloop\n",
    "ids= (1007,126,257,76,110,120,130,3245678,132,140,150,160, 170)\n",
    "\n",
    "i=0\n",
    "while i<=len(ids)-1:\n",
    "    print(ids[i])\n",
    "    i=i+1"
   ]
  },
  {
   "cell_type": "code",
   "execution_count": 20,
   "id": "78c15280-3a8a-43d0-b3de-2f09b64f443c",
   "metadata": {},
   "outputs": [
    {
     "name": "stdout",
     "output_type": "stream",
     "text": [
      "1007\n",
      "126\n",
      "257\n",
      "76\n",
      "110\n",
      "120\n",
      "130\n",
      "3245678\n",
      "132\n",
      "140\n",
      "150\n",
      "160\n",
      "170\n"
     ]
    }
   ],
   "source": [
    "#Forloop\n",
    "ids= (1007,126,257,76,110,120,130,3245678,132,140,150,160, 170)\n",
    "for id in ids:\n",
    "    print(id)"
   ]
  },
  {
   "cell_type": "code",
   "execution_count": null,
   "id": "716c2835-4c24-4314-ae42-bc6077e44f96",
   "metadata": {},
   "outputs": [],
   "source": []
  }
 ],
 "metadata": {
  "kernelspec": {
   "display_name": "Python 3 (ipykernel)",
   "language": "python",
   "name": "python3"
  },
  "language_info": {
   "codemirror_mode": {
    "name": "ipython",
    "version": 3
   },
   "file_extension": ".py",
   "mimetype": "text/x-python",
   "name": "python",
   "nbconvert_exporter": "python",
   "pygments_lexer": "ipython3",
   "version": "3.12.5"
  }
 },
 "nbformat": 4,
 "nbformat_minor": 5
}
