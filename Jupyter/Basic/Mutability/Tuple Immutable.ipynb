{
 "cells": [
  {
   "cell_type": "code",
   "execution_count": 3,
   "id": "172bf8c0-33f7-483c-9de2-8e019b757335",
   "metadata": {},
   "outputs": [
    {
     "name": "stdout",
     "output_type": "stream",
     "text": [
      "<class 'tuple'>\n"
     ]
    }
   ],
   "source": [
    "#Tuple\n",
    "#Group of element as one entity, and allowed hetrogenious elements.once tuple object created, we can't performance update operation.\n",
    "#Update and Delete operation is not possiable.\n",
    "t1= ()\n",
    "print(type(t1))"
   ]
  },
  {
   "cell_type": "code",
   "execution_count": 12,
   "id": "0df972fe-3d8b-49f9-9cb2-29abe92d8b43",
   "metadata": {},
   "outputs": [
    {
     "name": "stdout",
     "output_type": "stream",
     "text": [
      "('Vasu', 'Karna', 'Arjun', 'Krishna', 'Bhishma', 'Bhimma', 'Abhi', 'Ashwathdhama', 'Dhorocharya', 'Nakula')\n",
      "Vasu\n",
      "Karna\n",
      "Arjun\n",
      "Krishna\n",
      "Bhishma\n",
      "Bhimma\n",
      "Abhi\n",
      "Ashwathdhama\n",
      "Dhorocharya\n",
      "Nakula\n"
     ]
    }
   ],
   "source": [
    "#Create \n",
    "enames=('Vasu','Karna','Arjun','Krishna','Bhishma','Bhimma','Abhi','Ashwathdhama','Dhorocharya', 'Nakula')\n",
    "print(enames)\n",
    "print(enames[0])\n",
    "print(enames[1])\n",
    "print(enames[2])\n",
    "print(enames[3])\n",
    "print(enames[4])\n",
    "print(enames[5])\n",
    "print(enames[6])\n",
    "print(enames[7])\n",
    "print(enames[8])\n",
    "print(enames[9])"
   ]
  },
  {
   "cell_type": "code",
   "execution_count": 3,
   "id": "6c7bb5f6-a2f4-4ced-989d-bb0873c270b2",
   "metadata": {},
   "outputs": [
    {
     "name": "stdout",
     "output_type": "stream",
     "text": [
      "('Monday', 'Tuesday', 'wednesday', 'thuesday', 'Friday')\n",
      "Tuesday\n",
      "(10, 20, 30, 40, 50, 60, 70, 80, 90, 100)\n",
      "50\n"
     ]
    }
   ],
   "source": [
    "#Create \n",
    "t= ()\n",
    "t1=('Monday', 'Tuesday', 'wednesday', 'thuesday', 'Friday')\n",
    "t2= (10,20,30,40,50,60,70,80,90,100)\n",
    "print(t1)\n",
    "print(t1[1])\n",
    "print(t2)\n",
    "print(t2[4])"
   ]
  },
  {
   "cell_type": "code",
   "execution_count": 10,
   "id": "550a12ea-07c2-4125-8fa3-1a57bd6531c4",
   "metadata": {},
   "outputs": [
    {
     "name": "stdout",
     "output_type": "stream",
     "text": [
      "Monday\n",
      "Tuesday\n",
      "wednesday\n",
      "thuesday\n",
      "Friday\n"
     ]
    }
   ],
   "source": [
    "#for loop\n",
    "t1=('Monday', 'Tuesday', 'wednesday', 'thuesday', 'Friday')\n",
    "for t in t1:\n",
    "    print(t)"
   ]
  },
  {
   "cell_type": "code",
   "execution_count": 13,
   "id": "b8730e37-1561-48b7-8610-a01325e8400f",
   "metadata": {},
   "outputs": [
    {
     "name": "stdout",
     "output_type": "stream",
     "text": [
      "Monday\n",
      "Tuesday\n",
      "wednesday\n",
      "thuesday\n",
      "Friday\n"
     ]
    }
   ],
   "source": [
    "#while loop\n",
    "t1=('Monday', 'Tuesday', 'wednesday', 'thuesday', 'Friday')\n",
    "i=0\n",
    "while i<=4:\n",
    "    print(t1[i])\n",
    "    i=i+1"
   ]
  },
  {
   "cell_type": "code",
   "execution_count": 16,
   "id": "a58de9b5-57ad-4a81-825c-070a29ba7473",
   "metadata": {},
   "outputs": [
    {
     "name": "stdout",
     "output_type": "stream",
     "text": [
      "Monday\n",
      "Tuesday\n",
      "wednesday\n",
      "thuesday\n",
      "Friday\n"
     ]
    }
   ],
   "source": [
    "#With len - while\n",
    "t1=('Monday', 'Tuesday', 'wednesday', 'thuesday', 'Friday')\n",
    "i=0\n",
    "while i<=len(t1)-1:\n",
    "    print(t1[i])\n",
    "    i=i+1"
   ]
  },
  {
   "cell_type": "code",
   "execution_count": 24,
   "id": "b53645bf-8ba6-4689-9aaa-664c9aeea292",
   "metadata": {},
   "outputs": [
    {
     "name": "stdout",
     "output_type": "stream",
     "text": [
      "('Friday', 'Monday', 'Tuesday', 'thuesday', 'wednesday')\n",
      "['Friday', 'Monday', 'Tuesday', 'thuesday', 'wednesday']\n",
      "['Friday', 'Monday', 'Tuesday', 'thuesday', 'wednesday']\n",
      "<class 'list'>\n",
      "[9, 10, 20, 30, 40, 50, 60, 70, 80, 90, 100]\n"
     ]
    }
   ],
   "source": [
    "#Sort\n",
    "t1=('Monday', 'Tuesday', 'wednesday', 'thuesday', 'Friday')\n",
    "\n",
    "print(tuple((sorted(t1))))\n",
    "\n",
    "days= sorted(t1)\n",
    "print(days)\n",
    "\n",
    "new_days=sorted(t1)\n",
    "print(new_days)\n",
    "print (type(new_days))\n",
    "\n",
    "t2= (10,20,30,40,50,60 ,9,70,80,90,100)\n",
    "num= sorted(t2)\n",
    "print(num)"
   ]
  },
  {
   "cell_type": "code",
   "execution_count": 20,
   "id": "528972a0-1e4e-4b75-ac61-223d58dc1335",
   "metadata": {},
   "outputs": [
    {
     "name": "stdout",
     "output_type": "stream",
     "text": [
      "['Abhi', 'Arjun', 'Ashwathdhama', 'Bhimma', 'Bhishma', 'Dhorocharya', 'Karna', 'Krishna', 'Nakula', 'Vasu']\n"
     ]
    }
   ],
   "source": [
    "enames=('Vasu','Karna','Arjun','Krishna','Bhishma','Bhimma','Abhi','Ashwathdhama','Dhorocharya', 'Nakula')\n",
    "new_names=sorted(enames)\n",
    "print(new_names)\n"
   ]
  },
  {
   "cell_type": "code",
   "execution_count": 10,
   "id": "6bfbc274-7a6a-4626-8771-8587c9e6a04b",
   "metadata": {},
   "outputs": [
    {
     "name": "stdout",
     "output_type": "stream",
     "text": [
      "(101, 102, 103, 104, 105, 106, 107, 108)\n",
      "(104, 105, 106, 107)\n",
      "(103, 104, 105)\n"
     ]
    }
   ],
   "source": [
    "#Read Operation\n",
    "#Accessing tuple element - index and slice\n",
    "ids = (101,102,103,104,105,106,107,108)\n",
    "print(ids[:])\n",
    "print(ids[3:7])\n",
    "print(ids[2:5])"
   ]
  },
  {
   "cell_type": "code",
   "execution_count": 14,
   "id": "c851e99e-f9c3-49b0-955e-628e4613f11e",
   "metadata": {},
   "outputs": [
    {
     "name": "stdout",
     "output_type": "stream",
     "text": [
      "['Vasu', 'Suryaputhra Karna', 'Arjun', 'Krishna', 'Bhishma', 'Bhimma', 'Abhi', 'Ashwathdhama', 'Dhorocharya', 'Nakula']\n"
     ]
    }
   ],
   "source": [
    "#Names Update in list object\n",
    "enames=['Vasu','Karna','Arjun','Krishna','Bhishma','Bhimma','Abhi','Ashwathdhama','Dhorocharya', 'Nakula']\n",
    "enames[1] = \"Suryaputhra Karna\"\n",
    "print(enames)"
   ]
  },
  {
   "cell_type": "code",
   "execution_count": 15,
   "id": "11115c36-d5ad-4d38-a10e-efd97dde7ed9",
   "metadata": {},
   "outputs": [
    {
     "ename": "TypeError",
     "evalue": "'tuple' object does not support item assignment",
     "output_type": "error",
     "traceback": [
      "\u001b[1;31m---------------------------------------------------------------------------\u001b[0m",
      "\u001b[1;31mTypeError\u001b[0m                                 Traceback (most recent call last)",
      "Cell \u001b[1;32mIn[15], line 3\u001b[0m\n\u001b[0;32m      1\u001b[0m \u001b[38;5;66;03m#Names Update in tuple object\u001b[39;00m\n\u001b[0;32m      2\u001b[0m enames\u001b[38;5;241m=\u001b[39m(\u001b[38;5;124m'\u001b[39m\u001b[38;5;124mVasu\u001b[39m\u001b[38;5;124m'\u001b[39m,\u001b[38;5;124m'\u001b[39m\u001b[38;5;124mKarna\u001b[39m\u001b[38;5;124m'\u001b[39m,\u001b[38;5;124m'\u001b[39m\u001b[38;5;124mArjun\u001b[39m\u001b[38;5;124m'\u001b[39m,\u001b[38;5;124m'\u001b[39m\u001b[38;5;124mKrishna\u001b[39m\u001b[38;5;124m'\u001b[39m,\u001b[38;5;124m'\u001b[39m\u001b[38;5;124mBhishma\u001b[39m\u001b[38;5;124m'\u001b[39m,\u001b[38;5;124m'\u001b[39m\u001b[38;5;124mBhimma\u001b[39m\u001b[38;5;124m'\u001b[39m,\u001b[38;5;124m'\u001b[39m\u001b[38;5;124mAbhi\u001b[39m\u001b[38;5;124m'\u001b[39m,\u001b[38;5;124m'\u001b[39m\u001b[38;5;124mAshwathdhama\u001b[39m\u001b[38;5;124m'\u001b[39m,\u001b[38;5;124m'\u001b[39m\u001b[38;5;124mDhorocharya\u001b[39m\u001b[38;5;124m'\u001b[39m, \u001b[38;5;124m'\u001b[39m\u001b[38;5;124mNakula\u001b[39m\u001b[38;5;124m'\u001b[39m)\n\u001b[1;32m----> 3\u001b[0m \u001b[43menames\u001b[49m\u001b[43m[\u001b[49m\u001b[38;5;241;43m1\u001b[39;49m\u001b[43m]\u001b[49m \u001b[38;5;241m=\u001b[39m \u001b[38;5;124m\"\u001b[39m\u001b[38;5;124mSuryaputhra Karna\u001b[39m\u001b[38;5;124m\"\u001b[39m\n\u001b[0;32m      4\u001b[0m \u001b[38;5;28mprint\u001b[39m(enames)\n",
      "\u001b[1;31mTypeError\u001b[0m: 'tuple' object does not support item assignment"
     ]
    }
   ],
   "source": [
    "#Names Update in tuple object\n",
    "#Once object is created we can't update..!\n",
    "enames=('Vasu','Karna','Arjun','Krishna','Bhishma','Bhimma','Abhi','Ashwathdhama','Dhorocharya', 'Nakula')\n",
    "enames[1] = \"Suryaputhra Karna\"\n",
    "print(enames)"
   ]
  },
  {
   "cell_type": "code",
   "execution_count": null,
   "id": "eaf871f3-d07c-40f6-976e-270e65ba1bc3",
   "metadata": {},
   "outputs": [],
   "source": []
  }
 ],
 "metadata": {
  "kernelspec": {
   "display_name": "Python 3 (ipykernel)",
   "language": "python",
   "name": "python3"
  },
  "language_info": {
   "codemirror_mode": {
    "name": "ipython",
    "version": 3
   },
   "file_extension": ".py",
   "mimetype": "text/x-python",
   "name": "python",
   "nbconvert_exporter": "python",
   "pygments_lexer": "ipython3",
   "version": "3.12.5"
  }
 },
 "nbformat": 4,
 "nbformat_minor": 5
}
