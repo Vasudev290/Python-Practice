{
 "cells": [
  {
   "cell_type": "code",
   "execution_count": null,
   "id": "e688fb61-f32d-425d-8ed7-5dd59fd6cb4f",
   "metadata": {},
   "outputs": [],
   "source": [
    "#Dict \n",
    "#Group of element as key:pair one entity\n",
    "#Group of properity(property name and value) as one entity\n",
    "#duplicate keys are not allowed but values are allowed\n",
    "#indexing concept is not appliable\n",
    "#insection order is not preserved\n",
    "#mutable object\n",
    "#we can't use while loop bcoz of indexing concept is not appliable\n",
    "#we can use for loop "
   ]
  },
  {
   "cell_type": "code",
   "execution_count": 6,
   "id": "2bf81c50-a6a1-44c8-a370-05064a00cd51",
   "metadata": {},
   "outputs": [
    {
     "name": "stdout",
     "output_type": "stream",
     "text": [
      "{}\n",
      "<class 'dict'>\n"
     ]
    }
   ],
   "source": [
    "d1= {}\n",
    "print(d1)\n",
    "print(type(d1))"
   ]
  },
  {
   "cell_type": "code",
   "execution_count": 8,
   "id": "10b395bd-4719-44bc-87e7-d1231544b900",
   "metadata": {},
   "outputs": [
    {
     "name": "stdout",
     "output_type": "stream",
     "text": [
      "{'id': 321, 'name': 'Vasu', 'sal': 45000, 'avail': True}\n"
     ]
    }
   ],
   "source": [
    "#Syntex\n",
    "emp= {\n",
    "    \"id\":321,\n",
    "    \"name\":'Vasu',\n",
    "    \"sal\":45000.95,\n",
    "    \"avail\": True\n",
    "}\n",
    "print(emp)"
   ]
  },
  {
   "cell_type": "code",
   "execution_count": 9,
   "id": "08f674a2-3cff-4752-b617-ee4c1ca9099a",
   "metadata": {},
   "outputs": [
    {
     "name": "stdout",
     "output_type": "stream",
     "text": [
      "{'ids': 106}\n"
     ]
    }
   ],
   "source": [
    "#list and tuple - dulicate element are allowed\n",
    "#set- dulicate element are not allowed\n",
    "#dict- dulicate keys are not allowed\n",
    "emp={\n",
    "    \"ids\":102,\n",
    "    \"ids\":103,\n",
    "    \"ids\":104,\n",
    "    \"ids\":105,\n",
    "    \"ids\":106\n",
    "}\n",
    "print(emp)"
   ]
  },
  {
   "cell_type": "code",
   "execution_count": 11,
   "id": "363eb662-8cee-4d78-ac00-864d4472e44c",
   "metadata": {},
   "outputs": [
    {
     "ename": "KeyError",
     "evalue": "0",
     "output_type": "error",
     "traceback": [
      "\u001b[1;31m---------------------------------------------------------------------------\u001b[0m",
      "\u001b[1;31mKeyError\u001b[0m                                  Traceback (most recent call last)",
      "Cell \u001b[1;32mIn[11], line 8\u001b[0m\n\u001b[0;32m      1\u001b[0m \u001b[38;5;66;03m#index is applicable or not\u001b[39;00m\n\u001b[0;32m      2\u001b[0m emp\u001b[38;5;241m=\u001b[39m {\n\u001b[0;32m      3\u001b[0m     \u001b[38;5;124m\"\u001b[39m\u001b[38;5;124mid\u001b[39m\u001b[38;5;124m\"\u001b[39m:\u001b[38;5;241m321\u001b[39m,\n\u001b[0;32m      4\u001b[0m     \u001b[38;5;124m\"\u001b[39m\u001b[38;5;124mname\u001b[39m\u001b[38;5;124m\"\u001b[39m:\u001b[38;5;124m'\u001b[39m\u001b[38;5;124mVasu\u001b[39m\u001b[38;5;124m'\u001b[39m,\n\u001b[0;32m      5\u001b[0m     \u001b[38;5;124m\"\u001b[39m\u001b[38;5;124msal\u001b[39m\u001b[38;5;124m\"\u001b[39m:\u001b[38;5;241m45000.95\u001b[39m,\n\u001b[0;32m      6\u001b[0m     \u001b[38;5;124m\"\u001b[39m\u001b[38;5;124mavail\u001b[39m\u001b[38;5;124m\"\u001b[39m: \u001b[38;5;28;01mTrue\u001b[39;00m\n\u001b[0;32m      7\u001b[0m }\n\u001b[1;32m----> 8\u001b[0m \u001b[38;5;28mprint\u001b[39m(\u001b[43memp\u001b[49m\u001b[43m[\u001b[49m\u001b[38;5;241;43m0\u001b[39;49m\u001b[43m]\u001b[49m)\n\u001b[0;32m      9\u001b[0m emp1\u001b[38;5;241m=\u001b[39m {\n\u001b[0;32m     10\u001b[0m     \u001b[38;5;124m\"\u001b[39m\u001b[38;5;124mid\u001b[39m\u001b[38;5;124m\"\u001b[39m:\u001b[38;5;241m321\u001b[39m,\n\u001b[0;32m     11\u001b[0m     \u001b[38;5;124m\"\u001b[39m\u001b[38;5;124mname\u001b[39m\u001b[38;5;124m\"\u001b[39m:\u001b[38;5;124m'\u001b[39m\u001b[38;5;124mVasu\u001b[39m\u001b[38;5;124m'\u001b[39m,\n\u001b[0;32m     12\u001b[0m     \u001b[38;5;124m\"\u001b[39m\u001b[38;5;124msal\u001b[39m\u001b[38;5;124m\"\u001b[39m:\u001b[38;5;241m45000.95\u001b[39m,\n\u001b[0;32m     13\u001b[0m     \u001b[38;5;124m\"\u001b[39m\u001b[38;5;124mavail\u001b[39m\u001b[38;5;124m\"\u001b[39m: \u001b[38;5;28;01mTrue\u001b[39;00m\n\u001b[0;32m     14\u001b[0m }\n\u001b[0;32m     15\u001b[0m \u001b[38;5;28mprint\u001b[39m(emp[\u001b[38;5;28mid\u001b[39m])\n",
      "\u001b[1;31mKeyError\u001b[0m: 0"
     ]
    }
   ],
   "source": [
    "#index is applicable or not\n",
    "#we can't call index value but we cn call the key value\n",
    "emp= {\n",
    "    \"id\":321,\n",
    "    \"name\":'Vasu',\n",
    "    \"sal\":45000.95,\n",
    "    \"avail\": True\n",
    "}\n",
    "print(emp[0])\n"
   ]
  },
  {
   "cell_type": "code",
   "execution_count": 14,
   "id": "cb3029e1-71ec-4ab8-a0f7-1fc970b567f2",
   "metadata": {},
   "outputs": [
    {
     "name": "stdout",
     "output_type": "stream",
     "text": [
      "321\n",
      "Vasu\n",
      "45000.95\n",
      "True\n"
     ]
    }
   ],
   "source": [
    "emp= {\n",
    "    \"id\":321,\n",
    "    \"name\":'Vasu',\n",
    "    \"sal\":45000.95,\n",
    "    \"avail\": True\n",
    "}\n",
    "print(emp['id'])\n",
    "print(emp['name'])\n",
    "print(emp['sal'])\n",
    "print(emp['avail'])"
   ]
  },
  {
   "cell_type": "code",
   "execution_count": 17,
   "id": "a2cff6b5-ddd3-4a6f-b56b-70305f85ce4d",
   "metadata": {},
   "outputs": [
    {
     "name": "stdout",
     "output_type": "stream",
     "text": [
      "321\n",
      "Vasu\n",
      "45000.95\n",
      "True\n"
     ]
    }
   ],
   "source": [
    "#Get method() # To get value associated with key\n",
    "emp= {\n",
    "    \"id\":321,\n",
    "    \"name\":'Vasu',\n",
    "    \"sal\":45000.95,\n",
    "    \"avail\": True\n",
    "}\n",
    "print(emp.get('id'))\n",
    "print(emp.get('name'))\n",
    "print(emp.get('sal'))\n",
    "print(emp.get('avail'))"
   ]
  },
  {
   "cell_type": "code",
   "execution_count": 19,
   "id": "70f12546-ab54-4388-9277-e88751dd4ac2",
   "metadata": {},
   "outputs": [
    {
     "name": "stdout",
     "output_type": "stream",
     "text": [
      "id\n",
      "name\n",
      "sal\n",
      "avail\n"
     ]
    }
   ],
   "source": [
    "#create - dict()\n",
    "#Read- get(), keys(), value(), items()\n",
    "emp= {\n",
    "    \"id\":321,\n",
    "    \"name\":'Vasu',\n",
    "    \"sal\":45000.95,\n",
    "    \"avail\": True\n",
    "}\n",
    "#key() -return all key values\n",
    "for key in emp.keys():\n",
    "    print(key)"
   ]
  },
  {
   "cell_type": "code",
   "execution_count": 20,
   "id": "605a7bd0-004a-446e-8e55-c6b6b8d16e24",
   "metadata": {},
   "outputs": [
    {
     "name": "stdout",
     "output_type": "stream",
     "text": [
      "321\n",
      "Vasu\n",
      "45000.95\n",
      "True\n"
     ]
    }
   ],
   "source": [
    "#value() -return all values\n",
    "emp= {\n",
    "    \"id\":321,\n",
    "    \"name\":'Vasu',\n",
    "    \"sal\":45000.95,\n",
    "    \"avail\": True\n",
    "}\n",
    "for value in emp.values():\n",
    "    print(value)"
   ]
  },
  {
   "cell_type": "code",
   "execution_count": 5,
   "id": "bc056edf-e687-4bd5-b97d-d5ad3f6c40e1",
   "metadata": {},
   "outputs": [
    {
     "name": "stdout",
     "output_type": "stream",
     "text": [
      "id : 321\n",
      "name : Vasu\n",
      "sal : 45000.95\n",
      "avail : True\n"
     ]
    }
   ],
   "source": [
    "#items() - return all key : values\n",
    "emp= {\n",
    "    \"id\":321,\n",
    "    \"name\":'Vasu',\n",
    "    \"sal\":45000.95,\n",
    "    \"avail\": True\n",
    "}\n",
    "for key,value in emp.items():\n",
    "    print(key,\":\",value)"
   ]
  },
  {
   "cell_type": "code",
   "execution_count": 3,
   "id": "dde77fd3-dcfc-416f-9ed5-389d59cd4b26",
   "metadata": {},
   "outputs": [
    {
     "name": "stdout",
     "output_type": "stream",
     "text": [
      "{'id': 321, 'name': 'Vasu', 'sal': 45000.95, 'avail': True}\n"
     ]
    }
   ],
   "source": [
    "#popitems () - remove the random entry(key:value)\n",
    "emp= {\n",
    "    \"id\":321,\n",
    "    \"name\":'Vasu',\n",
    "    \"sal\":45000.95,\n",
    "    \"avail\": True,\n",
    "    \"location\":'Bangalore'\n",
    "}\n",
    "emp.popitem()\n",
    "print(emp)"
   ]
  },
  {
   "cell_type": "code",
   "execution_count": 2,
   "id": "cf1ab360-4859-4bfe-9447-50ac4b08c741",
   "metadata": {},
   "outputs": [],
   "source": [
    "#update \n",
    "emp= {\n",
    "    \"id\":321,\n",
    "    \"name\":'Vasu',\n",
    "    \"sal\":45000.95,\n",
    "    \"avail\": True\n",
    "}\n",
    "emp['name'] = \"Vasu Dev\""
   ]
  },
  {
   "cell_type": "code",
   "execution_count": 14,
   "id": "5d6ac890-670d-485e-86e3-f718d37a412b",
   "metadata": {},
   "outputs": [
    {
     "name": "stdout",
     "output_type": "stream",
     "text": [
      "131\n",
      "132\n",
      "133\n",
      "134\n",
      "135\n",
      "Vasu\n",
      "Deva\n",
      "Sush\n",
      "Maha\n",
      "Chinna\n",
      "45000\n",
      "55000\n",
      "65000\n",
      "75000\n",
      "85000\n",
      "325000\n"
     ]
    }
   ],
   "source": [
    "#Assignment\n",
    "emp=[\n",
    "     {'id':131,'name':'Vasu','sal':'45000','avail':True,'Loc':'Chennai'},\n",
    "     {'id':132,'name':'Deva','sal':'55000','avail':False,'Loc':'Banglore'},\n",
    "     {'id':133,'name':'Sush','sal':'65000','avail':True,'Loc':'chennai'},\n",
    "     {'id':134,'name':'Maha','sal':'75000','avail':False,'Loc':'Kothapalli'},\n",
    "     {'id':135,'name':'Chinna','sal':'85000','avail':True,'Loc':'Peddagogalapalli'}\n",
    "    ]\n",
    "#Print all emp ids\n",
    "for employee in emp:\n",
    "    print(employee['id'])\n",
    "\n",
    "#Print all emp names\n",
    "for employee in emp:\n",
    "    print(employee['name'])\n",
    "\n",
    "#Print all the emp salary\n",
    "for employee in emp:\n",
    "    print(employee['sal'])\n",
    "\n",
    "#Print all the total salary\n",
    "total = 0\n",
    "for em in emp:\n",
    "    total = total +int(em['sal'])\n",
    "print(total)"
   ]
  },
  {
   "cell_type": "code",
   "execution_count": null,
   "id": "bb520848-1783-4af5-8858-940b27f82a73",
   "metadata": {},
   "outputs": [],
   "source": []
  }
 ],
 "metadata": {
  "kernelspec": {
   "display_name": "Python 3 (ipykernel)",
   "language": "python",
   "name": "python3"
  },
  "language_info": {
   "codemirror_mode": {
    "name": "ipython",
    "version": 3
   },
   "file_extension": ".py",
   "mimetype": "text/x-python",
   "name": "python",
   "nbconvert_exporter": "python",
   "pygments_lexer": "ipython3",
   "version": "3.12.5"
  }
 },
 "nbformat": 4,
 "nbformat_minor": 5
}
