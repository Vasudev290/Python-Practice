{
 "cells": [
  {
   "cell_type": "code",
   "execution_count": null,
   "id": "1f9ff1c2-b2e4-4eef-a5ab-0270879bb744",
   "metadata": {},
   "outputs": [],
   "source": []
  }
 ],
 "metadata": {
  "kernelspec": {
   "display_name": "",
   "name": ""
  },
  "language_info": {
   "name": ""
  }
 },
 "nbformat": 4,
 "nbformat_minor": 5
}
