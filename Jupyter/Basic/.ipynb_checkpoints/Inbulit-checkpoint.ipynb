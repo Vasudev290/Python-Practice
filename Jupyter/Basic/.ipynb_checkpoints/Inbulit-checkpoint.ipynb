{
 "cells": [
  {
   "cell_type": "code",
   "execution_count": null,
   "id": "ff3c639f-5ed8-46ab-a22c-b9754d9f7f0b",
   "metadata": {},
   "outputs": [],
   "source": [
    "'''\n",
    "print()\n",
    "input()\n",
    "id()\n",
    "type()\n",
    "\n",
    "#Type casting function\n",
    "int()\n",
    "float()\n",
    "str()\n",
    "bool()\n",
    "complex()\n",
    "\n",
    "list()\n",
    "tuple()\n",
    "set()\n",
    "dict()\n",
    "\n",
    "bytes()\n",
    "bytesarray()\n",
    "frozenset()\n",
    "range()\n",
    "None()\n",
    "'''"
   ]
  }
 ],
 "metadata": {
  "kernelspec": {
   "display_name": "Python 3 (ipykernel)",
   "language": "python",
   "name": "python3"
  },
  "language_info": {
   "codemirror_mode": {
    "name": "ipython",
    "version": 3
   },
   "file_extension": ".py",
   "mimetype": "text/x-python",
   "name": "python",
   "nbconvert_exporter": "python",
   "pygments_lexer": "ipython3",
   "version": "3.12.5"
  }
 },
 "nbformat": 4,
 "nbformat_minor": 5
}
