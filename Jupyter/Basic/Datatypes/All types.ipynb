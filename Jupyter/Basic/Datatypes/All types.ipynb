{
 "cells": [
  {
   "cell_type": "code",
   "execution_count": 10,
   "id": "7d708049-3cf7-4c7f-b70a-358007c94f15",
   "metadata": {},
   "outputs": [
    {
     "name": "stdout",
     "output_type": "stream",
     "text": [
      "321\n",
      "<class 'int'>\n",
      "100.0\n",
      "<class 'float'>\n",
      "Vasu\n",
      "<class 'str'>\n",
      "True\n",
      "<class 'bool'>\n",
      "(10+234j)\n",
      "<class 'complex'>\n",
      "[10, 20, 39, 40, 59, 68, 78]\n",
      "<class 'list'>\n",
      "(10, 20, 39, 40, 59, 68, 78)\n",
      "<class 'tuple'>\n",
      "{68, 20, 39, 40, 10, 59, 78}\n",
      "<class 'set'>\n",
      "{'id': 134, 'ename': 'Vasu'}\n",
      "<class 'dict'>\n",
      "b\"\\n\\x14'(;DN\"\n",
      "<class 'bytes'>\n",
      "bytearray(b\"\\n\\x14\\'(;DN\")\n",
      "<class 'bytearray'>\n",
      "frozenset({50, 20, 40, 10, 30})\n",
      "<class 'frozenset'>\n",
      "range(0, 10)\n",
      "<class 'range'>\n",
      "None\n",
      "<class 'NoneType'>\n"
     ]
    }
   ],
   "source": [
    "#All Data Types;\n",
    "\n",
    "vi1= 321\n",
    "print(vi1)\n",
    "print(type(vi1))\n",
    "vf2= 100.00\n",
    "print(vf2)\n",
    "print(type(vf2))\n",
    "vs3= \"Vasu\"\n",
    "print(vs3)\n",
    "print(type(vs3))\n",
    "vbl4= True\n",
    "print(vbl4)\n",
    "print(type(vbl4))\n",
    "vc5= 10+234j\n",
    "print(vc5)\n",
    "print(type(vc5))\n",
    "\n",
    "vl1= [10,20,39,40,59,68,78]\n",
    "print(vl1)\n",
    "print(type(vl1))\n",
    "vt1= (10,20,39,40,59,68,78)\n",
    "print(vt1)\n",
    "print(type(vt1))\n",
    "vs1= {10,20,39,40,59,68,78}\n",
    "print(vs1)\n",
    "print(type(vs1))\n",
    "vd1= {'id':134,'ename':'Vasu'}\n",
    "print(vd1)\n",
    "print(type(vd1))\n",
    "\n",
    "vb1= bytes([10,20,39,40,59,68,78])\n",
    "print(vb1)\n",
    "print(type(vb1))\n",
    "vba1= bytearray([10,20,39,40,59,68,78])\n",
    "print(vba1)\n",
    "print(type(vba1))\n",
    "vf1= frozenset({10,20,30,40,50})\n",
    "print(vf1)\n",
    "print(type(vf1))\n",
    "vr1= range(10)\n",
    "print(vr1)\n",
    "print(type(vr1))\n",
    "def getDetails():\n",
    "    pass\n",
    "vn1= getDetails()\n",
    "print(vn1)\n",
    "print(type(vn1))"
   ]
  },
  {
   "cell_type": "code",
   "execution_count": null,
   "id": "b56c8adf-f191-4955-8124-900f5d6d21eb",
   "metadata": {},
   "outputs": [],
   "source": []
  }
 ],
 "metadata": {
  "kernelspec": {
   "display_name": "Python 3 (ipykernel)",
   "language": "python",
   "name": "python3"
  },
  "language_info": {
   "codemirror_mode": {
    "name": "ipython",
    "version": 3
   },
   "file_extension": ".py",
   "mimetype": "text/x-python",
   "name": "python",
   "nbconvert_exporter": "python",
   "pygments_lexer": "ipython3",
   "version": "3.12.5"
  }
 },
 "nbformat": 4,
 "nbformat_minor": 5
}
