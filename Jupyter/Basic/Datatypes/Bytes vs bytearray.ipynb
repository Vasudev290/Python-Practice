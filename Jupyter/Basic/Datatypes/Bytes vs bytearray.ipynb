{
 "cells": [
  {
   "cell_type": "code",
   "execution_count": 1,
   "id": "36616e64-fe7a-4230-9f5b-8d50e6e4edec",
   "metadata": {},
   "outputs": [
    {
     "name": "stdout",
     "output_type": "stream",
     "text": [
      "b'\\ndik\\xa8\\xc8\\xff'\n",
      "bytearray(b'\\ndik\\xa8\\xc8\\xff')\n"
     ]
    }
   ],
   "source": [
    "#What is bytes - datatypes;\n",
    "#What is bytearray -datatype:\n",
    "\n",
    "#Represent - Group of values in between 0-255;\n",
    "b =bytes([10,100,105,107, 168, 200, 255])\n",
    "ba =bytearray([10,100,105,107, 168, 200, 255])\n",
    "\n",
    "print(b)\n",
    "print(ba)"
   ]
  },
  {
   "cell_type": "code",
   "execution_count": 2,
   "id": "fc78fd4a-dbd8-435b-b590-de3c150fced8",
   "metadata": {},
   "outputs": [
    {
     "ename": "ValueError",
     "evalue": "bytes must be in range(0, 256)",
     "output_type": "error",
     "traceback": [
      "\u001b[1;31m---------------------------------------------------------------------------\u001b[0m",
      "\u001b[1;31mValueError\u001b[0m                                Traceback (most recent call last)",
      "Cell \u001b[1;32mIn[2], line 1\u001b[0m\n\u001b[1;32m----> 1\u001b[0m b \u001b[38;5;241m=\u001b[39m\u001b[38;5;28;43mbytes\u001b[39;49m\u001b[43m(\u001b[49m\u001b[43m[\u001b[49m\u001b[38;5;241;43m10\u001b[39;49m\u001b[43m,\u001b[49m\u001b[38;5;241;43m100\u001b[39;49m\u001b[43m,\u001b[49m\u001b[38;5;241;43m105\u001b[39;49m\u001b[43m,\u001b[49m\u001b[38;5;241;43m107\u001b[39;49m\u001b[43m,\u001b[49m\u001b[43m \u001b[49m\u001b[38;5;241;43m168\u001b[39;49m\u001b[43m,\u001b[49m\u001b[43m \u001b[49m\u001b[38;5;241;43m200\u001b[39;49m\u001b[43m,\u001b[49m\u001b[43m \u001b[49m\u001b[38;5;241;43m255\u001b[39;49m\u001b[43m,\u001b[49m\u001b[38;5;241;43m458\u001b[39;49m\u001b[43m]\u001b[49m\u001b[43m)\u001b[49m\n\u001b[0;32m      2\u001b[0m ba \u001b[38;5;241m=\u001b[39m\u001b[38;5;28mbytearray\u001b[39m([\u001b[38;5;241m10\u001b[39m,\u001b[38;5;241m100\u001b[39m,\u001b[38;5;241m105\u001b[39m,\u001b[38;5;241m107\u001b[39m, \u001b[38;5;241m168\u001b[39m, \u001b[38;5;241m200\u001b[39m, \u001b[38;5;241m255\u001b[39m,\u001b[38;5;241m457\u001b[39m])\n\u001b[0;32m      4\u001b[0m \u001b[38;5;28mprint\u001b[39m(b)\n",
      "\u001b[1;31mValueError\u001b[0m: bytes must be in range(0, 256)"
     ]
    }
   ],
   "source": [
    "b =bytes([10,100,105,107, 168, 200, 255,458])\n",
    "ba =bytearray([10,100,105,107, 168, 200, 255,457])\n",
    "\n",
    "print(b)\n",
    "print(ba)"
   ]
  },
  {
   "cell_type": "code",
   "execution_count": 5,
   "id": "5f362b43-f659-4ba9-a2bb-5f2848ac3bdc",
   "metadata": {},
   "outputs": [
    {
     "name": "stdout",
     "output_type": "stream",
     "text": [
      "b'\\ndik\\xa8\\xc8\\xff'\n",
      "bytearray(b'\\ndik\\xa8\\xc8\\xff')\n",
      "b'\\ndik\\xa8\\xc8\\xff'\n",
      "bytearray(b'ddik\\xa8\\xc8\\xff')\n",
      "100\n",
      "100\n",
      "105\n",
      "107\n",
      "168\n",
      "200\n",
      "255\n"
     ]
    }
   ],
   "source": [
    "# bytes must be in range(0, 256)\n",
    "# bytearray must be in range(0, 256)\n",
    "\n",
    "b =bytes([10,100,105,107, 168, 200, 255])\n",
    "ba =bytearray([10,100,105,107, 168, 200, 255])\n",
    "\n",
    "print(b)\n",
    "print(ba)\n",
    "\n",
    "#b[0] =100\n",
    "ba[0] =100\n",
    "\n",
    "print(b)\n",
    "print(ba)\n",
    "\n",
    "for value in ba:\n",
    "    print(value)"
   ]
  },
  {
   "cell_type": "code",
   "execution_count": 6,
   "id": "5fae1ba9-b618-4acc-ad09-eb1b5474ddee",
   "metadata": {},
   "outputs": [
    {
     "name": "stdout",
     "output_type": "stream",
     "text": [
      "b'\\ndik\\xa8\\xc8\\xff'\n",
      "bytearray(b'\\ndik\\xa8\\xc8\\xff')\n",
      "b'\\ndik\\xa8\\xc8\\xff'\n",
      "bytearray(b'ddik\\xa8\\xc8\\xff')\n",
      "10\n",
      "100\n",
      "105\n",
      "107\n",
      "168\n",
      "200\n",
      "255\n"
     ]
    }
   ],
   "source": [
    "# bytes must be in range(0, 256)\n",
    "# bytearray must be in range(0, 256)\n",
    "\n",
    "b =bytes([10,100,105,107, 168, 200, 255])\n",
    "ba =bytearray([10,100,105,107, 168, 200, 255])\n",
    "\n",
    "print(b)\n",
    "print(ba)\n",
    "\n",
    "#b[0] =100\n",
    "ba[0] =100\n",
    "\n",
    "print(b)\n",
    "print(ba)\n",
    "\n",
    "for value in b:\n",
    "    print(value)"
   ]
  },
  {
   "cell_type": "code",
   "execution_count": null,
   "id": "5492a314-86f5-4cb8-86e7-154935d5cb7f",
   "metadata": {},
   "outputs": [],
   "source": []
  }
 ],
 "metadata": {
  "kernelspec": {
   "display_name": "Python 3 (ipykernel)",
   "language": "python",
   "name": "python3"
  },
  "language_info": {
   "codemirror_mode": {
    "name": "ipython",
    "version": 3
   },
   "file_extension": ".py",
   "mimetype": "text/x-python",
   "name": "python",
   "nbconvert_exporter": "python",
   "pygments_lexer": "ipython3",
   "version": "3.12.5"
  }
 },
 "nbformat": 4,
 "nbformat_minor": 5
}
