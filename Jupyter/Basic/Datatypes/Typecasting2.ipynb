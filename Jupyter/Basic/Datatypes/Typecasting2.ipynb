{
 "cells": [
  {
   "cell_type": "code",
   "execution_count": 1,
   "id": "f4f6c7e0-cd70-4007-b5d4-afc2f1087ef7",
   "metadata": {},
   "outputs": [
    {
     "name": "stdin",
     "output_type": "stream",
     "text": [
      "Enter first Number: 10\n",
      "Enter second Number: 10\n"
     ]
    },
    {
     "name": "stdout",
     "output_type": "stream",
     "text": [
      "10\n",
      "10\n",
      "<class 'str'>\n",
      "<class 'str'>\n"
     ]
    }
   ],
   "source": [
    "a= input(\"Enter first Number:\")\n",
    "b= input(\"Enter second Number:\")\n",
    "print(a)\n",
    "print(b)\n",
    "print(type(a))\n",
    "print(type(b))"
   ]
  },
  {
   "cell_type": "code",
   "execution_count": 3,
   "id": "9156abb8-01dd-49ef-afc1-6d33b8d87290",
   "metadata": {},
   "outputs": [
    {
     "name": "stdin",
     "output_type": "stream",
     "text": [
      "Enter first Number: 10\n",
      "Enter second Number: 20\n"
     ]
    },
    {
     "name": "stdout",
     "output_type": "stream",
     "text": [
      "10\n",
      "20\n",
      "30\n",
      "<class 'int'>\n",
      "<class 'int'>\n"
     ]
    }
   ],
   "source": [
    "a= int(input(\"Enter first Number:\"))\n",
    "b= int(input(\"Enter second Number:\"))\n",
    "print(a)\n",
    "print(b)\n",
    "print(a+b)\n",
    "print(type(a))\n",
    "print(type(b))"
   ]
  },
  {
   "cell_type": "code",
   "execution_count": 10,
   "id": "241fe928-7b76-4df1-a914-923bc97153c1",
   "metadata": {},
   "outputs": [
    {
     "name": "stdin",
     "output_type": "stream",
     "text": [
      "Enter first Number: 20\n",
      "Enter second Number: 30.00\n"
     ]
    },
    {
     "name": "stdout",
     "output_type": "stream",
     "text": [
      "20\n",
      "30.00\n",
      "2030.00\n",
      "<class 'str'>\n",
      "<class 'str'>\n"
     ]
    }
   ],
   "source": [
    "a= input(\"Enter first Number:\")\n",
    "b= input(\"Enter second Number:\")\n",
    "print(a)\n",
    "print(b)\n",
    "print(a+b)\n",
    "print(type(a))\n",
    "print(type(b))"
   ]
  },
  {
   "cell_type": "code",
   "execution_count": 11,
   "id": "42916f06-3bbc-4bd9-91e5-3efbf3acf87c",
   "metadata": {},
   "outputs": [
    {
     "name": "stdin",
     "output_type": "stream",
     "text": [
      "Enter first Number: 65\n",
      "Enter second Number: 98.00\n"
     ]
    },
    {
     "name": "stdout",
     "output_type": "stream",
     "text": [
      "65\n",
      "98.0\n",
      "163.0\n",
      "<class 'int'>\n",
      "<class 'float'>\n"
     ]
    }
   ],
   "source": [
    "a= int(input(\"Enter first Number:\"))\n",
    "b= float(input(\"Enter second Number:\"))\n",
    "print(a)\n",
    "print(b)\n",
    "print(a+b)\n",
    "print(type(a))\n",
    "print(type(b))"
   ]
  },
  {
   "cell_type": "code",
   "execution_count": 12,
   "id": "f70ebf45-6896-4962-b882-35e5b1089569",
   "metadata": {},
   "outputs": [
    {
     "name": "stdin",
     "output_type": "stream",
     "text": [
      "Enter first number: 20\n",
      "Enter second number: 30\n"
     ]
    },
    {
     "name": "stdout",
     "output_type": "stream",
     "text": [
      "50\n"
     ]
    }
   ],
   "source": [
    "a= input(\"Enter first number:\")\n",
    "b= input(\"Enter second number:\")\n",
    "print(int(a)+int(b))"
   ]
  },
  {
   "cell_type": "code",
   "execution_count": 14,
   "id": "97db5084-b98c-48cd-855c-212d869c0381",
   "metadata": {},
   "outputs": [
    {
     "name": "stdin",
     "output_type": "stream",
     "text": [
      "Enter FS number: 20\n",
      "Enter SN: 20\n"
     ]
    },
    {
     "name": "stdout",
     "output_type": "stream",
     "text": [
      "40\n"
     ]
    }
   ],
   "source": [
    "print(int(input(\"Enter FS number:\"))+int(input(\"Enter SN:\")))"
   ]
  },
  {
   "cell_type": "code",
   "execution_count": 15,
   "id": "fa97b9ca-659b-4817-875d-aa2e85295e30",
   "metadata": {},
   "outputs": [
    {
     "name": "stdout",
     "output_type": "stream",
     "text": [
      "Hello\n",
      "Good Morning\n"
     ]
    }
   ],
   "source": [
    "print(\"Hello\")\n",
    "print(\"Good Morning\")"
   ]
  },
  {
   "cell_type": "code",
   "execution_count": 17,
   "id": "7d92a644-c60e-44b7-b0d6-5084d73daec6",
   "metadata": {},
   "outputs": [
    {
     "name": "stdout",
     "output_type": "stream",
     "text": [
      "HelloGood Morning\n"
     ]
    }
   ],
   "source": [
    "print(\"Hello\", end=\"\")\n",
    "print(\"Good Morning\")"
   ]
  },
  {
   "cell_type": "code",
   "execution_count": 19,
   "id": "6e5feec3-4150-4295-98b0-ca196f8fb34c",
   "metadata": {},
   "outputs": [
    {
     "name": "stdout",
     "output_type": "stream",
     "text": [
      "10,20,30,Ends with:\n",
      "10 :\n",
      "20 :\n",
      "30 :\n",
      "\n"
     ]
    }
   ],
   "source": [
    "a=10\n",
    "b=20\n",
    "c=30\n",
    "print(a, end=\",\")\n",
    "print(b, end=\",\")\n",
    "print(c, end=\",\")\n",
    "print(\"Ends with:\")\n",
    "print(a, \":\")\n",
    "print(b, \":\")\n",
    "print(c, \":\")\n",
    "print()"
   ]
  },
  {
   "cell_type": "code",
   "execution_count": null,
   "id": "56eb205e-f19a-4d58-81d7-e88410b42c96",
   "metadata": {},
   "outputs": [],
   "source": []
  }
 ],
 "metadata": {
  "kernelspec": {
   "display_name": "Python 3 (ipykernel)",
   "language": "python",
   "name": "python3"
  },
  "language_info": {
   "codemirror_mode": {
    "name": "ipython",
    "version": 3
   },
   "file_extension": ".py",
   "mimetype": "text/x-python",
   "name": "python",
   "nbconvert_exporter": "python",
   "pygments_lexer": "ipython3",
   "version": "3.12.5"
  }
 },
 "nbformat": 4,
 "nbformat_minor": 5
}
