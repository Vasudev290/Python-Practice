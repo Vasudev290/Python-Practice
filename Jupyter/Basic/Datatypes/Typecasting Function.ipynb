{
 "cells": [
  {
   "cell_type": "code",
   "execution_count": 1,
   "id": "d650945c-44b0-4870-8641-b69ab2ba66a0",
   "metadata": {},
   "outputs": [
    {
     "name": "stdout",
     "output_type": "stream",
     "text": [
      "123\n"
     ]
    }
   ],
   "source": [
    "#Dec value\n",
    "\n",
    "a=123\n",
    "print(a)"
   ]
  },
  {
   "cell_type": "code",
   "execution_count": 4,
   "id": "34f1091d-2801-4dbc-aef0-916e353b0a74",
   "metadata": {},
   "outputs": [
    {
     "name": "stdout",
     "output_type": "stream",
     "text": [
      "14\n"
     ]
    }
   ],
   "source": [
    "#Binary value\n",
    "\n",
    "b=0b1110\n",
    "print(b)"
   ]
  },
  {
   "cell_type": "code",
   "execution_count": 7,
   "id": "660bbefa-1338-4274-90e5-ac87637d92c6",
   "metadata": {},
   "outputs": [
    {
     "name": "stdout",
     "output_type": "stream",
     "text": [
      "42943\n"
     ]
    }
   ],
   "source": [
    "# Octal value\n",
    "\n",
    "c=0o123677\n",
    "print(c)"
   ]
  },
  {
   "cell_type": "code",
   "execution_count": 9,
   "id": "0150f4a0-e487-4b51-a8a4-5c90a393531f",
   "metadata": {},
   "outputs": [
    {
     "name": "stdout",
     "output_type": "stream",
     "text": [
      "43981\n"
     ]
    }
   ],
   "source": [
    "#Hexa value\n",
    "\n",
    "d=0XABCd\n",
    "print(d)"
   ]
  },
  {
   "cell_type": "code",
   "execution_count": 10,
   "id": "086b1d9c-2272-4939-9a3c-f42e72d2f1ee",
   "metadata": {},
   "outputs": [
    {
     "name": "stdout",
     "output_type": "stream",
     "text": [
      "15\n",
      "0b1111\n",
      "0o17\n",
      "0xf\n"
     ]
    }
   ],
   "source": [
    "a= 15\n",
    "print(a)\n",
    "print(bin(a))\n",
    "print(oct(a))\n",
    "print(hex(a))"
   ]
  },
  {
   "cell_type": "code",
   "execution_count": 11,
   "id": "767b3356-5683-48ea-9448-f257f4086dcb",
   "metadata": {},
   "outputs": [
    {
     "name": "stdout",
     "output_type": "stream",
     "text": [
      "15\n",
      "15\n",
      "15\n",
      "15\n"
     ]
    }
   ],
   "source": [
    "a=15\n",
    "b=0b1111\n",
    "c=0o17\n",
    "d=0xf\n",
    "print(a)\n",
    "print(b)\n",
    "print(c)\n",
    "print(d)"
   ]
  },
  {
   "cell_type": "code",
   "execution_count": 16,
   "id": "fa363a8c-013e-4815-9b94-a485cb1ed721",
   "metadata": {},
   "outputs": [
    {
     "name": "stdout",
     "output_type": "stream",
     "text": [
      "45000\n",
      "<class 'int'>\n"
     ]
    }
   ],
   "source": [
    "esal= 45000.00\n",
    "esal= int(esal)\n",
    "print(esal)\n",
    "print(type(esal))"
   ]
  },
  {
   "cell_type": "code",
   "execution_count": 15,
   "id": "955448da-682a-45b3-b809-b3d37965f9cf",
   "metadata": {},
   "outputs": [
    {
     "name": "stdout",
     "output_type": "stream",
     "text": [
      "10000\n",
      "<class 'int'>\n"
     ]
    }
   ],
   "source": [
    "esal= \"10000\"\n",
    "esal= int(esal)\n",
    "print(esal)\n",
    "print(type(esal))"
   ]
  },
  {
   "cell_type": "code",
   "execution_count": 19,
   "id": "18cf5ba2-a9e9-4f9b-82bb-0cecba789714",
   "metadata": {},
   "outputs": [
    {
     "name": "stdout",
     "output_type": "stream",
     "text": [
      "2143589\n"
     ]
    }
   ],
   "source": [
    "esal= 2143589.00\n",
    "esal= int(esal)\n",
    "print(esal)"
   ]
  },
  {
   "cell_type": "code",
   "execution_count": 20,
   "id": "b537135f-26dd-4191-8c24-65f8e9a372e6",
   "metadata": {},
   "outputs": [
    {
     "name": "stdin",
     "output_type": "stream",
     "text": [
      "10 202\n",
      "20 20\n"
     ]
    },
    {
     "name": "stdout",
     "output_type": "stream",
     "text": [
      "20220\n"
     ]
    }
   ],
   "source": [
    "a= int(input(10))\n",
    "b= int(input(20))\n",
    "print(type(a))\n",
    "print(type(b))\n",
    "print(a+b)"
   ]
  },
  {
   "cell_type": "code",
   "execution_count": 22,
   "id": "2f30b40f-f485-4d38-865b-570b7b4840e1",
   "metadata": {},
   "outputs": [
    {
     "name": "stdin",
     "output_type": "stream",
     "text": [
      "Enter first Number:100 10\n"
     ]
    },
    {
     "name": "stdout",
     "output_type": "stream",
     "text": [
      "10\n",
      "<class 'str'>\n"
     ]
    }
   ],
   "source": [
    "a= input(\"Enter first Number:100\")\n",
    "print(a)\n",
    "print(type(a))\n"
   ]
  },
  {
   "cell_type": "code",
   "execution_count": 25,
   "id": "52f8fcc4-af09-4c20-b009-163450f62f79",
   "metadata": {},
   "outputs": [
    {
     "name": "stdin",
     "output_type": "stream",
     "text": [
      "Enter fisrt number 10\n",
      "Enter second number 20\n"
     ]
    },
    {
     "name": "stdout",
     "output_type": "stream",
     "text": [
      "10\n",
      "20\n",
      "<class 'int'>\n",
      "<class 'int'>\n",
      "30\n"
     ]
    }
   ],
   "source": [
    "a= int(input(\"Enter fisrt number\"))\n",
    "b= int(input(\"Enter second number\"))\n",
    "print(a)\n",
    "print(b)\n",
    "print(type(a))\n",
    "print(type(b))\n",
    "print(a+b)"
   ]
  },
  {
   "cell_type": "code",
   "execution_count": 28,
   "id": "f316e732-0866-4f66-881b-1b177f901315",
   "metadata": {},
   "outputs": [
    {
     "name": "stdin",
     "output_type": "stream",
     "text": [
      "Enter first Number 10\n",
      "Enter second Number 10\n"
     ]
    },
    {
     "name": "stdout",
     "output_type": "stream",
     "text": [
      "10\n",
      "10\n",
      "<class 'str'>\n",
      "<class 'str'>\n"
     ]
    }
   ],
   "source": [
    "a= input(\"Enter first Number\")\n",
    "b= input(\"Enter second Number\")\n",
    "print(a)\n",
    "print(b)\n",
    "print(type(a))\n",
    "print(type(b))"
   ]
  },
  {
   "cell_type": "code",
   "execution_count": 36,
   "id": "cac3f93f-d25f-4eed-a022-450386985070",
   "metadata": {},
   "outputs": [
    {
     "name": "stdout",
     "output_type": "stream",
     "text": [
      "Hello\n",
      "Good Morning\n",
      "HelooMorning"
     ]
    }
   ],
   "source": [
    "print(\"Hello\")\n",
    "print(\"Good Morning\")\n",
    "print('Heloo',end=\"Morning\")"
   ]
  },
  {
   "cell_type": "code",
   "execution_count": 42,
   "id": "5e367caf-9a1b-47b2-aa10-c34b2cbb8009",
   "metadata": {},
   "outputs": [
    {
     "name": "stdout",
     "output_type": "stream",
     "text": [
      "10,20,30,\n",
      "Ends with :\n",
      "10:20:30:\n",
      "Ends with space/\n",
      "10/20/30/\n"
     ]
    }
   ],
   "source": [
    "a=10\n",
    "b=20\n",
    "c=30\n",
    "print(a, end=',')\n",
    "print(b, end=',')\n",
    "print(c, end=',')\n",
    "print()\n",
    "\n",
    "print(\"Ends with :\")\n",
    "print(a, end=':')\n",
    "print(b, end=':')\n",
    "print(c, end=':')\n",
    "print()\n",
    "\n",
    "print(\"Ends with space/\")\n",
    "print(a, end='/')\n",
    "print(b, end='/')\n",
    "print(c, end='/')\n",
    "print()"
   ]
  },
  {
   "cell_type": "code",
   "execution_count": 45,
   "id": "337238c7-08b5-4998-9b7f-d66d8e55985d",
   "metadata": {},
   "outputs": [
    {
     "name": "stdout",
     "output_type": "stream",
     "text": [
      "True\n"
     ]
    }
   ],
   "source": [
    "a=\"0\"\n",
    "print(bool(a))"
   ]
  },
  {
   "cell_type": "code",
   "execution_count": null,
   "id": "55d87645-80e1-49bd-a08b-7971c952f62b",
   "metadata": {},
   "outputs": [],
   "source": []
  }
 ],
 "metadata": {
  "kernelspec": {
   "display_name": "Python 3 (ipykernel)",
   "language": "python",
   "name": "python3"
  },
  "language_info": {
   "codemirror_mode": {
    "name": "ipython",
    "version": 3
   },
   "file_extension": ".py",
   "mimetype": "text/x-python",
   "name": "python",
   "nbconvert_exporter": "python",
   "pygments_lexer": "ipython3",
   "version": "3.12.5"
  }
 },
 "nbformat": 4,
 "nbformat_minor": 5
}
