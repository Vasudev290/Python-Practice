{
 "cells": [
  {
   "cell_type": "code",
   "execution_count": 1,
   "id": "cb39806d-5697-4519-9114-269a4ad45260",
   "metadata": {},
   "outputs": [
    {
     "name": "stdout",
     "output_type": "stream",
     "text": [
      "True\n"
     ]
    }
   ],
   "source": [
    "print(bool(True))"
   ]
  },
  {
   "cell_type": "code",
   "execution_count": 2,
   "id": "800809d5-be94-4e67-b11d-1d84ae6977cd",
   "metadata": {},
   "outputs": [
    {
     "name": "stdout",
     "output_type": "stream",
     "text": [
      "False\n"
     ]
    }
   ],
   "source": [
    "print(bool(0))"
   ]
  },
  {
   "cell_type": "code",
   "execution_count": 3,
   "id": "6d65600e-b9fb-4cfb-aab8-acacf62a3907",
   "metadata": {},
   "outputs": [
    {
     "name": "stdout",
     "output_type": "stream",
     "text": [
      "True\n"
     ]
    }
   ],
   "source": [
    "print(bool(108))"
   ]
  },
  {
   "cell_type": "code",
   "execution_count": 7,
   "id": "304a6e0d-6f39-46d7-9f92-19326f201a88",
   "metadata": {},
   "outputs": [
    {
     "name": "stdout",
     "output_type": "stream",
     "text": [
      "True\n",
      "False\n",
      "False\n",
      "True\n",
      "True\n",
      "True\n",
      "False\n",
      "True\n",
      "False\n"
     ]
    }
   ],
   "source": [
    "print(bool(100))        #True\n",
    "print(bool(0))          #False\n",
    "print(bool(\"\"))         #False\n",
    "print(bool(\"True\"))     #True\n",
    "print(bool(True))       #True\n",
    "print(bool(\"False\"))    #True\n",
    "print(bool(False))      #False\n",
    "print(bool(544.00))     #True\n",
    "print(bool(00.00))      #False"
   ]
  },
  {
   "cell_type": "code",
   "execution_count": 11,
   "id": "70943230-7ef4-414d-a433-bbc44910e3f5",
   "metadata": {},
   "outputs": [
    {
     "name": "stdout",
     "output_type": "stream",
     "text": [
      "bytearray(b'defghi\\x1e')\n"
     ]
    }
   ],
   "source": [
    "#Mutable Objects;-\n",
    "#List, Set, Dict, Bytesarry\n",
    "# Rest of them immuutablity\n",
    "\n",
    "#How to create bytesarray\n",
    "list= [100,101,102,103,104,105,30]\n",
    "ba=bytearray(list)\n",
    "print(ba)"
   ]
  },
  {
   "cell_type": "code",
   "execution_count": 16,
   "id": "1a246461-c668-46ab-a064-cddcf638614f",
   "metadata": {},
   "outputs": [
    {
     "name": "stdout",
     "output_type": "stream",
     "text": [
      "100\n",
      "101\n",
      "102\n",
      "103\n",
      "104\n",
      "105\n",
      "255\n"
     ]
    }
   ],
   "source": [
    "list= [100,101,102,103,104,105,255]\n",
    "ba=bytearray(list)\n",
    "for value in ba:\n",
    "    print(value)\n",
    "#print(ba)"
   ]
  },
  {
   "cell_type": "code",
   "execution_count": 18,
   "id": "db8bd099-0f83-4b82-979f-baebd9185743",
   "metadata": {},
   "outputs": [
    {
     "name": "stdout",
     "output_type": "stream",
     "text": [
      "45\n",
      "101\n",
      "102\n",
      "103\n",
      "104\n",
      "105\n",
      "255\n"
     ]
    }
   ],
   "source": [
    "#Updating\n",
    "list= [100,101,102,103,104,105,255]\n",
    "ba=bytearray(list)\n",
    "ba[0] =45\n",
    "for value in ba:\n",
    "    print(value)"
   ]
  },
  {
   "cell_type": "code",
   "execution_count": 20,
   "id": "92209b6c-691e-4b29-a553-d073e0950363",
   "metadata": {},
   "outputs": [
    {
     "name": "stdout",
     "output_type": "stream",
     "text": [
      "45\n",
      "101\n",
      "102\n",
      "103\n",
      "104\n",
      "105\n",
      "255\n"
     ]
    }
   ],
   "source": [
    "#Updating\n",
    "list= [100,101,102,103,104,105,255]\n",
    "ba=bytearray(list)\n",
    "ba[0] =45\n",
    "for value in ba:\n",
    "    print(value)"
   ]
  },
  {
   "cell_type": "code",
   "execution_count": null,
   "id": "4550d68c-ac5b-4635-a60f-d8c15c353742",
   "metadata": {},
   "outputs": [],
   "source": []
  }
 ],
 "metadata": {
  "kernelspec": {
   "display_name": "Python 3 (ipykernel)",
   "language": "python",
   "name": "python3"
  },
  "language_info": {
   "codemirror_mode": {
    "name": "ipython",
    "version": 3
   },
   "file_extension": ".py",
   "mimetype": "text/x-python",
   "name": "python",
   "nbconvert_exporter": "python",
   "pygments_lexer": "ipython3",
   "version": "3.12.5"
  }
 },
 "nbformat": 4,
 "nbformat_minor": 5
}
