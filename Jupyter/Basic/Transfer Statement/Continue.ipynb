{
 "cells": [
  {
   "cell_type": "code",
   "execution_count": 2,
   "id": "eb4824df-98a6-4f9c-bdfa-2b173d457507",
   "metadata": {},
   "outputs": [
    {
     "name": "stdout",
     "output_type": "stream",
     "text": [
      "1 2 3 4 6 7 8 9 10 "
     ]
    }
   ],
   "source": [
    "#Continue\n",
    "#We can use continue statement, to stop current iteration, and continuenext iteration\n",
    "#Print 1-10 but don;\\'t print no 5\n",
    "for x in range(1,11):\n",
    "    if x == 5:\n",
    "        continue\n",
    "    else:\n",
    "        print(x, end=\" \")"
   ]
  },
  {
   "cell_type": "code",
   "execution_count": null,
   "id": "f5a51fe2-5dae-4687-b7cd-bd2f35db6eb8",
   "metadata": {},
   "outputs": [],
   "source": []
  }
 ],
 "metadata": {
  "kernelspec": {
   "display_name": "Python 3 (ipykernel)",
   "language": "python",
   "name": "python3"
  },
  "language_info": {
   "codemirror_mode": {
    "name": "ipython",
    "version": 3
   },
   "file_extension": ".py",
   "mimetype": "text/x-python",
   "name": "python",
   "nbconvert_exporter": "python",
   "pygments_lexer": "ipython3",
   "version": "3.12.5"
  }
 },
 "nbformat": 4,
 "nbformat_minor": 5
}
