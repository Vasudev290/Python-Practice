{
 "cells": [
  {
   "cell_type": "code",
   "execution_count": 8,
   "id": "ab139593-6c03-4f41-9b64-38726eb9cc95",
   "metadata": {},
   "outputs": [
    {
     "name": "stdout",
     "output_type": "stream",
     "text": [
      "[6, 7, 9, 12, 32, 54, 55, 56, 58, 97, 643]\n"
     ]
    },
    {
     "ename": "AttributeError",
     "evalue": "'tuple' object has no attribute 'sort'",
     "output_type": "error",
     "traceback": [
      "\u001b[1;31m---------------------------------------------------------------------------\u001b[0m",
      "\u001b[1;31mAttributeError\u001b[0m                            Traceback (most recent call last)",
      "Cell \u001b[1;32mIn[8], line 6\u001b[0m\n\u001b[0;32m      4\u001b[0m l1\u001b[38;5;241m.\u001b[39msort() \u001b[38;5;66;03m#List sortmethod\u001b[39;00m\n\u001b[0;32m      5\u001b[0m \u001b[38;5;28mprint\u001b[39m(l1)\n\u001b[1;32m----> 6\u001b[0m \u001b[43mt1\u001b[49m\u001b[38;5;241;43m.\u001b[39;49m\u001b[43msort\u001b[49m()\n\u001b[0;32m      7\u001b[0m \u001b[38;5;28mprint\u001b[39m(t1)\n",
      "\u001b[1;31mAttributeError\u001b[0m: 'tuple' object has no attribute 'sort'"
     ]
    }
   ],
   "source": [
    "t1= (56, 64, 97, 54, 9, 12, 6, 32, 9, 58)\n",
    "l1= [56, 643, 97, 54, 7, 12, 6, 32, 9,55, 58]\n",
    "\n",
    "l1.sort() #List sortmethod\n",
    "print(l1)\n",
    "t1.sort()\n",
    "print(t1)"
   ]
  },
  {
   "cell_type": "code",
   "execution_count": 10,
   "id": "361c7d1d-9034-4dc1-a061-26d3975e4c88",
   "metadata": {},
   "outputs": [
    {
     "name": "stdout",
     "output_type": "stream",
     "text": [
      "(6, 9, 9, 12, 32, 54, 56, 58, 64, 97)\n"
     ]
    }
   ],
   "source": [
    "t1= (56, 64, 97, 54, 9, 12, 6, 32, 9, 58)\n",
    "sorted_list= sorted(t1)\n",
    "print (tuple(sorted_list))"
   ]
  },
  {
   "cell_type": "code",
   "execution_count": 18,
   "id": "a105e2cf-5da1-4a5c-8631-49acd6d6ad04",
   "metadata": {},
   "outputs": [
    {
     "name": "stdout",
     "output_type": "stream",
     "text": [
      "K A R N A "
     ]
    }
   ],
   "source": [
    "#Seqences\n",
    "#List, tuple, set, dict, range, string\n",
    "\n",
    "l1=[10,20,30,40,50,60,70,80,90,100]\n",
    "t1=(10,20,30,40,50,60,70,80,90,100,101)\n",
    "s1={10,20,30,40,50,60,70,80,90,100, 110}\n",
    "d1={\"id\":321,\"Name\":\"Vasu\"}\n",
    "r1=range(10)\n",
    "ename=\"KARNA\"\n",
    "\n",
    "for element in ename:\n",
    "    print(element, end=\" \")"
   ]
  },
  {
   "cell_type": "code",
   "execution_count": 20,
   "id": "37c4aa5b-e505-4edd-9c9a-a3a458092b89",
   "metadata": {},
   "outputs": [
    {
     "name": "stdout",
     "output_type": "stream",
     "text": [
      "0 1 2 3 4 5 6 7 8 9 "
     ]
    }
   ],
   "source": [
    "#range(start:end:step)\n",
    "#Range (start-default value-0, end, step-default-value: +1 )\n",
    "\n",
    "for element in range(10):\n",
    "    print(element, end=\" \")"
   ]
  },
  {
   "cell_type": "code",
   "execution_count": 22,
   "id": "076f57c4-bcd3-4e0d-a525-708ea0f2cbfa",
   "metadata": {},
   "outputs": [
    {
     "name": "stdout",
     "output_type": "stream",
     "text": [
      "0 2 4 6 8 10 12 14 16 18 20 "
     ]
    }
   ],
   "source": [
    "#print 1 to 10 - range() function even numbers\n",
    "for num in range(0, 21, 2):\n",
    "    print(num, end=\" \")"
   ]
  },
  {
   "cell_type": "code",
   "execution_count": 27,
   "id": "1d3e744a-2018-482b-a5ab-20aac1354aeb",
   "metadata": {},
   "outputs": [
    {
     "name": "stdout",
     "output_type": "stream",
     "text": [
      "100\t99\t98\t97\t96\t95\t94\t93\t92\t91\t90\t89\t88\t87\t86\t85\t84\t83\t82\t81\t80\t79\t78\t77\t76\t75\t74\t73\t72\t71\t70\t69\t68\t67\t66\t65\t64\t63\t62\t61\t60\t59\t58\t57\t56\t55\t54\t53\t52\t51\t50\t"
     ]
    }
   ],
   "source": [
    "#print 100 to 50 using Range()\n",
    "for num in range(100, 49, -1):\n",
    "    print(num, end=\"\\t\")"
   ]
  },
  {
   "cell_type": "code",
   "execution_count": 30,
   "id": "5c0c1e9d-21ac-4e18-9573-ab8d2092885c",
   "metadata": {},
   "outputs": [
    {
     "name": "stdout",
     "output_type": "stream",
     "text": [
      "100\t99\t98\t97\t96\t95\t94\t93\t92\t91\t90\t89\t88\t87\t86\t85\t84\t83\t82\t81\t80\t79\t78\t77\t76\t75\t74\t73\t72\t71\t70\t69\t68\t67\t66\t65\t64\t63\t62\t61\t60\t59\t58\t57\t56\t55\t54\t53\t52\t51\t50\t"
     ]
    }
   ],
   "source": [
    "#While loop\n",
    "i=100\n",
    "while i>=50:\n",
    "    print(i, end=\"\\t\")\n",
    "    i=i-1"
   ]
  },
  {
   "cell_type": "code",
   "execution_count": null,
   "id": "169e4aa7-4f64-46b4-ada5-c698bfa83eaf",
   "metadata": {},
   "outputs": [],
   "source": []
  }
 ],
 "metadata": {
  "kernelspec": {
   "display_name": "Python 3 (ipykernel)",
   "language": "python",
   "name": "python3"
  },
  "language_info": {
   "codemirror_mode": {
    "name": "ipython",
    "version": 3
   },
   "file_extension": ".py",
   "mimetype": "text/x-python",
   "name": "python",
   "nbconvert_exporter": "python",
   "pygments_lexer": "ipython3",
   "version": "3.12.5"
  }
 },
 "nbformat": 4,
 "nbformat_minor": 5
}
