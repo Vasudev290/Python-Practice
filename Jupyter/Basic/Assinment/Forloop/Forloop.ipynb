{
 "cells": [
  {
   "cell_type": "code",
   "execution_count": 2,
   "id": "7f0b6367-67d1-4d52-b6cb-9886cb7206b8",
   "metadata": {},
   "outputs": [
    {
     "name": "stdout",
     "output_type": "stream",
     "text": [
      "1 2 3 4 5 6 7 8 9 10 "
     ]
    }
   ],
   "source": [
    "#Print numbers from 1 to 10 using a for loop\n",
    "for x in range(1,11):\n",
    "    print(x, end=\" \")"
   ]
  },
  {
   "cell_type": "code",
   "execution_count": 15,
   "id": "5ab5c11c-9471-4d3a-8d0b-c05f6d0fe7bb",
   "metadata": {},
   "outputs": [
    {
     "name": "stdout",
     "output_type": "stream",
     "text": [
      "15 14 13 12 11 10 "
     ]
    }
   ],
   "source": [
    "# print 15 to 10 numbers using for loop\n",
    "for x in range(15, 9, -1):\n",
    "    print(x, end=\" \")"
   ]
  },
  {
   "cell_type": "code",
   "execution_count": 17,
   "id": "480fc8d6-83f2-422b-aff1-5d4fe5717008",
   "metadata": {},
   "outputs": [
    {
     "name": "stdout",
     "output_type": "stream",
     "text": [
      "0 2 4 "
     ]
    }
   ],
   "source": [
    "# print the first 5 even numbers using a for loop\n",
    "for x in range(0,6,2):\n",
    "    print(x, end=\" \")"
   ]
  },
  {
   "cell_type": "code",
   "execution_count": 29,
   "id": "94f77467-4f1a-44b8-a562-400f7115a7b1",
   "metadata": {},
   "outputs": [
    {
     "name": "stdout",
     "output_type": "stream",
     "text": [
      "Good Morning\n",
      "Good Morning\n",
      "Good Morning\n",
      "Good Morning\n",
      "Good Morning\n",
      "Good Morning\n",
      "Good Morning\n",
      "Good Morning\n",
      "Good Morning\n",
      "Good Morning\n"
     ]
    }
   ],
   "source": [
    "#Print Good Morning 10 times\n",
    "for msg in range(10):\n",
    "    print(\"Good Morning\")"
   ]
  },
  {
   "cell_type": "code",
   "execution_count": 26,
   "id": "1e2e0776-6cb6-4701-a625-f1cbbd8e0840",
   "metadata": {},
   "outputs": [
    {
     "name": "stdout",
     "output_type": "stream",
     "text": [
      "10 9 8 7 6 5 4 3 2 1 "
     ]
    }
   ],
   "source": [
    "#Print numbers from 10 to 1 descending order\n",
    "for x in range(10,0, -1):\n",
    "    print(x, end=\" \")"
   ]
  },
  {
   "cell_type": "code",
   "execution_count": 35,
   "id": "90d1d0c2-cf5f-4e35-9a81-84e160541f73",
   "metadata": {},
   "outputs": [
    {
     "name": "stdout",
     "output_type": "stream",
     "text": [
      "11 13 15 17 19 21 23 25 27 29 "
     ]
    }
   ],
   "source": [
    "#Print odd numbers from 10 to 30\n",
    "for odd in range(11,31,2):\n",
    "    print(odd, end=\" \")"
   ]
  },
  {
   "cell_type": "code",
   "execution_count": 39,
   "id": "0a7603d0-c6af-492a-b94c-03b1728367ea",
   "metadata": {},
   "outputs": [
    {
     "name": "stdout",
     "output_type": "stream",
     "text": [
      "0 2 4 "
     ]
    }
   ],
   "source": [
    "# print the first 5 even numbers using a for loop\n",
    "for e in range(0,6,2):\n",
    "    print(e, end=\" \")"
   ]
  },
  {
   "cell_type": "code",
   "execution_count": 41,
   "id": "f09c423e-1433-485f-9214-21dda4a0d04e",
   "metadata": {},
   "outputs": [
    {
     "name": "stdout",
     "output_type": "stream",
     "text": [
      "0 3 "
     ]
    }
   ],
   "source": [
    "# print the first 5 odd numbers using a for loop\n",
    "for odd in range(0,6,3):\n",
    "    print(odd, end=\" \")"
   ]
  },
  {
   "cell_type": "code",
   "execution_count": 51,
   "id": "da25c2fd-738d-4804-aeaf-d35c108ef1ed",
   "metadata": {},
   "outputs": [
    {
     "name": "stdout",
     "output_type": "stream",
     "text": [
      "4 8 12 16 20 24 28 32 36 40 "
     ]
    }
   ],
   "source": [
    "#Program first ten multiples of 4 using a for loop(4,8,12,16...)\n",
    "for m in range(4,44,4):\n",
    "    print(m, end= \" \")"
   ]
  },
  {
   "cell_type": "code",
   "execution_count": 47,
   "id": "4947b6be-ba93-4be3-9995-0acc8c556a4a",
   "metadata": {},
   "outputs": [
    {
     "name": "stdout",
     "output_type": "stream",
     "text": [
      "4 8 12 16 20 24 28 32 36 40 "
     ]
    }
   ],
   "source": [
    "#Program first ten multiples of 4 using a for loop(4,8,12,16...)\n",
    "for m in range(1, 11):\n",
    "    print(m*4, end=\" \")"
   ]
  },
  {
   "cell_type": "code",
   "execution_count": 53,
   "id": "0435363b-0381-4ac5-8e4a-0d030820e155",
   "metadata": {},
   "outputs": [
    {
     "name": "stdout",
     "output_type": "stream",
     "text": [
      "5 10 15 20 25 30 35 40 45 50 "
     ]
    }
   ],
   "source": [
    "#Program first ten multiples of 5 using a for loop(5,10,15,20...)\n",
    "for m in range(1,11):\n",
    "    print(m*5, end=\" \")"
   ]
  },
  {
   "cell_type": "code",
   "execution_count": 55,
   "id": "d75fac69-3a16-4921-b64d-b637b3b0208f",
   "metadata": {},
   "outputs": [
    {
     "name": "stdout",
     "output_type": "stream",
     "text": [
      "6 12 18 24 30 36 42 48 54 60 "
     ]
    }
   ],
   "source": [
    "#print a multiplication table of 6 using a for loop\n",
    "for ta in range(1,11):\n",
    "    print(ta*6, end=\" \")"
   ]
  },
  {
   "cell_type": "code",
   "execution_count": 56,
   "id": "ca1f8ca9-65b7-4ae3-8355-4371376fa705",
   "metadata": {},
   "outputs": [
    {
     "name": "stdout",
     "output_type": "stream",
     "text": [
      "6 x1 = 6\n",
      "6 x2 = 12\n",
      "6 x3 = 18\n",
      "6 x4 = 24\n",
      "6 x5 = 30\n",
      "6 x6 = 36\n",
      "6 x7 = 42\n",
      "6 x8 = 48\n",
      "6 x9 = 54\n",
      "6 x10 = 60\n"
     ]
    }
   ],
   "source": [
    "#print a multiplication table of 6 using a for loop\n",
    "for table in range(1,11):\n",
    "    print(f\"6 x{table} = {table * 6}\")"
   ]
  },
  {
   "cell_type": "code",
   "execution_count": 60,
   "id": "6a798fba-bd8f-43d4-980c-8defca26325d",
   "metadata": {},
   "outputs": [
    {
     "name": "stdout",
     "output_type": "stream",
     "text": [
      "10 13 16 19 22 25 28 31 34 37 40 43 46 49 "
     ]
    }
   ],
   "source": [
    "#print odd numbers in the range in 10 to 50\n",
    "for odd in range(10,51,3):\n",
    "    print(odd, end=\" \")"
   ]
  },
  {
   "cell_type": "code",
   "execution_count": null,
   "id": "3e00cdd1-87c6-4f91-824c-3a65630e5adf",
   "metadata": {},
   "outputs": [],
   "source": []
  }
 ],
 "metadata": {
  "kernelspec": {
   "display_name": "Python 3 (ipykernel)",
   "language": "python",
   "name": "python3"
  },
  "language_info": {
   "codemirror_mode": {
    "name": "ipython",
    "version": 3
   },
   "file_extension": ".py",
   "mimetype": "text/x-python",
   "name": "python",
   "nbconvert_exporter": "python",
   "pygments_lexer": "ipython3",
   "version": "3.12.5"
  }
 },
 "nbformat": 4,
 "nbformat_minor": 5
}
