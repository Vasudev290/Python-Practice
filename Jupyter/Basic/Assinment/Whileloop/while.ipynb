{
 "cells": [
  {
   "cell_type": "code",
   "execution_count": 1,
   "id": "bdceb290-5dd7-4261-887a-c821631fe864",
   "metadata": {},
   "outputs": [
    {
     "name": "stdout",
     "output_type": "stream",
     "text": [
      "1 2 3 4 5 6 7 8 9 10 "
     ]
    }
   ],
   "source": [
    "#Print numbers from 1 to 10 using a while loop\n",
    "i=1\n",
    "while i<=10:\n",
    "    print(i, end=\" \")\n",
    "    i=i+1"
   ]
  },
  {
   "cell_type": "code",
   "execution_count": 3,
   "id": "abfe0013-bd3f-4d3b-8799-108cf9e9060f",
   "metadata": {},
   "outputs": [
    {
     "name": "stdout",
     "output_type": "stream",
     "text": [
      "15 14 13 12 11 10 "
     ]
    }
   ],
   "source": [
    "#print 15 to 10 numbers using While loop\n",
    "i=15\n",
    "while i>=10:\n",
    "    print(i, end=\" \")\n",
    "    i=i-1"
   ]
  },
  {
   "cell_type": "code",
   "execution_count": 8,
   "id": "978a34dd-7367-447d-a4c1-4a02bcbea68b",
   "metadata": {},
   "outputs": [
    {
     "name": "stdout",
     "output_type": "stream",
     "text": [
      "0 2 4 6 8 10 "
     ]
    }
   ],
   "source": [
    "#print the first 10 even numbers using a while loop\n",
    "i=0\n",
    "while i<=11:\n",
    "    print(i, end=\" \")\n",
    "    i=i+2"
   ]
  },
  {
   "cell_type": "code",
   "execution_count": 10,
   "id": "ba00e8d7-14a6-4672-a206-30765922970d",
   "metadata": {},
   "outputs": [
    {
     "name": "stdout",
     "output_type": "stream",
     "text": [
      "0 3 6 9 "
     ]
    }
   ],
   "source": [
    "#print the first 10 odd numbers using a while loop\n",
    "i=0\n",
    "while i<=10:\n",
    "    print(i, end=\" \")\n",
    "    i=i+3"
   ]
  },
  {
   "cell_type": "code",
   "execution_count": 19,
   "id": "dc97d431-84e9-49b6-997b-9b2b5f15a4bb",
   "metadata": {},
   "outputs": [
    {
     "name": "stdout",
     "output_type": "stream",
     "text": [
      "Good Morning\n",
      "Good Morning\n",
      "Good Morning\n",
      "Good Morning\n",
      "Good Morning\n",
      "Good Morning\n",
      "Good Morning\n",
      "Good Morning\n",
      "Good Morning\n",
      "Good Morning\n"
     ]
    }
   ],
   "source": [
    "#Print Good Morning 10 times\n",
    "i=0\n",
    "while i < 10:\n",
    "    print(\"Good Morning\" )\n",
    "    i= i+1"
   ]
  },
  {
   "cell_type": "code",
   "execution_count": 6,
   "id": "d9af4725-014d-4a1d-b874-cde3ea52d9c5",
   "metadata": {},
   "outputs": [
    {
     "name": "stdout",
     "output_type": "stream",
     "text": [
      "11 14 17 20 23 26 29 "
     ]
    }
   ],
   "source": [
    "#Print odd numbers from 10 to 30\n",
    "i=11\n",
    "while i<= 30:\n",
    "    print(i, end=\" \")\n",
    "    i=i+3"
   ]
  },
  {
   "cell_type": "code",
   "execution_count": 7,
   "id": "00448aae-38ef-4e9a-8c43-b22f4e54993d",
   "metadata": {},
   "outputs": [
    {
     "name": "stdout",
     "output_type": "stream",
     "text": [
      "4 8 12 16 20 24 28 32 36 40 "
     ]
    }
   ],
   "source": [
    "#Program first ten multiples of 4 using a whileloop(4,8,12,16...)\n",
    "i= 1\n",
    "while i<=10:\n",
    "    print(i*4, end=\" \")\n",
    "    i=i+1"
   ]
  },
  {
   "cell_type": "code",
   "execution_count": 8,
   "id": "37db657d-2d9d-46fe-9df8-f5bb5c042502",
   "metadata": {},
   "outputs": [
    {
     "name": "stdout",
     "output_type": "stream",
     "text": [
      "5 10 15 20 25 30 35 40 45 50 "
     ]
    }
   ],
   "source": [
    "#Program first ten multiples of 5 using a while loop(5,10,15,20...)\n",
    "i=1\n",
    "while i<=10:\n",
    "    print(i*5, end=\" \")\n",
    "    i=i+1"
   ]
  },
  {
   "cell_type": "code",
   "execution_count": 18,
   "id": "4f5982cf-54e7-4ec1-969b-c3419dfe80a4",
   "metadata": {},
   "outputs": [
    {
     "name": "stdout",
     "output_type": "stream",
     "text": [
      "6* 1 = 6\n",
      "6* 2 = 12\n",
      "6* 3 = 18\n",
      "6* 4 = 24\n",
      "6* 5 = 30\n",
      "6* 6 = 36\n",
      "6* 7 = 42\n",
      "6* 8 = 48\n",
      "6* 9 = 54\n",
      "6* 10 = 60\n"
     ]
    }
   ],
   "source": [
    "#print a multiplication table of 6 using a while loop\n",
    "i = 1\n",
    "while i <= 10:\n",
    "    print('6*', i, '=', i * 6)\n",
    "    i += 1"
   ]
  },
  {
   "cell_type": "code",
   "execution_count": 17,
   "id": "df71c1dd-296c-4edd-936e-c6fd9150c5d5",
   "metadata": {},
   "outputs": [
    {
     "name": "stdout",
     "output_type": "stream",
     "text": [
      "10 13 16 19 22 25 28 31 34 37 40 43 46 49 "
     ]
    }
   ],
   "source": [
    "##print odd numbers in the range in 10 to 50\n",
    "i=10\n",
    "while i<=50:\n",
    "    print(i, end=\" \")\n",
    "    i=i+3"
   ]
  }
 ],
 "metadata": {
  "kernelspec": {
   "display_name": "Python 3 (ipykernel)",
   "language": "python",
   "name": "python3"
  },
  "language_info": {
   "codemirror_mode": {
    "name": "ipython",
    "version": 3
   },
   "file_extension": ".py",
   "mimetype": "text/x-python",
   "name": "python",
   "nbconvert_exporter": "python",
   "pygments_lexer": "ipython3",
   "version": "3.12.5"
  }
 },
 "nbformat": 4,
 "nbformat_minor": 5
}
