{
 "cells": [
  {
   "cell_type": "code",
   "execution_count": 1,
   "id": "6ee20f24-e378-4d67-98c8-aebc23a8a4ea",
   "metadata": {},
   "outputs": [
    {
     "name": "stdout",
     "output_type": "stream",
     "text": [
      "[48, 48, 93]\n"
     ]
    }
   ],
   "source": [
    "marks=[48,48,93]\n",
    "print(marks)"
   ]
  },
  {
   "cell_type": "code",
   "execution_count": 2,
   "id": "35deeeed-d12b-4c2b-b4df-2e46fcc06417",
   "metadata": {},
   "outputs": [
    {
     "name": "stdout",
     "output_type": "stream",
     "text": [
      "53\n",
      "67\n",
      "78\n"
     ]
    }
   ],
   "source": [
    "marks=[53,67,78,90]\n",
    "print(marks[0])\n",
    "print(marks[1])\n",
    "print(marks[2])"
   ]
  },
  {
   "cell_type": "code",
   "execution_count": 11,
   "id": "c63a09ea-ace3-483f-afbb-a4f96f888e37",
   "metadata": {},
   "outputs": [
    {
     "name": "stdout",
     "output_type": "stream",
     "text": [
      "<class 'bytes'>\n",
      "<class 'bytearray'>\n"
     ]
    }
   ],
   "source": [
    "l1=[10,20,30,40,255]\n",
    "b=bytes(l1)\n",
    "ba=bytearray(l1)\n",
    "print(type(b))\n",
    "print(type(ba))"
   ]
  },
  {
   "cell_type": "code",
   "execution_count": 15,
   "id": "b51c3e64-51ab-4ca6-87bb-7df9c916e72b",
   "metadata": {},
   "outputs": [
    {
     "name": "stdout",
     "output_type": "stream",
     "text": [
      "10\n",
      "20\n",
      "30\n",
      "40\n",
      "255\n",
      "40\n",
      "10\n",
      "20\n",
      "30\n",
      "40\n",
      "255\n"
     ]
    }
   ],
   "source": [
    "l1=[10,20,30,40,255]\n",
    "b=bytes(l1)\n",
    "#b.append(20)\n",
    "ba=bytearray(l1)\n",
    "ba.append(40)\n",
    "for ele in ba:\n",
    "    print(ele)\n",
    "\n",
    "for ele in b:\n",
    "    print(ele)"
   ]
  },
  {
   "cell_type": "code",
   "execution_count": 17,
   "id": "9895a9e2-7795-4421-95d4-17d651ee532a",
   "metadata": {},
   "outputs": [
    {
     "name": "stdout",
     "output_type": "stream",
     "text": [
      "10\n",
      "20\n",
      "30\n",
      "40\n",
      "255\n"
     ]
    }
   ],
   "source": [
    "l1=[10,20,30,40,255]\n",
    "\n",
    "b=bytes(l1)\n",
    "#print(b)\n",
    "\n",
    "for ele in b:\n",
    "    print(ele)"
   ]
  },
  {
   "cell_type": "code",
   "execution_count": null,
   "id": "acc5a1c7-ab88-4d6b-91fa-1a2272f1d452",
   "metadata": {},
   "outputs": [],
   "source": []
  }
 ],
 "metadata": {
  "kernelspec": {
   "display_name": "Python 3 (ipykernel)",
   "language": "python",
   "name": "python3"
  },
  "language_info": {
   "codemirror_mode": {
    "name": "ipython",
    "version": 3
   },
   "file_extension": ".py",
   "mimetype": "text/x-python",
   "name": "python",
   "nbconvert_exporter": "python",
   "pygments_lexer": "ipython3",
   "version": "3.12.5"
  }
 },
 "nbformat": 4,
 "nbformat_minor": 5
}
