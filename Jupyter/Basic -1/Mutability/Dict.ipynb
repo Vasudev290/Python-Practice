{
 "cells": [
  {
   "cell_type": "code",
   "execution_count": 2,
   "id": "752d3862-4967-4922-a7a7-11ac9278be64",
   "metadata": {},
   "outputs": [
    {
     "name": "stdout",
     "output_type": "stream",
     "text": [
      "{}\n",
      "<class 'dict'>\n",
      "{'id': 101, 'name': 'Vasu', 'loc': 'Bangalore'}\n",
      "<class 'dict'>\n"
     ]
    }
   ],
   "source": [
    "#dict{}\n",
    "#Create dict {}\n",
    "\n",
    "emp={}\n",
    "user={'id':101,'name':'Vasu','loc':'Bangalore'}\n",
    "\n",
    "print(emp)\n",
    "print(type(emp))\n",
    "print(user)\n",
    "print(type(user))"
   ]
  },
  {
   "cell_type": "code",
   "execution_count": 4,
   "id": "6ba8e5af-f310-4231-8169-340c62c36898",
   "metadata": {},
   "outputs": [
    {
     "name": "stdout",
     "output_type": "stream",
     "text": [
      "101\n",
      "Vasu\n",
      "Bangalore\n"
     ]
    }
   ],
   "source": [
    "#Read\n",
    "emp={}\n",
    "user={'id':101,'name':'Vasu','loc':'Bangalore'}\n",
    "\n",
    "print(user['id'])\n",
    "print(user['name'])\n",
    "print(user['loc'])"
   ]
  },
  {
   "cell_type": "code",
   "execution_count": 7,
   "id": "45a6a200-73e6-4ccc-b029-2ddc0d9b97f0",
   "metadata": {},
   "outputs": [
    {
     "name": "stdout",
     "output_type": "stream",
     "text": [
      "{'id': 101, 'name': 'Vasu Dev', 'loc': 'Bangalore', 'sal': 45500, 'email': 'Vasudev@gmail.com'}\n"
     ]
    }
   ],
   "source": [
    "#Update\n",
    "user={'id':101,'name':'Vasu','loc':'Bangalore', 'sal': 350000}\n",
    "user['name'] =  \"Vasu Dev\"\n",
    "user['sal'] = 45500\n",
    "user['email'] = \"Vasudev@gmail.com\"\n",
    "print(user)"
   ]
  },
  {
   "cell_type": "code",
   "execution_count": 8,
   "id": "f0288956-2988-4721-ae23-2a3864ca60ee",
   "metadata": {},
   "outputs": [
    {
     "name": "stdout",
     "output_type": "stream",
     "text": [
      "{'id': 101, 'name': 'Vasu', 'loc': 'Bangalore'}\n"
     ]
    }
   ],
   "source": [
    "#Delete\n",
    "user={'id':101,'name':'Vasu','loc':'Bangalore', 'sal': 350000}\n",
    "del user ['sal']\n",
    "print(user)"
   ]
  },
  {
   "cell_type": "code",
   "execution_count": null,
   "id": "838c29a0-7e77-4467-94b1-5772fde3ce16",
   "metadata": {},
   "outputs": [],
   "source": []
  }
 ],
 "metadata": {
  "kernelspec": {
   "display_name": "Python 3 (ipykernel)",
   "language": "python",
   "name": "python3"
  },
  "language_info": {
   "codemirror_mode": {
    "name": "ipython",
    "version": 3
   },
   "file_extension": ".py",
   "mimetype": "text/x-python",
   "name": "python",
   "nbconvert_exporter": "python",
   "pygments_lexer": "ipython3",
   "version": "3.12.7"
  }
 },
 "nbformat": 4,
 "nbformat_minor": 5
}
