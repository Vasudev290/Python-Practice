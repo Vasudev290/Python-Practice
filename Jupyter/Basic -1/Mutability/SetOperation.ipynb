{
 "cells": [
  {
   "cell_type": "code",
   "execution_count": 11,
   "id": "3de8986a-bdac-40a7-b3cf-06e4647b5c1a",
   "metadata": {},
   "outputs": [
    {
     "name": "stdout",
     "output_type": "stream",
     "text": [
      "{50, 20, 40, 10, 30}\n",
      "{70, 40, 10, 50, 20, 60, 30}\n",
      "{70, 40, 10, 50, 20, 60, 30}\n",
      "{10, 20}\n",
      "{10, 20}\n",
      "{60, 70}\n",
      "{40, 50, 30}\n",
      "{40, 50, 30}\n",
      "{40, 50, 30}\n",
      "{20, 70, 10, 60}\n",
      "{20, 70, 10, 60}\n",
      "{20, 70, 10, 60}\n"
     ]
    }
   ],
   "source": [
    "#Set Operation\n",
    "s1= {10,20,30,40,50}\n",
    "s2= {30,40,50,60,70}\n",
    "\n",
    "#union method\n",
    "print(s1)\n",
    "print(s1.union(s2))\n",
    "print(s1 | s2)   #or operation\n",
    "# {50, 20, 40, 10, 30}\n",
    "# {70, 40, 10, 50, 20, 60, 30}\n",
    "\n",
    "#difference\n",
    "print(s1.difference(s2))  #{10, 20}\n",
    "print(s1 -  s2)  #{10, 20} minus\n",
    "print(s2.difference(s1))  #{60, 70}\n",
    "\n",
    "#intersection\n",
    "print(s1.intersection(s2))   #{40, 50, 30}\n",
    "print(s1 & s2)   #{40, 50, 30} and operation\n",
    "print(s2.intersection(s1))   #{40, 50, 30}\n",
    "\n",
    "#symetric_difference\n",
    "print(s1.symmetric_difference(s2))  #{20, 70, 10, 60}\n",
    "print(s1 ^ s2)  #{20, 70, 10, 60} cap symbal\n",
    "print(s2.symmetric_difference(s1))  #{20, 70, 10, 60}"
   ]
  },
  {
   "cell_type": "code",
   "execution_count": null,
   "id": "c5a4a64d-96cd-4069-933d-9ef7bdfbaf2e",
   "metadata": {},
   "outputs": [],
   "source": []
  }
 ],
 "metadata": {
  "kernelspec": {
   "display_name": "Python 3 (ipykernel)",
   "language": "python",
   "name": "python3"
  },
  "language_info": {
   "codemirror_mode": {
    "name": "ipython",
    "version": 3
   },
   "file_extension": ".py",
   "mimetype": "text/x-python",
   "name": "python",
   "nbconvert_exporter": "python",
   "pygments_lexer": "ipython3",
   "version": "3.12.7"
  }
 },
 "nbformat": 4,
 "nbformat_minor": 5
}
