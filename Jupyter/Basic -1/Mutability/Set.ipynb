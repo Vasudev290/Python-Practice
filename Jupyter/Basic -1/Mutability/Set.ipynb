{
 "cells": [
  {
   "cell_type": "code",
   "execution_count": 3,
   "id": "6b7a39c8-4940-4967-ac0b-4d7bb6d477c1",
   "metadata": {},
   "outputs": [],
   "source": [
    "set\n",
    "\n",
    "#Create\n",
    "obj={10,20,30,40,50,60,70,80,90}\n"
   ]
  },
  {
   "cell_type": "code",
   "execution_count": 4,
   "id": "3ff6fd3d-9cd4-4f2c-baaf-87d6920f997a",
   "metadata": {},
   "outputs": [
    {
     "name": "stdout",
     "output_type": "stream",
     "text": [
      "{70, 40, 10, 80, 50, 20, 90, 60, 30}\n",
      "<class 'set'>\n"
     ]
    }
   ],
   "source": [
    "#Read\n",
    "obj={10,20,30,40,50,60,70,80,90}\n",
    "print(obj)\n",
    "print(type(obj))"
   ]
  },
  {
   "cell_type": "code",
   "execution_count": 7,
   "id": "28c62802-5426-4ddc-9a8f-c628cdaadd2a",
   "metadata": {},
   "outputs": [
    {
     "name": "stdout",
     "output_type": "stream",
     "text": [
      "{100, 70, 40, 10, 80, 50, 20, 90, 60, 30}\n",
      "{100, 70, 40, 10, 110, 80, 112, 50, 20, 90, 60, 30}\n"
     ]
    }
   ],
   "source": [
    "#Update\n",
    "\n",
    "#Add\n",
    "obj={10,20,30,40,50,60,70,80,90}\n",
    "obj.add(100)\n",
    "print(obj)\n",
    "\n",
    "#Update\n",
    "obj.update({110, 112})\n",
    "print(obj)"
   ]
  },
  {
   "cell_type": "code",
   "execution_count": 11,
   "id": "3d6dc6b9-26fb-4560-92ff-802e55460bc6",
   "metadata": {},
   "outputs": [
    {
     "name": "stdout",
     "output_type": "stream",
     "text": [
      "{40, 10, 80, 50, 20, 90, 60, 30}\n",
      "{40, 10, 50, 20, 90, 60, 30}\n",
      "{40, 50, 20, 90, 60, 30}\n",
      "set()\n"
     ]
    }
   ],
   "source": [
    "#Delete\n",
    "\n",
    "#pop()\n",
    "obj={10,20,30,40,50,60,70,80,90}\n",
    "obj.pop()\n",
    "print(obj)\n",
    "\n",
    "#Remove\n",
    "obj.remove(80)\n",
    "print(obj)\n",
    "\n",
    "#Discard\n",
    "obj.discard(10)\n",
    "print(obj)\n",
    "\n",
    "#Clear\n",
    "obj.clear()\n",
    "print(obj)"
   ]
  },
  {
   "cell_type": "code",
   "execution_count": null,
   "id": "9f37bc9f-a6f2-4727-ba24-5af1862d60fb",
   "metadata": {},
   "outputs": [],
   "source": []
  }
 ],
 "metadata": {
  "kernelspec": {
   "display_name": "Python 3 (ipykernel)",
   "language": "python",
   "name": "python3"
  },
  "language_info": {
   "codemirror_mode": {
    "name": "ipython",
    "version": 3
   },
   "file_extension": ".py",
   "mimetype": "text/x-python",
   "name": "python",
   "nbconvert_exporter": "python",
   "pygments_lexer": "ipython3",
   "version": "3.12.7"
  }
 },
 "nbformat": 4,
 "nbformat_minor": 5
}
