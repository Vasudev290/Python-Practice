{
 "cells": [
  {
   "cell_type": "code",
   "execution_count": 10,
   "id": "9c81b524-76b0-420b-942b-7a72ed8ac0bc",
   "metadata": {},
   "outputs": [
    {
     "name": "stdout",
     "output_type": "stream",
     "text": [
      "Vasu\n",
      "Dev\n",
      "Anil\n",
      "Vijay\n",
      "Surya\n",
      "Chaithanya\n",
      "Bangalore\n",
      "Marthahalli\n",
      "Chennai\n",
      "Chennai\n",
      "Chennai\n",
      "Bangalore\n",
      "520000\n"
     ]
    }
   ],
   "source": [
    "#Dict Assignment\n",
    "employee = [\n",
    "            {'id':101,'name':'Vasu','age':23,'email':'vasu@gmail.com','loc':'Bangalore','sal':45000},\n",
    "            {'id':102,'name':'Dev','age':23,'email':'dev@gmail.com','loc':'Marthahalli','sal':55000},\n",
    "            {'id':103,'name':'Anil','age':24,'email':'anil@gmail.com','loc':'Chennai','sal':65000},\n",
    "            {'id':104,'name':'Vijay','age':25,'email':'vijay@gmail.com','loc':'Chennai','sal':75000},\n",
    "            {'id':105,'name':'Surya','age':23,'email':'surya@gmail.com','loc':'Chennai','sal':185000},\n",
    "            {'id':106,'name':'Chaithanya','age':25,'email':'chaithanya@gmail.com','loc':'Bangalore','sal':95000}\n",
    "           ]\n",
    "#print all employee names\n",
    "#print(employee)\n",
    "for emp in employee:\n",
    "    print(emp['name'])\n",
    "\n",
    "#Print all employee location\n",
    "for e in employee:\n",
    "    print(e.get('loc'))\n",
    "\n",
    "\n",
    "#print all employee salary\n",
    "total = 0\n",
    "for sal in employee:\n",
    "    total = total + sal['sal']\n",
    "print(total)\n",
    "\n"
   ]
  },
  {
   "cell_type": "code",
   "execution_count": null,
   "id": "3b434d55-9a97-44aa-8c49-e13ef986c8e5",
   "metadata": {},
   "outputs": [],
   "source": []
  }
 ],
 "metadata": {
  "kernelspec": {
   "display_name": "Python 3 (ipykernel)",
   "language": "python",
   "name": "python3"
  },
  "language_info": {
   "codemirror_mode": {
    "name": "ipython",
    "version": 3
   },
   "file_extension": ".py",
   "mimetype": "text/x-python",
   "name": "python",
   "nbconvert_exporter": "python",
   "pygments_lexer": "ipython3",
   "version": "3.12.7"
  }
 },
 "nbformat": 4,
 "nbformat_minor": 5
}
