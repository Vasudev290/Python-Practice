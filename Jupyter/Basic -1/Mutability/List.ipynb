{
 "cells": [
  {
   "cell_type": "code",
   "execution_count": 7,
   "id": "948a2763-aa9d-4f5c-a58f-e90586adf484",
   "metadata": {},
   "outputs": [
    {
     "name": "stdout",
     "output_type": "stream",
     "text": [
      "[10, 20, 30, 40, 50, 60, 70, 80, 90, 100, 110, 120]\n"
     ]
    }
   ],
   "source": [
    "#List CRUD Operations\n",
    "#Create\n",
    "l1 = [10,20,30,40,50,60,70,80,90,100,110,120]\n",
    "print(l1)"
   ]
  },
  {
   "cell_type": "code",
   "execution_count": 12,
   "id": "6f512549-a382-4280-99e8-970e3448e056",
   "metadata": {},
   "outputs": [
    {
     "name": "stdout",
     "output_type": "stream",
     "text": [
      "4\n",
      "2\n"
     ]
    }
   ],
   "source": [
    "#Read\n",
    "l1 = [10,20,30,40,50,50,60,70,80,90,100,110,120]\n",
    "\n",
    "#index\n",
    "print(l1.index(50))\n",
    "\n",
    "#count\n",
    "print(l1.count(50))\n"
   ]
  },
  {
   "cell_type": "code",
   "execution_count": 19,
   "id": "5ebe95a9-2914-4656-8e23-5679be307096",
   "metadata": {},
   "outputs": [
    {
     "name": "stdout",
     "output_type": "stream",
     "text": [
      "[10, 20, 30, 40, 50, 60, 70, 80, 90, 100, 110, 120, 130]\n",
      "[10, 20, 30, 40, 50, 60, 70, 80, 90, 100, 110, 120, 130, 20, 40, 50, 70, 90]\n",
      "[90, 70, 50, 40, 20, 130, 120, 110, 100, 90, 80, 70, 60, 50, 40, 30, 20, 10]\n",
      "[10, 20, 20, 30, 40, 40, 50, 50, 60, 70, 70, 80, 90, 90, 100, 110, 120, 130]\n",
      "['Aarthi', 'Arun', 'Chinnu', 'Kiran', 'Sush', 'Vinnu']\n",
      "['Vinnu', 'Sush', 'Kiran', 'Chinnu', 'Arun', 'Aarthi']\n"
     ]
    }
   ],
   "source": [
    "#Update\n",
    "l1 = [10,20,30,40,50,60,70,80,90,100,110,120]\n",
    "l2 = [20,40,50,70,90]\n",
    "\n",
    "enames = ['Arun', 'Kiran', 'Vinnu', 'Chinnu', 'Aarthi', 'Sush']\n",
    "#append\n",
    "l1.append(130)\n",
    "print(l1)  #[10, 20, 30, 40, 50, 60, 70, 80, 90, 100, 110, 120, 130]\n",
    "\n",
    "#extends\n",
    "l1.extend(l2)\n",
    "print(l1)  #[10, 20, 30, 40, 50, 60, 70, 80, 90, 100, 110, 120, 130, 20, 40, 50, 70, 90]\n",
    "\n",
    "#reverse\n",
    "l1.reverse()\n",
    "print(l1)   #[90, 70, 50, 40, 20, 130, 120, 110, 100, 90, 80, 70, 60, 50, 40, 30, 20, 10]\n",
    "\n",
    "#sort\n",
    "l1.sort()\n",
    "print(l1)  #[10, 20, 20, 30, 40, 40, 50, 50, 60, 70, 70, 80, 90, 90, 100, 110, 120, 130]\n",
    "\n",
    "enames.sort()\n",
    "print(enames)  #['Aarthi', 'Arun', 'Chinnu', 'Kiran', 'Sush', 'Vinnu']\n",
    "\n",
    "enames.sort(reverse = True)\n",
    "print(enames) #['Vinnu', 'Sush', 'Kiran', 'Chinnu', 'Arun', 'Aarthi']\n"
   ]
  },
  {
   "cell_type": "code",
   "execution_count": 24,
   "id": "a156f48f-20dd-4e23-9a30-ae9005283581",
   "metadata": {},
   "outputs": [
    {
     "name": "stdout",
     "output_type": "stream",
     "text": [
      "[10, 20, 30, 40, 50, 60, 70, 80, 90, 100, 110]\n",
      "[10, 20, 30, 40, 50, 60, 80, 90, 100, 110]\n"
     ]
    }
   ],
   "source": [
    "#Delete\n",
    "l1 = [10,20,30,40,50,60,70,80,90,100,110,120]\n",
    "\n",
    "#pop\n",
    "l1.pop()\n",
    "print(l1)  3[10, 20, 30, 40, 50, 60, 70, 80, 90, 100, 110]\n",
    "\n",
    "\n",
    "#Remove\n",
    "l1.remove(70)\n",
    "print(l1)  #[10, 20, 30, 40, 50, 60, 80, 90, 100, 110]\n",
    "\n",
    "#clear\n",
    "l1.clear()\n",
    "print(l1)  #[]"
   ]
  },
  {
   "cell_type": "code",
   "execution_count": null,
   "id": "39762cbb-3800-43a5-a2ee-b04fa65e9fe8",
   "metadata": {},
   "outputs": [],
   "source": []
  }
 ],
 "metadata": {
  "kernelspec": {
   "display_name": "Python 3 (ipykernel)",
   "language": "python",
   "name": "python3"
  },
  "language_info": {
   "codemirror_mode": {
    "name": "ipython",
    "version": 3
   },
   "file_extension": ".py",
   "mimetype": "text/x-python",
   "name": "python",
   "nbconvert_exporter": "python",
   "pygments_lexer": "ipython3",
   "version": "3.12.7"
  }
 },
 "nbformat": 4,
 "nbformat_minor": 5
}
