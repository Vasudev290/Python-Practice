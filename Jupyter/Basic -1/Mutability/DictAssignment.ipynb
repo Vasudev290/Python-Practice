{
 "cells": [
  {
   "cell_type": "code",
   "execution_count": 4,
   "id": "2135f4d6-66bb-47d9-ba59-0e5690ff36f1",
   "metadata": {},
   "outputs": [
    {
     "name": "stdout",
     "output_type": "stream",
     "text": [
      "[9360390830, 9360390830, 9360390830, 9360390830]\n",
      "{9360390830}\n"
     ]
    }
   ],
   "source": [
    "#Dict Assignment\n",
    "\n",
    "customer = [\n",
    "    {'id':101, 'name':'Vasu', 'mobile':9360390830},\n",
    "    {'id':102, 'name':'Dev', 'mobile':9360390830},\n",
    "    {'id':103, 'name':'Kiran', 'mobile':9360390830},\n",
    "    {'id':104, 'name':'Kumar', 'mobile':9360390830}\n",
    "]\n",
    "\n",
    "#List\n",
    "mobile_no = []\n",
    "for cus in customer:\n",
    "    mobile_no.append(cus['mobile'])\n",
    "print(mobile_no)    #[9360390830, 9360390830, 9360390830, 9360390830]\n",
    "\n",
    "#Set\n",
    "mobile_no = set()\n",
    "for cust in customer:\n",
    "    mobile_no.add(cust['mobile'])\n",
    "print(mobile_no)    #{9360390830}"
   ]
  },
  {
   "cell_type": "code",
   "execution_count": null,
   "id": "fc8c3d1d-11e2-4136-a3a4-8a9fc7780af1",
   "metadata": {},
   "outputs": [],
   "source": []
  },
  {
   "cell_type": "code",
   "execution_count": null,
   "id": "add837da-710e-447b-9340-a3ed3f321555",
   "metadata": {},
   "outputs": [],
   "source": []
  }
 ],
 "metadata": {
  "kernelspec": {
   "display_name": "Python 3 (ipykernel)",
   "language": "python",
   "name": "python3"
  },
  "language_info": {
   "codemirror_mode": {
    "name": "ipython",
    "version": 3
   },
   "file_extension": ".py",
   "mimetype": "text/x-python",
   "name": "python",
   "nbconvert_exporter": "python",
   "pygments_lexer": "ipython3",
   "version": "3.12.7"
  }
 },
 "nbformat": 4,
 "nbformat_minor": 5
}
